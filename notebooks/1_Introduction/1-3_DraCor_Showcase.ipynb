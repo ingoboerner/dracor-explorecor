{
 "cells": [
  {
   "cell_type": "markdown",
   "id": "796a4fdb-00df-42a7-b139-a70bae1a78c2",
   "metadata": {
    "editable": true,
    "slideshow": {
     "slide_type": ""
    },
    "tags": []
   },
   "source": [
    "(chapter-1-3)=\n",
    "# 1.3 Using DraCor: Four Showcases"
   ]
  },
  {
   "cell_type": "markdown",
   "id": "bd986208-22d0-45cc-9d38-5c2d69cd72df",
   "metadata": {
    "editable": true,
    "slideshow": {
     "slide_type": ""
    },
    "tags": []
   },
   "source": [
    "In this section we will give an idea of possible uses of DraCor as a prototype of a *Programmable Corpus Enviroinment* by showcasing four examples which are included in this Jupyter Notebook[^source_of_notebook]:\n",
    "\n",
    "[^source_of_notebook]: This Jupyter Notebook is based on CLS INFRA Deliverable D7.1 {cite:p}`boerner_2023_report`. The showcases have been adapted to the latest major DraCor API Version 1.0 and the use Python whenever possible.\n",
    "\n",
    "* first, a basic one-click download of modeled text data;\n",
    "* second, an approach to geo-based visualization of corpus metadata using Linked Open Data;\n",
    "* third, an API-based approach to standardized extraction of specific textual data across different corpora; and\n",
    "* fourth, a method-based approach based on Social Network Analysis metrics."
   ]
  },
  {
   "cell_type": "markdown",
   "id": "fc574d35-d6c5-40cb-943f-322cbb2ef4cc",
   "metadata": {
    "editable": true,
    "slideshow": {
     "slide_type": ""
    },
    "tags": []
   },
   "source": [
    "(section-1-3-1)=\n",
    "## 1.3.1 Showcase 1: One-Click Download of Modeled Text Data"
   ]
  },
  {
   "cell_type": "markdown",
   "id": "bf8e1eb4-f1a8-478e-b801-cb40a2772ec0",
   "metadata": {
    "editable": true,
    "slideshow": {
     "slide_type": ""
    },
    "tags": []
   },
   "source": [
    "When considering an ecosystem for Computational Literary Studies, one usually thinks of\n",
    "applications that operate at a relatively sophisticated technical resp. computational level. But\n",
    "actually, it is central to the development of the discipline and its infrastructures that it remains\n",
    "accessible even to novices and beginners. It is also for this reason that an essential component\n",
    "of DraCor is a user-friendly front-end that, on the one hand, provides a set of\n",
    "services with an easily accessible graphical user interface (GUI) and, on the other hand, allows\n",
    "access to the corpora data with as little technical expertise as possible. The frontend with its\n",
    "graphical user interface thus also assumes didactic functions: Texts can be easily navigated\n",
    "through various tabs and viewed in different shapes and modes of modeling.\n",
    "\n",
    "For example, any play from the corpora contained in DraCor can be displayed in a text\n",
    "view that does not differ significantly from classic ways of displaying texts in e-readers or web\n",
    "browsers (see {numref}`fulltext-view`). While texts appear in such a full-text view as conventional epistemic\n",
    "objects of literary studies (ready for close reading), after a tab change (see {numref}`download-tab`), one-click\n",
    "downloads of differently modeled derivations from these full texts can be downloaded for “distant\n",
    "reading” (Moretti 2013)."
   ]
  },
  {
   "cell_type": "markdown",
   "id": "bf108f47-00b1-42da-937f-81f2da6923e7",
   "metadata": {},
   "source": [
    "% Figure is rendered in the HTML output here\n",
    "\n",
    "```{figure} ./images/fulltext-view.png\n",
    "---\n",
    "width: 600px\n",
    "name: fulltext-view\n",
    "---\n",
    "Full text view of a DraCor play in the front-end\n",
    "```"
   ]
  },
  {
   "cell_type": "markdown",
   "id": "bbe26314-cebd-40be-8d2a-1ad242296abd",
   "metadata": {},
   "source": [
    "% Figure is rendered in the HTML output here\n",
    "\n",
    "```{figure} ./images/download-tab.png\n",
    "---\n",
    "width: 600px\n",
    "name: download-tab\n",
    "---\n",
    "Download options for a DraCor play in the front-end\n",
    "```"
   ]
  },
  {
   "cell_type": "markdown",
   "id": "0bc47ec7-a76d-408c-8ef9-a2397ab78f3a",
   "metadata": {
    "editable": true,
    "slideshow": {
     "slide_type": ""
    },
    "tags": []
   },
   "source": [
    "This allows DraCor to introduce the different epistemic and technical manifestations of text in the CLS in an easily accessible way. Furthermore, it is also possible to work with these modeled text data immediately, which allows a quick introduction to methods and tools of the CLS.\n",
    "\n",
    "For this showcase, we choose to use the data of a co-occurrence network (i.e. a network of characters connected via their co-presence on the stage), downloading the XML-based GEXF format that can be opened with open source programming libraries such as [networkx](https://networkx.org) {cite:p}`hagberg_2008_networkx` or the widely used open source desktop software [Gephi](https://gephi.org) {cite:p}`bastian_2009_gephi`. With a few clicks after the download, it is thus possible to create a network graph (see Fig. 03) that now allows the literary text to be viewed in an entirely different modeling mode, predestined for distant reading {cite:p}`moretti_2011_network`."
   ]
  },
  {
   "cell_type": "markdown",
   "id": "34e93ebd-83f0-4cbe-983c-e5055975726f",
   "metadata": {},
   "source": [
    "% Figure is rendered in the HTML output here\n",
    "\n",
    "```{figure} ./images/gephi-oneclick-networkgraph.png\n",
    "---\n",
    "width: 600px\n",
    "name: gephi-oneclick-networkgraph\n",
    "---\n",
    "Network visualization with Gephi, based on a DraCor one-click download\n",
    "```"
   ]
  },
  {
   "cell_type": "markdown",
   "id": "20d9a2c0-e991-43a5-b317-044b5dc19224",
   "metadata": {
    "editable": true,
    "slideshow": {
     "slide_type": ""
    },
    "tags": []
   },
   "source": [
    "In Session 5 on Wednesday we will demonstrate how do do network analysis with DraCor in Gephi."
   ]
  },
  {
   "cell_type": "markdown",
   "id": "b0569a06-908e-48a6-8d5b-be4fd2affa66",
   "metadata": {
    "editable": true,
    "slideshow": {
     "slide_type": ""
    },
    "tags": []
   },
   "source": [
    "(section-1-3-2)=\n",
    "## 1.3.2 Showcase 2: Geo-Mapping Locations of First Performances"
   ]
  },
  {
   "cell_type": "markdown",
   "id": "97ad0890-da09-4830-ba14-212c53585b04",
   "metadata": {
    "editable": true,
    "slideshow": {
     "slide_type": ""
    },
    "tags": []
   },
   "source": [
    "However, DraCor's beginner-friendly front-end is just one way to access and use the data in this\n",
    "Programmable Corpus. Instead, the computational literary scholar will usually access the data\n",
    "either directly in the form of the TEI-XML[^tei] or via the various APIs and API endpoints. In the\n",
    "following showcase, the focus is on DraCor’s SPARQL[^sparql] endpoint.\n",
    "\n",
    "[^tei]: TEI-XML is a type of the XML format that complies the standards defined by the “Text Encoding Initiative (TEI)”, cf. [https://tei-c.org](https://tei-c.org)\n",
    "\n",
    "[^sparql]: [SPARQL Specification](https://www.w3.org/TR/sparql11-query). A tutorial on how to use SPARQL to query Wikidata can be accessed at [https://www.wikidata.org/wiki/Wikidata:SPARQL_tutorial](https://www.wikidata.org/wiki/Wikidata:SPARQL_tutorial)\n",
    "\n",
    "During the homogenization of metadata that theater plays undergo as part of the\n",
    "integration into the DraCor environment, [Wikidata identifiers](https://www.wikidata.org/wiki/Wikidata:Identifiers) (entity IDs) for both authors and\n",
    "individual works are typically included in the metadata of each play encoded in the <teiHeader>.\n",
    "For example, for the German-language bourgeois tragedy “Emilia Galloti” by Gotthold Ephraim\n",
    "Lessing this data is available in DraCor (`<idno @type=\"wikidata\">`). First for the author:[^author_wikidata_encoding_example]\n",
    "\n",
    "\n",
    "[^author_wikidata_encoding_example]: [Source of the cited code snippet](https://github.com/dracor-org/gerdracor/blob/3dc874101e2d10d687510aeb5ff8a907331843c1/tei/lessing-emilia-galotti.xml#L10-L18)\n",
    "\n",
    "\n",
    "```\n",
    "<author>\n",
    "    <persName>\n",
    "        <forename>Gotthold</forename>.\n",
    "        <forename>Ephraim</forename>\n",
    "        <surname>Lessing</surname>\n",
    "    </persName>\n",
    "    <idno type=\"wikidata\">Q34628</idno>\n",
    "    <idno type=\"pnd\">118572121</idno>\n",
    "</author>\n",
    "```\n",
    "\n",
    "Then for the individual work:[^link_to_wikidata_example]\n",
    "\n",
    "```\n",
    "<listRelation>\n",
    "    <relation name=\"wikidata\" active=\"https://dracor.org/entity/ger000088\"\n",
    "        passive=\"http://www.wikidata.org/entity/Q782653\"/>\n",
    "</listRelation>\n",
    "```\n",
    "\n",
    "[^link_to_wikidata_example]: [Source of the cited code snippet](https://github.com/dracororg/gerdracor/blob/3dc874101e2d10d687510aeb5ff8a907331843c1/tei/lessing-emilia-galotti.xml#L122-L124)\n",
    "\n",
    "Thanks to this metadata, the plays in DraCor can be linked to further information from, among others, [Wikidata](https://www.wikidata.org)[^dracor_wikidata_property], thus be embedded in the wide ecosystem of Linked Open Data and thereby benefit from the often crowd-based data enrichment projects in the World Wide Web. For example, numerous Wikidata entries on plays contain information about the “location of first performances”.[^location_of_first_performance_property] In the case of Lessing's \"Emilia Galotti\", this location is the \"Hagenmarkt-Theater\", which also has a [Wikidata entry](https://www.wikidata.org/wiki/Q1270860). The entry for \"location of the first performance\" in\n",
    "Wikidata has information about its \"coordinate location\",[^coordinates_property] which provides the corresponding\n",
    "geodata (52°16'1.9\" N, 10°31'28.9\" E). This embedding of DraCor plays in the Linked Open Data\n",
    "Cloud now makes it possible to run SPARQL queries for the entire corpora, for example. \n",
    "\n",
    "[^dracor_wikidata_property]: On Wikidata DraCor IDs are recorded with the DraCor property `P12233`, cf. [https://www.wikidata.org/wiki/Property:P12233](https://www.wikidata.org/wiki/Property:P12233). The DraCor API provides a [\"Mix'n'match\" endpoint](https://dracor.org/doc/api#/wikidata/wikidata-mixnmatch) to allow the Wikidata system to harvest DraCor identifiers, cf. [https://meta.wikimedia.org/wiki/Mix'n'match/Import](https://meta.wikimedia.org/wiki/Mix'n'match/Import). If you want to learn more about DraCor and Wikidata ask for it in the \"Open Topics\"-Session on Wednesday. \n",
    "\n",
    "[^location_of_first_performance_property]: Wikidata Property `P4647`, see [https://www.wikidata.org/wiki/Property:P4647](https://www.wikidata.org/wiki/Property:P4647) for more information.\n",
    "\n",
    "[^coordinates_property]:Wikidata Property `P625`, see [https://www.wikidata.org/wiki/Property:P625](https://www.wikidata.org/wiki/Property:P625) for more information."
   ]
  },
  {
   "cell_type": "markdown",
   "id": "f3edef78-9984-49e7-87c7-35ee1209cac1",
   "metadata": {},
   "source": [
    "In the following we will use the SPARQL endpoint of the staging DraCor System at [https://staging.dracor.org/sparql](https://staging.dracor.org/sparql)[^sparql_intro]. We will send a SPARQL query using the Python package `SPARQLWrapper` which provides a convenient way to combine Python and SPARQL. The query we are going to use will retrieve plays contained in the German Drama Corpus (GerDraCor) that are linked to a Wikidata entity. For each such play it will query Wikidata and retrieve the location of the first performance (in most cases a theatre) and its coordinates. We then simplify the returned data structure and turn it into a [GeoPandas](https://geopandas.org) dataframe which will be used to display a map.\n",
    "\n",
    "[^sparql_intro]: For a (slightly outdated) introduction to SPARQL and LOD with DraCor see [this notebook](https://github.com/dracor-org/dracor-notebooks/blob/lod-intro/lod-intro/lod-intro.ipynb). The RDF-Serialization of the DraCor data is currently under development. Meanwhile the SPARQL interface of the production instance of DraCor at (dracor.org)[https://dracor.org] is deactiveated. For testing purposes the staging instance of DraCor can be used. The data is modeled according to an old version of the [DraCor Ontlogy](https://vowl.acdh.oeaw.ac.at/#iri=https://raw.githubusercontent.com/dracor-org/dracor-schema/ontology/ontology/dracor-ontology.xml). "
   ]
  },
  {
   "cell_type": "code",
   "execution_count": null,
   "id": "7040f948-c9be-4459-be32-60c470f4711a",
   "metadata": {},
   "outputs": [],
   "source": [
    "# Import packages (These are pre-installed in the Docker container)\n",
    "\n",
    "from SPARQLWrapper import SPARQLWrapper, JSON\n",
    "import pandas as pd\n",
    "import geopandas as gpd\n",
    "from shapely import wkt"
   ]
  },
  {
   "cell_type": "markdown",
   "id": "16ca6b70-2bdf-4820-ad41-cbfe864ca22a",
   "metadata": {},
   "source": [
    "After importing the needed Python packages we assign the federated SPARQL query to a variable:"
   ]
  },
  {
   "cell_type": "code",
   "execution_count": null,
   "id": "72bfe5f2-aa77-4be8-90f8-8dbfffb1e9ec",
   "metadata": {},
   "outputs": [],
   "source": [
    "# Federated Queries (i.e. using multiple SPARQL endpoints to combine information) tend to be slow. \n",
    "# The query below results in frequent timeouts if the limit clause (\"LIMIT\") is set to a resonable number \n",
    "# (i.e. GerDraCor contains somehat 700 plays). You can increase the limit but maybe have to run the cell multiple times until it works.\n",
    "\n",
    "query = \"\"\"\n",
    "PREFIX owl: <http://www.w3.org/2002/07/owl#>\n",
    "PREFIX urn: <http://fliqz.com/>\n",
    "PREFIX dracon:<http://dracor.org/ontology#>\n",
    "PREFIX wd: <http://www.wikidata.org/entity/>\n",
    "PREFIX wdt: <http://www.wikidata.org/prop/direct/>\n",
    "PREFIX rdfs: <http://www.w3.org/2000/01/rdf-schema#>\n",
    "\n",
    "SELECT * FROM <urn:x-arq:UnionGraph> WHERE {\n",
    "  ?play dracon:in_corpus <https://dracor.org/ger> ;\n",
    "        owl:sameAs ?wd .\n",
    "  \n",
    "  SERVICE <https://query.wikidata.org/sparql> {\n",
    "  ?wd wdt:P4647 ?location ;\n",
    "      rdfs:label ?playLabel .\n",
    "  \n",
    "  ?location wdt:P625 ?coords ;\n",
    "         rdfs:label ?locationLabel .\n",
    "\n",
    "    FILTER (lang(?locationLabel) = \"en\")\n",
    "    FILTER (lang(?playLabel) = \"de\")\n",
    "  }\n",
    "}\n",
    "LIMIT 200\n",
    "\"\"\""
   ]
  },
  {
   "cell_type": "markdown",
   "id": "8643ec0b-3c77-4e06-8a81-b26af61b82ca",
   "metadata": {},
   "source": [
    "You can also test the [SPARQL query](https://staging.dracor.org/sparql#query=PREFIX%20owl%3A%20%3Chttp%3A%2F%2Fwww.w3.org%2F2002%2F07%2Fowl%23%3E%0APREFIX%20urn%3A%20%3Chttp%3A%2F%2Ffliqz.com%2F%3E%0APREFIX%20dracon%3A%3Chttp%3A%2F%2Fdracor.org%2Fontology%23%3E%0APREFIX%20wd%3A%20%3Chttp%3A%2F%2Fwww.wikidata.org%2Fentity%2F%3E%0APREFIX%20wdt%3A%20%3Chttp%3A%2F%2Fwww.wikidata.org%2Fprop%2Fdirect%2F%3E%0APREFIX%20rdfs%3A%20%3Chttp%3A%2F%2Fwww.w3.org%2F2000%2F01%2Frdf-schema%23%3E%0A%0ASELECT%20*%20FROM%20%3Curn%3Ax-arq%3AUnionGraph%3E%20WHERE%20%7B%0A%20%20%3Fplay%20dracon%3Ain_corpus%20%3Chttps%3A%2F%2Fdracor.org%2Fger%3E%20%3B%0A%20%20%20%20%20%20%20%20owl%3AsameAs%20%3Fwd%20.%0A%20%20%0A%20%20SERVICE%20%3Chttps%3A%2F%2Fquery.wikidata.org%2Fsparql%3E%20%7B%0A%20%20%3Fwd%20wdt%3AP4647%20%3Flocation%20%3B%0A%20%20%20%20%20%20rdfs%3Alabel%20%3FplayLabel%20.%0A%20%20%0A%20%20%3Flocation%20wdt%3AP625%20%3Fcoords%20%3B%0A%20%20%20%20%20%20%20%20%20rdfs%3Alabel%20%3FlocationLabel%20.%0A%0A%20%20%20%20FILTER%20(lang(%3FlocationLabel)%20%3D%20%22en%22)%0A%20%20%20%20FILTER%20(lang(%3FplayLabel)%20%3D%20%22de%22)%0A%20%20%7D%0A%7D%0ALIMIT%20800&endpoint=https%3A%2F%2Fstaging.dracor.org%2Ffuseki%2Fsparql&requestMethod=POST&tabTitle=Location%20of%20first%20performances%20(GerDraCor)&headers=%7B%7D&contentTypeConstruct=application%2Fn-triples%2C*%2F*%3Bq%3D0.9&contentTypeSelect=application%2Fsparql-results%2Bjson%2C*%2F*%3Bq%3D0.9&outputFormat=table) in the [YASGUI](https://yasgui.triply.cc)-based DraCor SPARQL interface on the staging server. The following cell contains the Python code that sends the query:"
   ]
  },
  {
   "cell_type": "code",
   "execution_count": null,
   "id": "cea74bfb-bbc5-4ac3-a6d6-b0793771f8c3",
   "metadata": {},
   "outputs": [],
   "source": [
    "%%time\n",
    "\n",
    "# Send the SPARQL query to the staging.dracor.org server. \n",
    "# It will return the SPARQL results (including the \"bindings\") as JSON which are then converted to a Python-native data structure\n",
    "\n",
    "sparql = SPARQLWrapper(\"https://staging.dracor.org/fuseki/sparql\")\n",
    "sparql.setReturnFormat(JSON)\n",
    "sparql.addExtraURITag(\"timeout\",\"120000\")\n",
    "sparql.setQuery(query)\n",
    "results = sparql.queryAndConvert()"
   ]
  },
  {
   "cell_type": "markdown",
   "id": "6106556b-eecb-47df-ab5c-1f07790b79b4",
   "metadata": {},
   "source": [
    "The results are returned in the [SPARQL Query Results JSON Format](https://www.w3.org/TR/sparql12-results-json) and are simplified in the following cell. These data is turned into a GeoPandas Dataframe which can be explored as an interactive map."
   ]
  },
  {
   "cell_type": "code",
   "execution_count": null,
   "id": "98a941ad-0ba9-4cec-89b0-7a6989ba7bd9",
   "metadata": {},
   "outputs": [],
   "source": [
    "# Create a Pandas Dataframe/Geopandas Dataframe and explore the map\n",
    "simple_results = []\n",
    "for binding in results[\"results\"][\"bindings\"]:\n",
    "    item = {}\n",
    "    for key in binding.keys():\n",
    "        item[key] = binding[key][\"value\"]\n",
    "    simple_results.append(item)\n",
    "df = pd.DataFrame(simple_results)\n",
    "df['geometry'] = gpd.GeoSeries.from_wkt(df['coords'])\n",
    "gdf = gpd.GeoDataFrame(df, geometry=\"geometry\", crs=\"EPSG:4326\")\n",
    "gdf.explore()"
   ]
  },
  {
   "cell_type": "markdown",
   "id": "1e9b870e-332f-407b-bd9e-da1e9551baec",
   "metadata": {
    "editable": true,
    "slideshow": {
     "slide_type": ""
    },
    "tags": []
   },
   "source": [
    "(section-1-3-3)=\n",
    "## 1.3.3 Showcase 3: Extracting Stage Directions for NLP"
   ]
  },
  {
   "cell_type": "markdown",
   "id": "d626ea27-8097-42be-8ade-c3ca7b853c46",
   "metadata": {
    "editable": true,
    "slideshow": {
     "slide_type": ""
    },
    "tags": []
   },
   "source": [
    "While the previous showcase uses the SPARQL endpoint of our Programmable Corpora prototype DraCor, the following showcase uses the custom developed DraCor API. Alongside the TEI encoded DraCor plays are, among others, various XQuery-based extractor functions, which make it possible, via the DraCor API, to retrieve specific and standardized text segments and use them as input for, for example, Natural Language Processing (NLP) pipelines. Thus, for instance,the TEI-based structure of the data in DraCor can be used to address specific research questions, as in our next showcase.\n",
    "\n",
    "Again, the homogenization of the drama corpora in DraCor serves as a starting point for our showcase. During this homogenization, all plays are systematically structured in such a way that the speaker's text can be consistently differentiated from the stage directions. For this purpose, the corresponding TEI elements are used, where `<stage>`[^tei-stage-element] distinctly tags the text of the stage directions.20 \n",
    "\n",
    "[^tei-stage-element]: Cf. [Documentation of the element `<stage>`](https://www.tei-c.org/release/doc/tei-p5-doc/en/html/ref-stage.html).\n",
    "The following TEI snippet from Lessing’s “Emilia Galotti” exemplifies the data structure.\n",
    "\n",
    "```\n",
    "<sp who=\"#appiani\">\n",
    "    <speaker>APPIANI</speaker>\n",
    "    <stage>tritt tiefsinnig, mit vor sich hingeschlagnen Augen herein, und\n",
    "    kömmt ihnen näher, ohne sie zu erblicken; bis Emilia ihm entgegen\n",
    "    springt.</stage>\n",
    "    <p>Ah, meine Teuerste! – Ich war mir Sie in dem Vorzimmer nicht vermutend.</p>\n",
    "</sp>\n",
    "```\n",
    "\n",
    "Via the DraCor API it is now possible to get all stage directions of a play with the corresponding\n",
    "request URL: [https://dracor.org/api/v1/corpora/ger/plays/lessing-emilia-galotti/stage-directions](https://dracor.org/api/v1/corpora/ger/plays/lessing-emilia-galotti/stage-directions). \n",
    "\n",
    "In Session 5 on Tuesday we will explain how to use the DraCor API in Python. For demonstration purposes the following cell uses a \"shortcut\" function[^api_get] to request the data from the API and assign it to a variable. We then print an excerpt (some 500 characters) of the returned text data.\n",
    "\n",
    "[^api_get]: There are several ways to retrieve data from the web in Python. A generic way unsing the Python package `requests` will be explained in Session 5 on Tuesday. The function `api_get` is imported from in the `stabledracor`package which we will use in Session 6 on Wednesday. And, of course, there is the Python package [pydracor](https://github.com/dracor-org/pydracor) which provides even more convenient access to the DraCor API."
   ]
  },
  {
   "cell_type": "code",
   "execution_count": 15,
   "id": "9005a65e-30c5-4a52-b04d-2f3606ab840a",
   "metadata": {},
   "outputs": [
    {
     "name": "stdout",
     "output_type": "stream",
     "text": [
      "Die Szene, ein Kabinett des Prinzen.\n",
      "an einem Arbeitstische, voller Briefschaften und Papiere, deren einige er durchläuft.\n",
      "Indem er noch eine von den Bittschriften aufschlägt, und nach dem unterschriebnen Namen sieht.\n",
      "Er lieset.\n",
      "Er unterschreibt und klingelt; worauf ein Kammerdiener hereintritt.\n",
      "Der Kammerdiener geht ab.\n",
      "welcher wieder herein tritt.\n",
      "Der Kammerdiener geht ab.\n",
      "Bitter, indem er den Brief in die Hand nimmt.\n",
      "Und ihn wieder wegwirft.\n",
      "der nochmals herein tritt.\n",
      "Steht auf.\n",
      "Conti. Der Pr ...\n"
     ]
    }
   ],
   "source": [
    "from stabledracor.client import api_get\n",
    "\n",
    "emilia_galotti_stage_directions = api_get(\n",
    "    corpusname=\"ger\", \n",
    "    playname=\"lessing-emilia-galotti\", \n",
    "    method=\"stage-directions\", parse_json=False)\n",
    "\n",
    "print(f\"{emilia_galotti_stage_directions[0:500]} ...\")"
   ]
  },
  {
   "cell_type": "markdown",
   "id": "9045a89b-d288-4af7-8a06-bb36bb6dd59b",
   "metadata": {},
   "source": [
    "At the same time, it is possible to retrieve all the spoken texts of the plays via another endpoint. For\n",
    "Lessing’s “Emilia Galotti”, the corresponding request URL would be:\n",
    "https://dracor.org/api/v1/corpora/ger/plays/lessing-emilia-galotti/spoken-text."
   ]
  },
  {
   "cell_type": "markdown",
   "id": "970508f9-bd4d-4177-b5a2-6b0bec9d52c0",
   "metadata": {},
   "source": [
    "The obtained text can now be further processed in various ways. In an early showcase, {cite:ts}`trilcke_2020_opening` performed sentence splitting on the text data for all plays in the German-language drama corpus GerDraCor[^gerdracor_used_for_stage_direction_paper] and then compared the average sentence lengths for the stage directions with those of the speaker text. The result showed that the sentence lengths in the speaker texts were longer on average overall, but that at the same time a development can be observed leading to a successive convergence of sentence lengths (see Fig. 05) – a development that, as the authors have suggested , can be explained in the context of research debates about the epification of drama in the 19th century (cf. {cite:p}`trilcke_2020_opening`).\n",
    "\n",
    "[^gerdracor_used_for_stage_direction_paper]: Regarding the exact data used for the study the authors report on their corpus: \"Of the 474 plays available in GerDraCor, we removed librettos and 3 plays without SD, which yields a corpus of 384 plays that are pre-processed using the DramaNLP package.\" {cite:p}`trilcke_2020_opening` The tool [DramaNLP](https://github.com/quadrama/DramaNLP) was developed in the context of [QuaDramA project](https://quadrama.github.io) as was the R package [DramaAnalysis](https://github.com/quadrama/DramaAnalysis) which was used for the analysis of the data."
   ]
  },
  {
   "cell_type": "markdown",
   "id": "8a33013c-3bd5-40cf-8887-d697fdfca6b9",
   "metadata": {
    "editable": true,
    "slideshow": {
     "slide_type": ""
    },
    "tags": []
   },
   "source": [
    "% Figure is rendered in the HTML output here\n",
    "\n",
    "```{figure} ./images/sentence-length-datagraph.png\n",
    "---\n",
    "width: 600px\n",
    "name: sentence-length-datagraph\n",
    "---\n",
    "Mean Sentence Length in Stage Directions and Spoken Text in GerDraCor plays visualized with Datagraph (cf. {cite:p}`trilcke_2020_opening`)\n",
    "```"
   ]
  },
  {
   "cell_type": "markdown",
   "id": "c0ca14c3-123e-45a7-8fff-4ae31b14b9e0",
   "metadata": {},
   "source": [
    "In the following we use the NLP package [spaCy](https://spacy.io) to demonstrate how the API response containing the text of the stage directions can be split into sentence tokens with the [Sentencizer](https://spacy.io/api/sentencizer) component:"
   ]
  },
  {
   "cell_type": "code",
   "execution_count": 17,
   "id": "1f6dc08a-dc75-454a-a3f5-e1031409c0d8",
   "metadata": {},
   "outputs": [],
   "source": [
    "from spacy.lang.de import German\n",
    "\n",
    "nlp = German()\n",
    "nlp.add_pipe(\"sentencizer\")\n",
    "\n",
    "# Pass the downloaded stage directions to the NLP pipeline to perform the sentence splitting\n",
    "doc = nlp(emilia_galotti_stage_directions)"
   ]
  },
  {
   "cell_type": "markdown",
   "id": "c9aac862-8ef9-4af5-9dd4-2314626a496b",
   "metadata": {},
   "source": [
    "We can list the first ten sentences to get a feeling if the splitting is acceptable[^hint_on_newline]:\n",
    "\n",
    "[^hint_on_newline]: Some pre-processing of the API result might be necessary to achieve better results, i.e. there are some newline characters `\\n` that could be removed depending on how they are handled in the further processing."
   ]
  },
  {
   "cell_type": "code",
   "execution_count": 22,
   "id": "236b6c1e-a604-43ff-9175-26d46f21de87",
   "metadata": {},
   "outputs": [
    {
     "data": {
      "text/plain": [
       "[Die Szene, ein Kabinett des Prinzen.,\n",
       " \n",
       " an einem Arbeitstische, voller Briefschaften und Papiere, deren einige er durchläuft.,\n",
       " \n",
       " Indem er noch eine von den Bittschriften aufschlägt, und nach dem unterschriebnen Namen sieht.,\n",
       " \n",
       " Er lieset.,\n",
       " \n",
       " Er unterschreibt und klingelt; worauf ein Kammerdiener hereintritt.,\n",
       " \n",
       " Der Kammerdiener geht ab.,\n",
       " \n",
       " welcher wieder herein tritt.,\n",
       " \n",
       " Der Kammerdiener geht ab.,\n",
       " \n",
       " Bitter, indem er den Brief in die Hand nimmt.,\n",
       " \n",
       " Und ihn wieder wegwirft.]"
      ]
     },
     "execution_count": 22,
     "metadata": {},
     "output_type": "execute_result"
    }
   ],
   "source": [
    "list(doc.sents)[:10]"
   ]
  },
  {
   "cell_type": "markdown",
   "id": "30c571f9-ce1d-4fd9-b59e-f1e90dcde800",
   "metadata": {},
   "source": [
    "In the above mentioned study the sentence length is measure in tokens. If we wanted to perform rock-soldid repetition of the study[^repeading_research_outlook] we would need to look into how the tokens are created, but this goes beyond this short tutorial. In our quick SpaCy re-implementation the pipeline component has already performed a tokenization. If we want to inspect the tokens orf the first sentence we can output them as shown in the next cell:\n",
    "\n",
    "[^repeading_research_outlook]: On Wednesday in his lightnig talk  Christof Schöch will go into \"Repeating Research\" in more detail and introduce his conceptual framework."
   ]
  },
  {
   "cell_type": "code",
   "execution_count": 51,
   "id": "8e150ee6-01fc-46d3-8c65-6a768c3c4b73",
   "metadata": {},
   "outputs": [
    {
     "name": "stdout",
     "output_type": "stream",
     "text": [
      "Die\n",
      "Szene\n",
      ",\n",
      "ein\n",
      "Kabinett\n",
      "des\n",
      "Prinzen\n",
      ".\n",
      "\n",
      "\n",
      "---\n",
      "The first sentence consists of 8 tokens.\n"
     ]
    }
   ],
   "source": [
    "for token in list(doc.sents)[0]:\n",
    "    print(token)\n",
    "\n",
    "print(\"\\n\\n---\")\n",
    "print(f\"The first sentence consists of {len(list(doc.sents)[0])} tokens.\")"
   ]
  },
  {
   "cell_type": "code",
   "execution_count": 52,
   "id": "c751a930-986f-4f28-a92a-e4c5000afe7d",
   "metadata": {},
   "outputs": [],
   "source": [
    "sentences = []\n",
    "token_count = []\n",
    "for sentence in doc.sents:\n",
    "    sentences.append(sentence.text)"
   ]
  },
  {
   "cell_type": "code",
   "execution_count": 53,
   "id": "7eb88c82-9ab5-4b2b-a115-ac83bce7e582",
   "metadata": {},
   "outputs": [
    {
     "data": {
      "text/plain": [
       "['Die Szene, ein Kabinett des Prinzen.',\n",
       " '\\nan einem Arbeitstische, voller Briefschaften und Papiere, deren einige er durchläuft.',\n",
       " '\\nIndem er noch eine von den Bittschriften aufschlägt, und nach dem unterschriebnen Namen sieht.',\n",
       " '\\nEr lieset.',\n",
       " '\\nEr unterschreibt und klingelt; worauf ein Kammerdiener hereintritt.',\n",
       " '\\nDer Kammerdiener geht ab.',\n",
       " '\\nwelcher wieder herein tritt.',\n",
       " '\\nDer Kammerdiener geht ab.',\n",
       " '\\nBitter, indem er den Brief in die Hand nimmt.',\n",
       " '\\nUnd ihn wieder wegwirft.',\n",
       " '\\nder nochmals herein tritt.',\n",
       " '\\nSteht auf.',\n",
       " '\\nConti.',\n",
       " 'Der Prinz.',\n",
       " '\\nDer Prinz.',\n",
       " 'Conti, mit den Gemälden, wovon er das eine verwandt gegen einen Stuhl lehnet.',\n",
       " '\\nindem er das andere zurecht stellet.',\n",
       " '\\nnach einer kurzen Betrachtung.',\n",
       " '\\netwas ärgerlich.',\n",
       " '\\nindem er es holt, und noch verkehrt in der Hand hält.',\n",
       " '\\nMit dem Finger auf die Stirne.',\n",
       " '\\nMit dem Finger auf das Herz.',\n",
       " '\\nIndem der Maler das Bild umwendet.',\n",
       " '\\nindem er sich zu fassen sucht, aber ohne ein Auge von dem Bilde zu verwenden.',\n",
       " '\\nNoch immer die Augen auf das Bild geheftet.',\n",
       " '\\nindem er nur eben von dem Bilde wegblickt.',\n",
       " '\\nmit einer erzwungenen Kälte.',\n",
       " '\\nDie Augen wieder auf das Bild gerichtet.',\n",
       " '\\nder sich schnell gegen ihn kehret.',\n",
       " '\\nLächelnd.',\n",
       " '\\nConti geht ab.',\n",
       " '\\nGegen das Bild.',\n",
       " '\\nIndem er das Bild gegen die Wand kehret.',\n",
       " '\\nMarinelli.',\n",
       " 'Der Prinz.',\n",
       " '\\nNach einem kurzen Stillschweigen.',\n",
       " '\\nAuf ihren Brief zeigend.',\n",
       " '\\nIndem er nach dem Porträte springt und es dem Marinelli in die Hand gibt.',\n",
       " '\\nHier reißt der Prinz dem Marinelli das Bild wieder aus der Hand, und wirft es bei Seite.',\n",
       " '\\nder sich voll Verzweiflung in einen Stuhl wirft.',\n",
       " '\\nder gegen ihn wieder aufspringt.',\n",
       " '\\nIndem er sich ihm in die Arme wirft.',\n",
       " '\\nNach einer kurzen Überlegung.',\n",
       " '\\nMarinelli geht ab.',\n",
       " '\\nSich nach dem Porträte umsehend.',\n",
       " '\\nIndem er es aufhebt.',\n",
       " '\\nSetzt es bei Seite.',\n",
       " '\\nNach der Uhr sehend.',\n",
       " '\\nEr klingelt, und indem er einige von den Papieren auf dem Tische hastig zusammen rafft, tritt der Kammerdiener herein.',\n",
       " '\\nDer Kammerdiener geht ab.',\n",
       " '\\nSie suchend.',\n",
       " '\\nCamillo Rota, Schriften in der Hand.',\n",
       " 'Der Prinz.',\n",
       " '\\nstutzig und den Prinzen starr ansehend.',\n",
       " '\\nseine Schriften nachsehend.',\n",
       " '\\nGeht ab.',\n",
       " '\\nden Kopf schüttelnd, indem er die Papiere zu sich nimmt und abgeht.',\n",
       " '\\nDie Szene, ein Saal in dem Hause der Galotti.',\n",
       " '\\nClaudia Galotti.',\n",
       " 'Pirro.',\n",
       " '\\nim Heraustreten zu Pirro, der von der andern Seite hereintritt.',\n",
       " '\\nIhm entgegen eilend.',\n",
       " '\\nOdoardo Galotti, und die Vorigen.',\n",
       " '\\nPirro, und bald darauf Angelo.',\n",
       " '\\nnoch halb hinter der Szene, in einem kurzen Mantel, den er über das Gesicht gezogen, den Hut in die Stirne.',\n",
       " '\\nIn dem Angelo vollends hereintritt, und den Mantel auseinander schlägt.',\n",
       " '\\nIhm einen Beutel mit Gelde zeigend.',\n",
       " '\\nAls ob er den Beutel wieder einstecken wollte.',\n",
       " '\\nNimmt ihn.',\n",
       " '\\nTut als ob er gehen wollte, und kehrt wieder um.',\n",
       " '\\nGeht ab.',\n",
       " '\\nOdoardo und Claudia Galotti.',\n",
       " 'Pirro.',\n",
       " '\\nPirro geht.',\n",
       " '\\nIndem sie ihn bei der Hand ergreift.',\n",
       " '\\nEmilia und Claudia Galotti.',\n",
       " '\\nstürzet in einer ängstlichen Verwirrung herein.',\n",
       " '\\nIndem sie den Schleier zurück wirft und ihre Mutter erblicket.',\n",
       " '\\nSich ihr in die Arme werfend.',\n",
       " '\\nMit einem tiefen Atemzuge.',\n",
       " '\\nGraf Appiani.',\n",
       " 'Die Vorigen.',\n",
       " '\\ntritt tiefsinnig, mit vor sich hingeschlagnen Augen herein, und kömmt ihnen näher, ohne sie zu erblicken; bis Emilia ihm entgegen springt.',\n",
       " '\\nIndem er die Mutter erblickt.',\n",
       " '\\nnackdenkend und schwermütig.',\n",
       " '\\nGraf Appiani.',\n",
       " 'Claudia Galotti.',\n",
       " '\\nindem er ihr mit einer niedergeschlagnen Miene nachsieht.',\n",
       " '\\nstutzig.',\n",
       " '\\nPirro, gleich darauf Marinelli, und die Vorigen.',\n",
       " '\\nÖffnet ihm die Türe und geht ab.',\n",
       " '\\nMacht ihm eine Verbeugung und geht ab.',\n",
       " '\\nMarinelli.',\n",
       " 'Appiani.',\n",
       " '\\nnach einiger Überlegung.',\n",
       " '\\nIndem er ihn bei der Hand ergreift.',\n",
       " '\\nder sich losreißt, und abgeht.',\n",
       " '\\nAppiani.',\n",
       " 'Claudia Galotti.',\n",
       " '\\neiligst und besorgt.',\n",
       " '\\nSie geht herein und er fort.',\n",
       " '\\nDie Szene, ein Vorsaal auf dem Lustschlosse des Prinzen.',\n",
       " '\\nDer Prinz.',\n",
       " 'Marinelli.',\n",
       " '\\nhöhnisch.',\n",
       " '\\nKalt und befehlend.',\n",
       " '\\nMan hört von weitem einen Schuß.',\n",
       " '\\nMarinelli tritt an das Fenster.',\n",
       " '\\nDer Prinz geht ab.',\n",
       " '\\nMarinelli, und bald darauf Angelo.',\n",
       " '\\nder wieder nach dem Fenster geht.',\n",
       " '\\nIndem er nach der Türe zugeht.',\n",
       " '\\nder die Maske abgenommen.',\n",
       " '\\nGibt ihm einen Beutel mit Gold.',\n",
       " '\\nIndem er den Beutel in der Hand wieget.',\n",
       " '\\nGeht ab.',\n",
       " '\\nDer Prinz.',\n",
       " 'Marinelli.',\n",
       " '\\nMarinelli, und bald darauf dessen Bedienter.',\n",
       " '\\nBattista mit Emilien.',\n",
       " '\\nEr zieht sich in einen Winkel des Saales zurück.',\n",
       " '\\naußer Atem.',\n",
       " '\\nder plötzlich herzu tritt, als ob er eben herein käme.',\n",
       " '\\nstutzend.',\n",
       " '\\nBattista geht ab.',\n",
       " '\\näußerst bestürzt.',\n",
       " '\\nDer Prinz.',\n",
       " 'Emilia.',\n",
       " 'Marinelli.',\n",
       " '\\nunentschlossen.',\n",
       " '\\nDie Hände ringend.',\n",
       " '\\ndie vor ihm niederfällt.',\n",
       " '\\nsie aufhebend.',\n",
       " '\\nEr führt sie, nicht ohne Sträuben, ab.',\n",
       " '\\nBattista.',\n",
       " 'Marinelli.',\n",
       " '\\neiligst.',\n",
       " '\\nEr überlegt.',\n",
       " '\\ninnerhalb.',\n",
       " '\\nClaudia Galotti.',\n",
       " 'Battista.',\n",
       " 'Marinelli.',\n",
       " '\\ndie in die Türe tritt, indem Battista heraus gehen will.',\n",
       " '\\nIn einem gelinden Tone.',\n",
       " '\\nGegen einige Leute, welche nachdringen wollen.',\n",
       " '\\nClaudia Galotti.',\n",
       " 'Marinelli.',\n",
       " '\\nErblickt den Marinelli und fährt zurück.',\n",
       " '\\nbitter und langsam.',\n",
       " '\\nGegen den Marinelli.',\n",
       " '\\ninnerhalb.',\n",
       " '\\nSie stürzt in das Zimmer, und Marinelli ihr nach.',\n",
       " '\\nDie Szene bleibt.',\n",
       " '\\nDer Prinz.',\n",
       " 'Marinelli.',\n",
       " '\\nals aus dem Zimmer von Emilien kommend.',\n",
       " '\\nDrohend.',\n",
       " '\\nMit einer angenommenen Hitze.',\n",
       " '\\nnachgebend.',\n",
       " '\\nBitter.',\n",
       " '\\nkalt.',\n",
       " '\\nnoch kälter.',\n",
       " '\\nhöchst gleichgültig.',\n",
       " '\\nheftig, aber sich gleich wieder fassend.',\n",
       " '\\nsich vor die Stirne schlagend.',\n",
       " '\\nBattista.',\n",
       " 'Der Prinz.',\n",
       " 'Marinelli.',\n",
       " '\\neiligst.',\n",
       " '\\nBattista geht ab.',\n",
       " '\\nAuf ein Kabinett zeigend, in welches sich der Prinz begibt.',\n",
       " '\\nDie Gräfin Orsina.',\n",
       " 'Marinelli.',\n",
       " '\\nohne den Marinelli anfangs zu erblicken.',\n",
       " '\\nWill gehen.',\n",
       " '\\nder sie zurück hält.',\n",
       " '\\nheftig.',\n",
       " '\\nMinder heftig.',\n",
       " '\\nWehmütig, und eine Träne aus dem Auge wischend.',\n",
       " '\\nstolz.',\n",
       " '\\nGelinder, bis zum Tone der Schwermut.',\n",
       " '\\nhöhnisch.',\n",
       " '\\nvor sich.',\n",
       " '\\nErnsthaft und befehlend.',\n",
       " '\\nNachdenkend bis zur Rührung.',\n",
       " '\\nHastig gegen Marinelli.',\n",
       " '\\nvor sich.',\n",
       " '\\nSich mit der Hand die Stirne haltend.',\n",
       " '\\nDer Prinz.',\n",
       " 'Orsina.',\n",
       " 'Marinelli.',\n",
       " '\\nindem er aus dem Kabinette tritt, vor sich.',\n",
       " '\\ndie ihn erblickt, aber unentschlüssig bleibt, ob sie auf ihn zugehen soll.',\n",
       " '\\ngeht quer über den Saal, bei ihr vorbei, nach den andern Zimmern, ohne sich im Reden aufzuhalten.',\n",
       " '\\nOrsina.',\n",
       " 'Marinelli.',\n",
       " '\\nwie betäubt.',\n",
       " '\\nmit Rührung.',\n",
       " '\\nvor sich.',\n",
       " '\\nvor sich.',\n",
       " '\\nIn die Hände schlagend.',\n",
       " '\\nIndem sie den Finger auf den Mund legt.',\n",
       " '\\nUnd ihren Mund seinem Ohre nähert, als ob sie ihm zuflüstern wollte, was sie aber sehr laut ihm zuschreiet.',\n",
       " '\\nAus vollem Halse lachend.',\n",
       " '\\nLeise.',\n",
       " '\\nIndem sie fortgehen will, begegnet sie an der Türe dem alten Galotti, der eiligst hereintritt.',\n",
       " '\\nOdoardo Galotti.',\n",
       " 'Die Gräfin.',\n",
       " 'Marinelli.',\n",
       " '\\nIhn nach dem Marinelli weisend.',\n",
       " '\\nindem er ihn erblicket, vor sich.',\n",
       " '\\nKehrt wieder um.',\n",
       " '\\nsie bei der Hand nicht unsanft ergreifend.',\n",
       " '\\nleise zu dem Obersten, den er bei Seite ziehet.',\n",
       " '\\nDie Gräfin Orsina.',\n",
       " 'Odoardo Galotti.',\n",
       " '\\nnach einigem Stillschweigen, unter welchem sie den Obersten mit Mitleid betrachtet; so wie er sie, mit einer flüchtigen Neugierde.',\n",
       " '\\nhalb vor sich, halb gegen sie.',\n",
       " '\\nBlickt wild um sich, und stampft, und schäumet.',\n",
       " '\\nIndem er den Rock von beiden Seiten aus einander schlägt, und sich ohne Gewehr sieht.',\n",
       " '\\nAn alle Schubsäcke fühlend, als etwas suchend.',\n",
       " '\\nEinen Dolch hervorziehend.',\n",
       " '\\nIhm den Dolch aufdringend.',\n",
       " '\\nWie in der Entzückung.',\n",
       " '\\nClaudia Galotti.',\n",
       " 'Die Vorigen.',\n",
       " '\\ndie im Hereintreten sich umsiehet, und sobald sie ihren Gemahl erblickt, auf ihn zuflieget.',\n",
       " '\\nder sich bei Erblickung seiner Gemahlin zu fassen gesucht.',\n",
       " '\\nGegen die Orsina.',\n",
       " '\\nmit einem bittern Lachen.',\n",
       " '\\nwild hin und her gehend.',\n",
       " '\\nSich zwingend.',\n",
       " '\\nIhr die Gräfin bekannt machend.',\n",
       " '\\nLeise zu ihr.',\n",
       " '\\nEr führt sie ab.',\n",
       " '\\nDie Szene bleibt.',\n",
       " '\\nMarinelli.',\n",
       " 'Der Prinz.',\n",
       " '\\nÜberlegend.',\n",
       " '\\nTritt wieder ans Fenster.',\n",
       " '\\ndrohend.',\n",
       " '\\nMarinelli.',\n",
       " 'Odoardo Galotti.',\n",
       " '\\nhitzig.',\n",
       " '\\nDer Prinz.',\n",
       " 'Marinelli.',\n",
       " 'Odoardo Galotti.',\n",
       " '\\ngegen Marinelli.',\n",
       " '\\nhöhnisch.',\n",
       " '\\nbitter.',\n",
       " '\\nMit einem bittern Lachen.',\n",
       " '\\nFährt schnell nach dem Schubsacke, in welchem er den Dolch hat.',\n",
       " '\\nschmeichelhaft auf ihn zutretend.',\n",
       " '\\nbei Seite, indem er die Hand leer wieder heraus zieht.',\n",
       " '\\nZu Marinelli.',\n",
       " '\\nder in tiefen Gedanken gestanden.',\n",
       " '\\nDer Prinz und Marinelli gehen ab.',\n",
       " '\\nihm nachsehend; nach einer Pause.',\n",
       " '\\nBlickt wild umher.',\n",
       " '\\nPause.',\n",
       " '\\nPause.',\n",
       " '\\nGegen den Himmel.',\n",
       " '\\nEr will gehen, und sieht Emilien kommen.',\n",
       " '\\nEmilia.',\n",
       " 'Odoardo.',\n",
       " '\\nIhn herausziehend.',\n",
       " '\\nGibt ihr ihn.',\n",
       " '\\nIm Begriffe sich damit zu durchstoßen, reißt der Vater ihr ihn wieder aus der Hand.',\n",
       " '\\nSie fährt mit der Hand nach dem Haare, eine zu suchen, und bekömmt die Rose zu fassen.',\n",
       " '\\nIn einem bittern Tone, während daß sie die Rose zerpflückt.',\n",
       " '\\nIndem er sie durchsticht.',\n",
       " '\\nSie will sinken, und er faßt sie in seine Arme.',\n",
       " '\\nDer Prinz.',\n",
       " 'Marinelli.',\n",
       " 'Die Vorigen.',\n",
       " '\\nim Hereintreten.',\n",
       " '\\nindem er näher kömmt.',\n",
       " '\\nSie stirbt, und er legt sie sanft auf den Boden.',\n",
       " '\\nNach einer Pause.',\n",
       " '\\nIndem er ihm den Dolch vor die Füße wirft.',\n",
       " '\\nnach einigem Stillschweigen, unter welchem er den Körper mit Entsetzen und Verzweiflung betrachtet, zu Marinelli.',\n",
       " '\\nIndem er ihn den Dolch aus der Hand reißt.']"
      ]
     },
     "execution_count": 53,
     "metadata": {},
     "output_type": "execute_result"
    }
   ],
   "source": []
  },
  {
   "cell_type": "markdown",
   "id": "ec89f0d5-40fa-46ba-9fa6-405dcc913241",
   "metadata": {
    "editable": true,
    "slideshow": {
     "slide_type": ""
    },
    "tags": []
   },
   "source": [
    "(section-1-3-4)=\n",
    "## 1.3.4 Showcase 4: Plotting Network Measures for Thousands of Plays"
   ]
  },
  {
   "cell_type": "markdown",
   "id": "4b28574a-6651-4f3a-95e6-4347af4a1c5b",
   "metadata": {
    "editable": true,
    "slideshow": {
     "slide_type": ""
    },
    "tags": []
   },
   "source": [
    "Connected to the DraCor corpora are various microservices that––following the principle of\n",
    "“method as a microservice”––apply specific methods of CLS to the text data in the drama corpora.\n",
    "The outputs from these microservices are, in the form of metrics, made available via the DraCor\n",
    "API. Part of these microservice-based and thus research-driven API functions rely on methods\n",
    "from Social Network Analysis. Again, based on the homogenized TEI structure of the plays in\n",
    "DraCor, in particular the semi-automated speaker identification, a dedicated microservice first\n",
    "automatically constructs network graphs to which then a number of algorithms from Network\n",
    "Analysis are applied.\n",
    "\n",
    "The technical capability to retrieve metrics for the texts from several different drama\n",
    "corpora via one single API enables the use of standardized analyses for comparative literary\n",
    "studies, as Trilcke et al. (in press) have shown applying the concept of “Small World” to almost\n",
    "3,000 dramas of European literature.\n",
    "\n",
    "Analyzing plays with reference to the “Small World” concept requires the calculation of the\n",
    "network metric of “Average Path Length”.22 This metric can, as outlined, be retrieved via the\n",
    "DraCor API. For our final showcase, we pull from the DraCor API a file of aggregate metrics,\n",
    "including “Average Path Length”. For example, the request URL for the German-language corpus\n",
    "GerDraCor in this case is: https://dracor.org/api/corpora/ger/metadata/csv\n",
    "\n",
    "After collecting the corresponding data for all DraCor corpora via the API, we filter the data\n",
    "based on the metadata for plays published between 1500 and 1900. In a final step, we plot the\n",
    "“Average Path Length” for the now remaining 2,622 plays as a chart (Fig. 06)––thus with just a\n",
    "few clicks taking a decisive step towards a fully-fledged “distant reading” study, whereby at the\n",
    "same time it becomes clear what is still missing in these data (and what would have to be provided\n",
    "in an elaborated study): the interpretation of the data, which has to elaborate the meaning of such\n",
    "plots."
   ]
  },
  {
   "cell_type": "markdown",
   "id": "2c371d42-4275-4c40-ae08-456e9aa1aae7",
   "metadata": {
    "editable": true,
    "slideshow": {
     "slide_type": ""
    },
    "tags": []
   },
   "source": [
    "Fig. 06: Average Path Length for 2,622 plays in DraCor visualized with Datagraph"
   ]
  }
 ],
 "metadata": {
  "kernelspec": {
   "display_name": "Python 3 (ipykernel)",
   "language": "python",
   "name": "python3"
  },
  "language_info": {
   "codemirror_mode": {
    "name": "ipython",
    "version": 3
   },
   "file_extension": ".py",
   "mimetype": "text/x-python",
   "name": "python",
   "nbconvert_exporter": "python",
   "pygments_lexer": "ipython3",
   "version": "3.11.8"
  }
 },
 "nbformat": 4,
 "nbformat_minor": 5
}
