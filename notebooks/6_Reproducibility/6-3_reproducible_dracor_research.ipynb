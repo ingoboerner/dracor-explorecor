{
 "cells": [
  {
   "cell_type": "markdown",
   "id": "bfe24ee5-d59e-430d-9f41-c51edf79efd1",
   "metadata": {
    "editable": true,
    "slideshow": {
     "slide_type": ""
    },
    "tags": []
   },
   "source": [
    "(section-6-3)=\n",
    "# 6.3 Reproducible Research with DraCor and Docker"
   ]
  },
  {
   "cell_type": "markdown",
   "id": "98e3c1fe-dc49-421e-8505-2662f29f114a",
   "metadata": {
    "editable": true,
    "slideshow": {
     "slide_type": ""
    },
    "tags": []
   },
   "source": [
    "In {ref}`section-1-3-3` we outlined how the study \"Opening the Stage – A Quantitative Look at Stage Directions in German Drama\" {cite:p}`trilcke_2020_opening` could be re-implemented in Python. Although {cite:t}`trilcke_2020_opening` indicate the data on which their results are based, it is not straigt forward to repeat the study without making efforts to reconstruct their corpus. Regarding the constitution of the dataset the authors note:\n",
    "\n",
    "> Of the 474 plays available in GerDraCor, we removed librettos and 3 plays without SD, which yields a corpus of 384 plays that are pre-processed using the DramaNLP package. {cite:p}`trilcke_2020_opening`\n",
    "\n",
    "From this description is not self-evident which version of GerDraCor was used. The only information that may support the identification of the version is the information about the number of plays “474” included in GerDraCor at the time of analyzing the corpus. \n",
    "\n",
    "In our recent report [\"On Versioning Living and Programmable Corpora\"](https://versioning-living-corpora.clsinfra.io/3-2_gerdracor_corpus_archeology.html) {cite:p}`boerner_2024_versioning-living-corpora` we conducted an in-depth analysis of the genesis of a DraCor corpus (namely “GerDraCor”), taking the Git commit history as a basis. Based on the commits to the repository we can show how the corpus \"grew\" over the time. In the following code cells we plot the developent of the number of plays included in the GerDraCor corpus over time ({numref}`fig_num_corpus_documents`)."
   ]
  },
  {
   "cell_type": "code",
   "execution_count": null,
   "id": "576b8e17-6810-445b-b6a8-1b92fed6696e",
   "metadata": {
    "editable": true,
    "slideshow": {
     "slide_type": ""
    },
    "tags": [
     "remove-cell"
    ]
   },
   "outputs": [],
   "source": [
    "# This is needed to re-use outputs of code in the markdown cells. \n",
    "# This cell is removed in the rendered report\n",
    "from myst_nb import glue"
   ]
  },
  {
   "cell_type": "code",
   "execution_count": null,
   "id": "f29663d9-204c-48d4-99a5-fe037204b001",
   "metadata": {
    "editable": true,
    "slideshow": {
     "slide_type": ""
    },
    "tags": [
     "hide-cell"
    ]
   },
   "outputs": [],
   "source": [
    "# Import packages pandas and matplotlib for data analysis\n",
    "import pandas as pd\n",
    "import matplotlib.pyplot as plt"
   ]
  },
  {
   "cell_type": "code",
   "execution_count": null,
   "id": "ac3dcada-0ca7-4796-8724-77bb9776585b",
   "metadata": {
    "editable": true,
    "slideshow": {
     "slide_type": ""
    },
    "tags": [
     "remove-output"
    ]
   },
   "outputs": [],
   "source": [
    "# The following code used custom functions developed for the above mentioned report\n",
    "\n",
    "from customutils import GitHubRepo\n",
    "\n",
    "# Because it takes quite some time to download and prepare the commit history for\n",
    "# the analysis we use pre-downloaded and processed data\n",
    "gerdracor = GitHubRepo(repository_name=\"gerdracor\", \n",
    "                  import_commit_list=\"gerdracor_commits/gerdracor_commits.json\",\n",
    "                  import_commit_details=\"gerdracor_commits/gerdracor_commits_detailed.json\",\n",
    "                  import_data_folder_objects=\"gerdracor_commits/gerdracor_data_folder_objects.json\",\n",
    "                  import_corpus_versions=\"gerdracor_commits/gerdracor_corpus_versions.json\")\n",
    "\n",
    "# create a pandas data frame containing the information about implicit versions of GerDraCor\n",
    "# that are identified by the commit hashes on GitHub; we include the nummer of plays included\n",
    "# (column \"document_count\") at a certain date (column \"date_from\").\n",
    "corpus_num_of_docs_df = gerdracor.get_corpus_versions_as_df(columns=[\"date_from\",\"id\",\"document_count\"]).set_index(\"date_from\")\n",
    "\n",
    "# Based on this information we create a line plot\n",
    "fig_num_corpus_documents = plt.figure()\n",
    "\n",
    "plt.ylabel(\"Documents\", figure=fig_num_corpus_documents)\n",
    "plt.xlabel(\"Date\", figure=fig_num_corpus_documents)\n",
    "\n",
    "plt.plot(corpus_num_of_docs_df[\"document_count\"], figure=fig_num_corpus_documents)\n",
    "\n",
    "glue(\"fig_num_corpus_documents\", fig_num_corpus_documents, display=False)"
   ]
  },
  {
   "cell_type": "markdown",
   "id": "b35a656a-49e0-414b-9fb9-2407c5eb6642",
   "metadata": {
    "editable": true,
    "slideshow": {
     "slide_type": ""
    },
    "tags": []
   },
   "source": [
    "```{glue:figure} fig_num_corpus_documents\n",
    "---\n",
    "figwidth: 800px\n",
    "name: fig_num_corpus_documents\n",
    "---\n",
    "Development of the number of documents in  all versions in GerDraCor\n",
    "```"
   ]
  },
  {
   "cell_type": "markdown",
   "id": "c1a9d0d8-c435-42ca-b25f-0db10e364192",
   "metadata": {
    "editable": true,
    "slideshow": {
     "slide_type": ""
    },
    "tags": []
   },
   "source": [
    "We can filter the pandas DataFrame `corpus_num_of_docs_df` for all versions that contain 474 plays:"
   ]
  },
  {
   "cell_type": "code",
   "execution_count": null,
   "id": "e2573db5-eceb-4397-8f10-dbba02cb1353",
   "metadata": {
    "editable": true,
    "slideshow": {
     "slide_type": ""
    },
    "tags": []
   },
   "outputs": [],
   "source": [
    "# Filter the dataframe on versions that have exactly 474 plays\n",
    "corpus_num_of_docs_df[corpus_num_of_docs_df[\"document_count\"] == 474]"
   ]
  },
  {
   "cell_type": "code",
   "execution_count": null,
   "id": "4fce8a7a-d6aa-44b8-9b4f-75620445acc8",
   "metadata": {
    "editable": true,
    "slideshow": {
     "slide_type": ""
    },
    "tags": [
     "hide-cell"
    ]
   },
   "outputs": [],
   "source": [
    "glue(\"cnt_versions_gerdracor_474\", len(corpus_num_of_docs_df[corpus_num_of_docs_df[\"document_count\"] == 474]))"
   ]
  },
  {
   "cell_type": "markdown",
   "id": "aba304db-7f0b-41bc-a3a7-20191f3cee51",
   "metadata": {
    "editable": true,
    "slideshow": {
     "slide_type": ""
    },
    "tags": []
   },
   "source": [
    "Filtering the DataFrame shows that there are {glue}`cnt_versions_gerdracor_474` versions that consist of 474 files. This example clearly illustrates that specifying the number of plays included is not sufficient to reproduce the data exactly.\n",
    "\n",
    "Still we can look into these versions of the corpus to find out which plays were already available at that time. The corpus archeology script provides a functionality for this:"
   ]
  },
  {
   "cell_type": "code",
   "execution_count": null,
   "id": "dfa09c01-4523-452f-88eb-b53b88aa12a7",
   "metadata": {
    "editable": true,
    "slideshow": {
     "slide_type": ""
    },
    "tags": []
   },
   "outputs": [],
   "source": [
    "# Retrieve the playnames form the analyzed commit history in the given date range\n",
    "playnames = gerdracor.get_plays_in_corpus_versions_in_date_range(date_start=\"2019-09-03\", date_end=\"2019-12-20\")\n",
    "\n",
    "# Just check if there are really 474 distinct playnames\n",
    "assert(len(playnames) == 474)"
   ]
  },
  {
   "cell_type": "markdown",
   "id": "c5b7c104-5d0f-4304-856a-6c52cb346535",
   "metadata": {
    "editable": true,
    "slideshow": {
     "slide_type": ""
    },
    "tags": []
   },
   "source": [
    "We can now use these playname identifiers to setup a custom local DraCor corpus containing only these plays:"
   ]
  },
  {
   "cell_type": "code",
   "execution_count": null,
   "id": "53907544-3a98-473c-bd75-d79b8a222bd3",
   "metadata": {
    "editable": true,
    "slideshow": {
     "slide_type": ""
    },
    "tags": []
   },
   "outputs": [],
   "source": [
    "%%bash\n",
    "\n",
    "# Stop and remove all Docker containers to avoid conflicts \n",
    "# especially regarding ports in the next section\n",
    "# This cell does not show up in the final rendering of the report\n",
    "# If you want to use the Docker containers above and play around with them, \n",
    "# the following commands should NOT be run\n",
    "\n",
    "docker stop $(docker ps -a -q)\n",
    "docker rm $(docker ps -a -q)"
   ]
  },
  {
   "cell_type": "code",
   "execution_count": null,
   "id": "fe215873-bfa3-4116-b897-6855a70f835d",
   "metadata": {
    "editable": true,
    "slideshow": {
     "slide_type": ""
    },
    "tags": []
   },
   "outputs": [],
   "source": [
    "from stabledracor.client import StableDraCor\n",
    "dracor = StableDraCor()\n",
    "dracor.run()"
   ]
  },
  {
   "cell_type": "code",
   "execution_count": null,
   "id": "183a110b-61cb-4430-a3a9-9a4aff0b242e",
   "metadata": {
    "editable": true,
    "slideshow": {
     "slide_type": ""
    },
    "tags": []
   },
   "outputs": [],
   "source": []
  }
 ],
 "metadata": {
  "kernelspec": {
   "display_name": "Python 3 (ipykernel)",
   "language": "python",
   "name": "python3"
  },
  "language_info": {
   "codemirror_mode": {
    "name": "ipython",
    "version": 3
   },
   "file_extension": ".py",
   "mimetype": "text/x-python",
   "name": "python",
   "nbconvert_exporter": "python",
   "pygments_lexer": "ipython3",
   "version": "3.11.8"
  }
 },
 "nbformat": 4,
 "nbformat_minor": 5
}
