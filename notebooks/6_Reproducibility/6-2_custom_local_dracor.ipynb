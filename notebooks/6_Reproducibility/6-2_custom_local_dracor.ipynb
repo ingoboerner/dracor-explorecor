{
 "cells": [
  {
   "cell_type": "markdown",
   "id": "bfe24ee5-d59e-430d-9f41-c51edf79efd1",
   "metadata": {
    "editable": true,
    "slideshow": {
     "slide_type": ""
    },
    "tags": []
   },
   "source": [
    "# 6.2 Setting up a custom DraCor infrastructure\n",
    "This notebook demonstrates how to quickly setup a containerized local DraCor infrastructure. We will copy a corpus from the current DraCor live production system at https://dracor.org.\n",
    "\n",
    "In the following cell we import the *stable dracor client* and setup an empty DraCor system. The components of the infrastructure (eXist database with API, metrics service, triple store) are started as Docker containers inside the Docker container we are working in right now:"
   ]
  },
  {
   "cell_type": "code",
   "execution_count": null,
   "id": "02d92f84-6514-4d0b-998f-16142a84dfd3",
   "metadata": {},
   "outputs": [],
   "source": [
    "%%bash\n",
    "\n",
    "# Stop and remove all Docker containers to avoid conflicts \n",
    "# especially regarding ports in the next section\n",
    "# This cell does not show up in the final rendering of the HTML\n",
    "# If you have set up custom DraCor Docker containers you should not run \n",
    "# this command. It will remove your work!\n",
    "\n",
    "#docker stop $(docker ps -a -q)\n",
    "#docker rm $(docker ps -a -q)"
   ]
  },
  {
   "cell_type": "code",
   "execution_count": null,
   "id": "faf90787-6cdb-4f61-b60a-53d44f3ec946",
   "metadata": {
    "editable": true,
    "slideshow": {
     "slide_type": ""
    },
    "tags": [
     "remove-output"
    ]
   },
   "outputs": [],
   "source": [
    "from stabledracor.client import StableDraCor\n",
    "dracor = StableDraCor()\n",
    "dracor.run()"
   ]
  },
  {
   "cell_type": "markdown",
   "id": "570ee1bc-805d-4cd3-853e-6dc60533ac6c",
   "metadata": {},
   "source": [
    "After the cell above has been executed (it should return `True`) the empty system can be accessed at http://localhost:8088.\n",
    "\n",
    "We then copy the *Tatar Drama Corpus* (TatDraCor) from the live production instance at https://dracor.org to the locally running system in the Docker container: "
   ]
  },
  {
   "cell_type": "code",
   "execution_count": null,
   "id": "13f9e22c-afd5-41cd-93c9-f1aa09ab7d8d",
   "metadata": {
    "editable": true,
    "slideshow": {
     "slide_type": ""
    },
    "tags": [
     "remove-output"
    ]
   },
   "outputs": [],
   "source": [
    "dracor.copy_corpus(source_corpusname=\"tat\")"
   ]
  },
  {
   "cell_type": "markdown",
   "id": "4867cbef-3259-4a52-9d3b-c9571a537cb1",
   "metadata": {
    "editable": true,
    "slideshow": {
     "slide_type": ""
    },
    "tags": []
   },
   "source": [
    "Check http://localhost:8088/tat to view the newly added corpus. Copying a live corpus is a quick way to get something up and running locally. To make it possible to fully track the composition of a corpus and make research with DraCor repeatable, it is recommended to load corpora from GitHub instead. "
   ]
  },
  {
   "cell_type": "markdown",
   "id": "2b3cf66d-1f10-4b63-94e5-8f9f73b41217",
   "metadata": {},
   "source": [
    "In the following cell we load a corpus from a GitHub repository of the [dracor-org GitHub organization](https://github.com/dracor-org). We load the [Polish Drama Corpus](https://github.com/dracor-org/poldracor). The name of the repository is`poldracor`:"
   ]
  },
  {
   "cell_type": "code",
   "execution_count": null,
   "id": "1daf5c2e-2df6-4b21-b197-4997737d56d1",
   "metadata": {
    "editable": true,
    "slideshow": {
     "slide_type": ""
    },
    "tags": [
     "remove-output"
    ]
   },
   "outputs": [],
   "source": [
    "dracor.add_corpus_from_repo(repository_name=\"poldracor\")"
   ]
  },
  {
   "cell_type": "markdown",
   "id": "feef5cc5-c790-437e-8f94-c11f531210a8",
   "metadata": {},
   "source": [
    "We can also create custom corpora and add plays from several corpora to them. First, we prepare the metadata of the corpus:"
   ]
  },
  {
   "cell_type": "code",
   "execution_count": null,
   "id": "d88c8002-daba-4659-9ce1-476f090ac9a4",
   "metadata": {
    "editable": true,
    "slideshow": {
     "slide_type": ""
    },
    "tags": [
     "remove-output"
    ]
   },
   "outputs": [],
   "source": [
    "hamlet_corpus_metadata = {\n",
    "    \"name\" : \"ham\",\n",
    "    \"title\" : \"Hamlet\",\n",
    "    \"description\" : \"A corpus containing Shakespeare's 'Hamlet' and some translations\"\n",
    "}\n",
    "\n",
    "dracor.add_corpus(corpus_metadata=hamlet_corpus_metadata)"
   ]
  },
  {
   "cell_type": "markdown",
   "id": "ed90ef39-a005-4471-a5ad-191497a6b31e",
   "metadata": {},
   "source": [
    "We have now create an empty corpus `ham`. We will add two plays from two DraCor corpora. "
   ]
  },
  {
   "cell_type": "code",
   "execution_count": null,
   "id": "feefdef8-452e-45f2-bdd7-2edfe77887cf",
   "metadata": {
    "editable": true,
    "slideshow": {
     "slide_type": ""
    },
    "tags": [
     "remove-output"
    ]
   },
   "outputs": [],
   "source": [
    "dracor.add_play_version_to_corpus(repository_name=\"shakedracor\",\n",
    "                                  filename=\"hamlet\",\n",
    "                                  corpusname=\"ham\")"
   ]
  },
  {
   "cell_type": "markdown",
   "id": "f90631e8-af52-4aec-824e-49e7ab69a582",
   "metadata": {},
   "source": [
    "The second play we add to the corpus is the German translation by August Wilhelm Schlegel from the German Shakespeare Corpus (`gershdracor`)."
   ]
  },
  {
   "cell_type": "code",
   "execution_count": null,
   "id": "881f73a4-a862-45a3-8691-c0d4da79b990",
   "metadata": {
    "editable": true,
    "slideshow": {
     "slide_type": ""
    },
    "tags": [
     "remove-output"
    ]
   },
   "outputs": [],
   "source": [
    "dracor.add_play_version_to_corpus(repository_name=\"gershdracor\",\n",
    "                                  filename=\"hamlet-prinz-von-daenemark\",\n",
    "                                  corpusname=\"ham\")"
   ]
  },
  {
   "cell_type": "markdown",
   "id": "4f66aa01-8b2f-4281-b050-75c3f65e5db9",
   "metadata": {},
   "source": [
    "In the following, more complex example we will setup a corpus of a single author. We will use the production instance of dracor at dracor.org to extract the identifiers `playname` of the plays by a certain author and then add these plays from the source repository to the local DraCor instance."
   ]
  },
  {
   "cell_type": "code",
   "execution_count": null,
   "id": "73a64489-5609-45ac-970c-4751d94a0c7a",
   "metadata": {
    "editable": true,
    "slideshow": {
     "slide_type": ""
    },
    "tags": [
     "remove-output"
    ]
   },
   "outputs": [],
   "source": [
    "from stabledracor.client import api_get\n",
    "gerdracor_plays_from_production = api_get(api_base_url=\"https://dracor.org/api/v1/\", \n",
    "                                          corpusname=\"ger\")[\"plays\"]"
   ]
  },
  {
   "cell_type": "markdown",
   "id": "730e87e7-cb82-4c33-b098-e99319fa6ef1",
   "metadata": {},
   "source": [
    "An easy way to filter is to loop over all the plays and add the playnames to a list if some criteria are met. In this case we look for the `shortname` `\"Schiller\"` in the `authors` field. "
   ]
  },
  {
   "cell_type": "code",
   "execution_count": null,
   "id": "5ab85dcc-dbe0-4268-b3b2-ed38713e6eec",
   "metadata": {
    "editable": true,
    "slideshow": {
     "slide_type": ""
    },
    "tags": [
     "remove-output"
    ]
   },
   "outputs": [],
   "source": [
    "schiller_plays = []\n",
    "for play in gerdracor_plays_from_production:\n",
    "    if play[\"authors\"][0][\"shortname\"] == \"Schiller\":\n",
    "        schiller_plays.append(play[\"name\"])"
   ]
  },
  {
   "cell_type": "code",
   "execution_count": null,
   "id": "50c3aa32-6559-4e12-87cc-d25d7659233d",
   "metadata": {
    "editable": true,
    "slideshow": {
     "slide_type": ""
    },
    "tags": [
     "hide-output"
    ]
   },
   "outputs": [],
   "source": [
    "schiller_plays"
   ]
  },
  {
   "cell_type": "code",
   "execution_count": null,
   "id": "7334773b-50ab-423f-9ec2-7c5b026dd969",
   "metadata": {
    "editable": true,
    "slideshow": {
     "slide_type": ""
    },
    "tags": [
     "remove-output"
    ]
   },
   "outputs": [],
   "source": [
    "schiller_corpus_metadata = {\n",
    "    \"name\" : \"schiller\",\n",
    "    \"title\" : \"Schiller\",\n",
    "    \"description\" : \"A corpus containing Friedrich Schiller's plays from the GerDraCor corpus\"\n",
    "}\n",
    "\n",
    "dracor.add_corpus(corpus_metadata=schiller_corpus_metadata)\n",
    "\n",
    "for playname in schiller_plays:\n",
    "    dracor.add_play_version_to_corpus(repository_name=\"gerdracor\", \n",
    "                                      filename=playname,\n",
    "                                      corpusname=\"schiller\")"
   ]
  },
  {
   "cell_type": "markdown",
   "id": "723398c4-99de-4e6c-80df-b21cff9e98e5",
   "metadata": {
    "editable": true,
    "slideshow": {
     "slide_type": ""
    },
    "tags": []
   },
   "source": [
    "## Task:\n",
    "Set up your own local DraCor infrastructure. \n",
    "\n",
    "Running the following cell will stop and remove all docker images and allow you to start from scratch. "
   ]
  },
  {
   "cell_type": "code",
   "execution_count": null,
   "id": "fcd1dcec-d2b3-4fcd-9370-9a99057ad3ba",
   "metadata": {
    "editable": true,
    "slideshow": {
     "slide_type": ""
    },
    "tags": []
   },
   "outputs": [],
   "source": [
    "%%bash\n",
    "\n",
    "# Stop and remove all Docker containers to avoid conflicts \n",
    "# especially regarding ports in the next section\n",
    "# This cell does not show up in the final rendering of the HTML\n",
    "# If you have set up custom DraCor Docker containers you should not run \n",
    "# this command. It will remove your work!\n",
    "\n",
    "docker stop $(docker ps -a -q)\n",
    "docker rm $(docker ps -a -q)"
   ]
  }
 ],
 "metadata": {
  "kernelspec": {
   "display_name": "Python 3 (ipykernel)",
   "language": "python",
   "name": "python3"
  },
  "language_info": {
   "codemirror_mode": {
    "name": "ipython",
    "version": 3
   },
   "file_extension": ".py",
   "mimetype": "text/x-python",
   "name": "python",
   "nbconvert_exporter": "python",
   "pygments_lexer": "ipython3",
   "version": "3.11.8"
  }
 },
 "nbformat": 4,
 "nbformat_minor": 5
}
