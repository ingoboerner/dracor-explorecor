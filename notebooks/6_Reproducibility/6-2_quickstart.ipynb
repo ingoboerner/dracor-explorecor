{
 "cells": [
  {
   "cell_type": "markdown",
   "id": "bfe24ee5-d59e-430d-9f41-c51edf79efd1",
   "metadata": {
    "editable": true,
    "slideshow": {
     "slide_type": ""
    },
    "tags": []
   },
   "source": [
    "# 6.2 Setting up a custom DraCor-Infrastructure: Quickstart\n",
    "This notebook demonstrates how to quickly setup a containerized local DraCor infrastructure. We will copy a corpus from the current DraCor live production system at https://dracor.org.\n",
    "\n",
    "In the following cell we import the *stable dracor client* and setup an empty DraCor system. The components of the infrastructure (eXist database with API, metrics service, triple store) are started as Docker containers inside the Docker container we are working in right now:"
   ]
  },
  {
   "cell_type": "code",
   "execution_count": null,
   "id": "faf90787-6cdb-4f61-b60a-53d44f3ec946",
   "metadata": {
    "editable": true,
    "slideshow": {
     "slide_type": ""
    },
    "tags": [
     "remove-output"
    ]
   },
   "outputs": [],
   "source": [
    "from stabledracor.client import StableDraCor\n",
    "dracor = StableDraCor()\n",
    "dracor.run()"
   ]
  },
  {
   "cell_type": "markdown",
   "id": "570ee1bc-805d-4cd3-853e-6dc60533ac6c",
   "metadata": {},
   "source": [
    "After the cell above has been executed (it should return `True`) the empty system can be accessed at http://localhost:8088.\n",
    "\n",
    "We then copy the *Tatar Drama Corpus* (TatDraCor) from the live production instance at https://dracor.org to the locally running system in the Docker container: "
   ]
  },
  {
   "cell_type": "code",
   "execution_count": null,
   "id": "13f9e22c-afd5-41cd-93c9-f1aa09ab7d8d",
   "metadata": {
    "editable": true,
    "slideshow": {
     "slide_type": ""
    },
    "tags": [
     "remove-output"
    ]
   },
   "outputs": [],
   "source": [
    "dracor.copy_corpus(source_corpusname=\"tat\")"
   ]
  },
  {
   "cell_type": "markdown",
   "id": "4867cbef-3259-4a52-9d3b-c9571a537cb1",
   "metadata": {
    "editable": true,
    "slideshow": {
     "slide_type": ""
    },
    "tags": []
   },
   "source": [
    "Check http://localhost:8088/tat to view the newly added corpus. Copying a live corpus is a quick way to get something up and running locally. To make it possible to fully track the composition of a corpus and make research with DraCor repeatable, it is recommended to load corpora from GitHub instead. "
   ]
  }
 ],
 "metadata": {
  "kernelspec": {
   "display_name": "Python 3 (ipykernel)",
   "language": "python",
   "name": "python3"
  },
  "language_info": {
   "codemirror_mode": {
    "name": "ipython",
    "version": 3
   },
   "file_extension": ".py",
   "mimetype": "text/x-python",
   "name": "python",
   "nbconvert_exporter": "python",
   "pygments_lexer": "ipython3",
   "version": "3.11.8"
  }
 },
 "nbformat": 4,
 "nbformat_minor": 5
}
