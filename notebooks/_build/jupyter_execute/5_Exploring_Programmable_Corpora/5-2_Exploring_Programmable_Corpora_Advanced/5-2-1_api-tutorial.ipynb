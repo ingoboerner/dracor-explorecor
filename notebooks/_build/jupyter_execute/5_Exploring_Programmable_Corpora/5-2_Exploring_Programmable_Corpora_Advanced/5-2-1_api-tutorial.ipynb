{
 "cells": [
  {
   "cell_type": "markdown",
   "metadata": {},
   "source": [
    "# DraCor API Tutorial"
   ]
  },
  {
   "cell_type": "markdown",
   "metadata": {},
   "source": [
    "## 0. Import libraries"
   ]
  },
  {
   "cell_type": "markdown",
   "metadata": {},
   "source": [
    "To use the [DraCor-API](https://dracor.org/doc/api) we need to send HTTP-Requests to the API: `https://dracor.org/api`. In Python HTTP-Request can be sent with the library `requests` (https://requests.readthedocs.io). We have to import this library:"
   ]
  },
  {
   "cell_type": "code",
   "execution_count": 1,
   "metadata": {},
   "outputs": [],
   "source": [
    "import requests"
   ]
  },
  {
   "cell_type": "markdown",
   "metadata": {},
   "source": [
    "To fascilitate the work with the metadata of the corpora in DraCor, we can use the library `pandas` (https://pandas.pydata.org/docs/). To be able to plot data with pandas, we also need to import the library `matplotlib` (https://matplotlib.org/). The libraries are imported below:"
   ]
  },
  {
   "cell_type": "code",
   "execution_count": 2,
   "metadata": {},
   "outputs": [],
   "source": [
    "import pandas as pd\n",
    "import matplotlib"
   ]
  },
  {
   "cell_type": "markdown",
   "metadata": {},
   "source": [
    "## 1. Basic API calls without selected parameters"
   ]
  },
  {
   "cell_type": "markdown",
   "metadata": {},
   "source": [
    "## `/info`: Info about the API \n",
    "We can get information about the API and DraCor data by sending **GET requests** to the API. \n",
    "\n",
    "For this, we take the base URL, saved in the variable `API_URL` below:"
   ]
  },
  {
   "cell_type": "code",
   "execution_count": 3,
   "metadata": {},
   "outputs": [],
   "source": [
    "# save base URL in variable  \n",
    "API_URL = \"https://dracor.org/api/v1/\""
   ]
  },
  {
   "cell_type": "markdown",
   "metadata": {},
   "source": [
    "We can then extend the URL to ask for specific information. If we want to know more about the API itself, we can use the parameter `info/` saved in the variable `INFO_EXTENSION`.\n",
    "\n",
    "\n",
    "This will give us:\n",
    "* name\n",
    "* version\n",
    "* status\n",
    "* the version of the database (\"existdb\")\n",
    "\n",
    "The documentation of this endpoint can be found here: https://dracor.org/doc/api#/public/api-info"
   ]
  },
  {
   "cell_type": "code",
   "execution_count": 4,
   "metadata": {},
   "outputs": [
    {
     "data": {
      "text/plain": [
       "'{\\n  \"name\" : \"DraCor API v1\",\\n  \"version\" : \"1.0.2\",\\n  \"status\" : \"stable\",\\n  \"existdb\" : \"6.2.0\",\\n  \"base\" : \"https://dracor.org/api/v1\"\\n}'"
      ]
     },
     "execution_count": 4,
     "metadata": {},
     "output_type": "execute_result"
    }
   ],
   "source": [
    "# to get the info we extend the API URL by the parameter \"info\"\n",
    "# save \"info\" parameter in variable\n",
    "INFO_EXTENSION = \"info\"\n",
    "\n",
    "# add extension to the base URL\n",
    "api_info_url = API_URL + INFO_EXTENSION\n",
    "\n",
    "# perform get request\n",
    "r = requests.get(api_info_url)\n",
    "r.text"
   ]
  },
  {
   "cell_type": "markdown",
   "metadata": {},
   "source": [
    "The API returns the information in the JSON format, which we have to parse. We can call `.json()` on the request object."
   ]
  },
  {
   "cell_type": "code",
   "execution_count": 5,
   "metadata": {},
   "outputs": [
    {
     "data": {
      "text/plain": [
       "{'name': 'DraCor API v1',\n",
       " 'version': '1.0.2',\n",
       " 'status': 'stable',\n",
       " 'existdb': '6.2.0',\n",
       " 'base': 'https://dracor.org/api/v1'}"
      ]
     },
     "execution_count": 5,
     "metadata": {},
     "output_type": "execute_result"
    }
   ],
   "source": [
    "# read response as JSON\n",
    "parsed_response = r.json()\n",
    "parsed_response"
   ]
  },
  {
   "cell_type": "markdown",
   "metadata": {},
   "source": [
    "As the response is a dictionary object, we can e.g. get the current version of the API by accessing it with the keyword \"version\"."
   ]
  },
  {
   "cell_type": "code",
   "execution_count": 6,
   "metadata": {},
   "outputs": [
    {
     "name": "stdout",
     "output_type": "stream",
     "text": [
      "The current version of the Dracor-API is 1.0.2.\n"
     ]
    }
   ],
   "source": [
    "print(f\"The current version of the Dracor-API is {parsed_response['version']}.\")"
   ]
  },
  {
   "cell_type": "markdown",
   "metadata": {},
   "source": [
    "## `corpora/`: List available corpora \n",
    "\n",
    "With the extension `corpora/` saved in `CORPORA_EXT_PLAIN` we can display the list of corpora available in DraCor. \n",
    "\n",
    "The documentation of this endpoint can be found here: https://dracor.org/doc/api#/public/list-corpora"
   ]
  },
  {
   "cell_type": "code",
   "execution_count": 7,
   "metadata": {},
   "outputs": [
    {
     "name": "stdout",
     "output_type": "stream",
     "text": [
      "URL for getting the list of corpora: https://dracor.org/api/v1/corpora\n",
      "\n"
     ]
    },
    {
     "name": "stdout",
     "output_type": "stream",
     "text": [
      "als: Alsatian Drama Corpus\n",
      "bash: Bashkir Drama Corpus\n",
      "cal: Calderón Drama Corpus\n",
      "dutch: Dutch Drama Corpus\n",
      "fre: French Drama Corpus\n",
      "ger: German Drama Corpus\n",
      "gersh: German Shakespeare Drama Corpus\n",
      "greek: Greek Drama Corpus\n",
      "hun: Hungarian Drama Corpus\n",
      "ita: Italian Drama Corpus\n",
      "pol: Polish Drama Corpus\n",
      "rom: Roman Drama Corpus\n",
      "rus: Russian Drama Corpus\n",
      "shake: Shakespeare Drama Corpus\n",
      "span: Spanish Drama Corpus\n",
      "swe: Swedish Drama Corpus\n",
      "tat: Tatar Drama Corpus\n",
      "u: Ukrainian Drama Corpus\n"
     ]
    }
   ],
   "source": [
    "# save \"corpora\" parameter in variable\n",
    "CORPORA_EXT_PLAIN = \"corpora\"\n",
    "# add parameter to base URL to get information about the DraCor corpora \n",
    "api_corpora_url = API_URL + CORPORA_EXT_PLAIN\n",
    "print(f\"URL for getting the list of corpora: {api_corpora_url}\\n\")\n",
    "\n",
    "# perform API request\n",
    "# parse response with .json\n",
    "corpus_list = requests.get(api_corpora_url).json()\n",
    "\n",
    "#save corpus abbreviations in a list for later checking \n",
    "corpus_abbreviations = []\n",
    "\n",
    "# iterate through corpus list and print information\n",
    "for corpus_description in corpus_list:\n",
    "    name = corpus_description[\"name\"]\n",
    "    print(f'{name}: {corpus_description[\"title\"]}')\n",
    "    corpus_abbreviations.append(name)"
   ]
  },
  {
   "cell_type": "markdown",
   "metadata": {},
   "source": [
    "### Include corpora metrics\n",
    "To not only get the abbreviation and the name of corpora but also information about the number of speakers, the word count etc. we can change our API call so that these metrics are included in the response. We can do so by \n",
    "* adding a `?` to indicate that we will pass a key-value pair to the API\n",
    "* add the key-value pair like this `include=metrics`"
   ]
  },
  {
   "cell_type": "code",
   "execution_count": 8,
   "metadata": {},
   "outputs": [
    {
     "name": "stdout",
     "output_type": "stream",
     "text": [
      "URL for getting the list of corpora with metrics included: https://dracor.org/api/v1/corpora?include=metrics\n",
      "\n"
     ]
    },
    {
     "name": "stdout",
     "output_type": "stream",
     "text": [
      "Abbreviation: Corpus Name (Number of plays)\n",
      "als: Alsatian Drama Corpus (30)\n",
      "bash: Bashkir Drama Corpus (3)\n",
      "cal: Calderón Drama Corpus (205)\n",
      "dutch: Dutch Drama Corpus (98)\n",
      "fre: French Drama Corpus (1560)\n",
      "ger: German Drama Corpus (700)\n",
      "gersh: German Shakespeare Drama Corpus (38)\n",
      "greek: Greek Drama Corpus (40)\n",
      "hun: Hungarian Drama Corpus (74)\n",
      "ita: Italian Drama Corpus (139)\n",
      "pol: Polish Drama Corpus (10)\n",
      "rom: Roman Drama Corpus (36)\n",
      "rus: Russian Drama Corpus (212)\n",
      "shake: Shakespeare Drama Corpus (37)\n",
      "span: Spanish Drama Corpus (25)\n",
      "swe: Swedish Drama Corpus (68)\n",
      "tat: Tatar Drama Corpus (3)\n",
      "u: Ukrainian Drama Corpus (40)\n"
     ]
    }
   ],
   "source": [
    "# save metrics parameter in variable\n",
    "METRICS_PARAM_EXT = \"?include=metrics\"\n",
    "\n",
    "# add parameter to URL to get more information about the corpora \n",
    "api_corpora_metrics_urls = api_corpora_url + METRICS_PARAM_EXT\n",
    "print(f\"URL for getting the list of corpora with metrics included: {api_corpora_metrics_urls}\\n\")\n",
    "\n",
    "# perform API request\n",
    "corpora_metrics = requests.get(api_corpora_metrics_urls).json()\n",
    "\n",
    "# iterate through corpus list and print information\n",
    "# add the number of plays to the print statement which is retrieved from the corpus metrics\n",
    "print(\"Abbreviation: Corpus Name (Number of plays)\")\n",
    "for corpus in corpora_metrics:\n",
    "    abbreviation = corpus['name']\n",
    "    num_of_plays = corpus['metrics']['plays']\n",
    "    print(f\"{abbreviation}: {corpus['title']} ({str(num_of_plays)})\")"
   ]
  },
  {
   "cell_type": "markdown",
   "metadata": {},
   "source": [
    "## 2. API calls with selected parameters\n",
    "To get more information than included in the corpus metrics for a specific corpus, we first need to select a corpus from the list above. "
   ]
  },
  {
   "cell_type": "markdown",
   "metadata": {},
   "source": [
    "###  1. Choose a  `corpusname/`\n",
    "To choose a corpus in the field below, type the abbreviation of the corpus as listed above.\n",
    "The name you choose is saved in the variable `corpusname`.\n",
    "\n",
    "The documentation of this endpoint can be found here: https://dracor.org/doc/api#/public/list-corpus-content"
   ]
  },
  {
   "cell_type": "code",
   "execution_count": 9,
   "metadata": {
    "editable": true,
    "slideshow": {
     "slide_type": ""
    },
    "tags": []
   },
   "outputs": [],
   "source": [
    "# Choose a corpus \n",
    "# to use the interactive mode in Jupyter Lab change the type of the following cell to \"Code\"\n",
    "# The cell is not included in the HTML rendering\n",
    "\n",
    "corpusname = \"swe\""
   ]
  },
  {
   "cell_type": "markdown",
   "metadata": {
    "editable": true,
    "slideshow": {
     "slide_type": ""
    },
    "tags": [
     "remove-cell"
    ]
   },
   "source": [
    "for i in range(10):\n",
    "    # get corpusname with user input\n",
    "    # save corpusname in variable\n",
    "    corpusname = str(input(\"Please choose a corpusname from the list above. Enter the abbreviation: \"))\n",
    "    if corpusname not in corpus_abbreviations:\n",
    "        print(\"The abbreviation you selected is not in the list. Please enter the abbreviation again.\")\n",
    "    else:\n",
    "        print(\"Success!\")\n",
    "        break\n",
    "else:\n",
    "    corpusname = \"swe\""
   ]
  },
  {
   "cell_type": "code",
   "execution_count": 10,
   "metadata": {
    "editable": true,
    "slideshow": {
     "slide_type": ""
    },
    "tags": []
   },
   "outputs": [
    {
     "name": "stdout",
     "output_type": "stream",
     "text": [
      "URL for getting the metadata of a specific corpus: https://dracor.org/api/v1/corpora/swe/metadata\n",
      "\n"
     ]
    }
   ],
   "source": [
    "# save corpora parameter (with slash) and metadata parameter in variables\n",
    "CORPORA_EXT = \"corpora/\"\n",
    "METADAT_EXT = \"/metadata\"\n",
    "\n",
    "# build URL\n",
    "corpus_metadata_path = API_URL + CORPORA_EXT + corpusname + METADAT_EXT\n",
    "print(f\"URL for getting the metadata of a specific corpus: {corpus_metadata_path}\\n\")\n",
    "\n",
    "\n",
    "# perform request\n",
    "metadata_file = requests.get(corpus_metadata_path, headers={\"accept\": \"text/csv\"}, stream=True)\n",
    "metadata_file.raw.decode_content=True\n",
    "\n",
    "# read metadata to DataFrame\n",
    "metadata_df = pd.read_csv(metadata_file.raw, sep=\",\", encoding=\"utf-8\")"
   ]
  },
  {
   "cell_type": "markdown",
   "metadata": {},
   "source": [
    "### Inspect metadata"
   ]
  },
  {
   "cell_type": "code",
   "execution_count": 11,
   "metadata": {
    "scrolled": true
   },
   "outputs": [
    {
     "data": {
      "text/html": [
       "<div>\n",
       "<style scoped>\n",
       "    .dataframe tbody tr th:only-of-type {\n",
       "        vertical-align: middle;\n",
       "    }\n",
       "\n",
       "    .dataframe tbody tr th {\n",
       "        vertical-align: top;\n",
       "    }\n",
       "\n",
       "    .dataframe thead th {\n",
       "        text-align: right;\n",
       "    }\n",
       "</style>\n",
       "<table border=\"1\" class=\"dataframe\">\n",
       "  <thead>\n",
       "    <tr style=\"text-align: right;\">\n",
       "      <th></th>\n",
       "      <th>name</th>\n",
       "      <th>id</th>\n",
       "      <th>wikidataId</th>\n",
       "      <th>firstAuthor</th>\n",
       "      <th>numOfCoAuthors</th>\n",
       "      <th>title</th>\n",
       "      <th>subtitle</th>\n",
       "      <th>normalizedGenre</th>\n",
       "      <th>digitalSource</th>\n",
       "      <th>originalSourcePublisher</th>\n",
       "      <th>...</th>\n",
       "      <th>numEdges</th>\n",
       "      <th>yearWritten</th>\n",
       "      <th>numOfSegments</th>\n",
       "      <th>wikipediaLinkCount</th>\n",
       "      <th>numOfActs</th>\n",
       "      <th>wordCountText</th>\n",
       "      <th>wordCountSp</th>\n",
       "      <th>wordCountStage</th>\n",
       "      <th>numOfP</th>\n",
       "      <th>numOfL</th>\n",
       "    </tr>\n",
       "  </thead>\n",
       "  <tbody>\n",
       "    <tr>\n",
       "      <th>0</th>\n",
       "      <td>agrell-domd</td>\n",
       "      <td>swe000001</td>\n",
       "      <td>Q18238498</td>\n",
       "      <td>Agrell</td>\n",
       "      <td>0</td>\n",
       "      <td>Dömd</td>\n",
       "      <td>Skådespel i tre akter</td>\n",
       "      <td>NaN</td>\n",
       "      <td>NaN</td>\n",
       "      <td>NaN</td>\n",
       "      <td>...</td>\n",
       "      <td>96</td>\n",
       "      <td>NaN</td>\n",
       "      <td>43</td>\n",
       "      <td>1</td>\n",
       "      <td>3</td>\n",
       "      <td>22939</td>\n",
       "      <td>22206</td>\n",
       "      <td>2496</td>\n",
       "      <td>1122</td>\n",
       "      <td>0</td>\n",
       "    </tr>\n",
       "    <tr>\n",
       "      <th>1</th>\n",
       "      <td>agrell-en-hufvudsak</td>\n",
       "      <td>swe000002</td>\n",
       "      <td>Q18238627</td>\n",
       "      <td>Agrell</td>\n",
       "      <td>0</td>\n",
       "      <td>En hufvudsak</td>\n",
       "      <td>Komedi i en akt</td>\n",
       "      <td>NaN</td>\n",
       "      <td>NaN</td>\n",
       "      <td>NaN</td>\n",
       "      <td>...</td>\n",
       "      <td>5</td>\n",
       "      <td>NaN</td>\n",
       "      <td>7</td>\n",
       "      <td>1</td>\n",
       "      <td>1</td>\n",
       "      <td>7249</td>\n",
       "      <td>7024</td>\n",
       "      <td>570</td>\n",
       "      <td>490</td>\n",
       "      <td>0</td>\n",
       "    </tr>\n",
       "    <tr>\n",
       "      <th>2</th>\n",
       "      <td>agrell-en-lektion</td>\n",
       "      <td>swe000003</td>\n",
       "      <td>Q10483370</td>\n",
       "      <td>Agrell</td>\n",
       "      <td>0</td>\n",
       "      <td>En lektion</td>\n",
       "      <td>Konversation i en akt</td>\n",
       "      <td>NaN</td>\n",
       "      <td>NaN</td>\n",
       "      <td>NaN</td>\n",
       "      <td>...</td>\n",
       "      <td>1</td>\n",
       "      <td>NaN</td>\n",
       "      <td>1</td>\n",
       "      <td>1</td>\n",
       "      <td>1</td>\n",
       "      <td>4229</td>\n",
       "      <td>4028</td>\n",
       "      <td>361</td>\n",
       "      <td>221</td>\n",
       "      <td>0</td>\n",
       "    </tr>\n",
       "    <tr>\n",
       "      <th>3</th>\n",
       "      <td>agrell-ensam</td>\n",
       "      <td>swe000004</td>\n",
       "      <td>Q18238675</td>\n",
       "      <td>Agrell</td>\n",
       "      <td>0</td>\n",
       "      <td>Ensam</td>\n",
       "      <td>Skådespel i tre akter</td>\n",
       "      <td>NaN</td>\n",
       "      <td>NaN</td>\n",
       "      <td>NaN</td>\n",
       "      <td>...</td>\n",
       "      <td>18</td>\n",
       "      <td>NaN</td>\n",
       "      <td>21</td>\n",
       "      <td>1</td>\n",
       "      <td>3</td>\n",
       "      <td>16674</td>\n",
       "      <td>15558</td>\n",
       "      <td>3308</td>\n",
       "      <td>904</td>\n",
       "      <td>0</td>\n",
       "    </tr>\n",
       "    <tr>\n",
       "      <th>4</th>\n",
       "      <td>agrell-hvarfor</td>\n",
       "      <td>swe000005</td>\n",
       "      <td>Q18242708</td>\n",
       "      <td>Agrell</td>\n",
       "      <td>0</td>\n",
       "      <td>\"Hvarför?\"</td>\n",
       "      <td>Komedie i en akt</td>\n",
       "      <td>NaN</td>\n",
       "      <td>NaN</td>\n",
       "      <td>NaN</td>\n",
       "      <td>...</td>\n",
       "      <td>6</td>\n",
       "      <td>NaN</td>\n",
       "      <td>9</td>\n",
       "      <td>1</td>\n",
       "      <td>1</td>\n",
       "      <td>6481</td>\n",
       "      <td>6183</td>\n",
       "      <td>406</td>\n",
       "      <td>369</td>\n",
       "      <td>0</td>\n",
       "    </tr>\n",
       "  </tbody>\n",
       "</table>\n",
       "<p>5 rows × 42 columns</p>\n",
       "</div>"
      ],
      "text/plain": [
       "                  name         id wikidataId firstAuthor  numOfCoAuthors  \\\n",
       "0          agrell-domd  swe000001  Q18238498      Agrell               0   \n",
       "1  agrell-en-hufvudsak  swe000002  Q18238627      Agrell               0   \n",
       "2    agrell-en-lektion  swe000003  Q10483370      Agrell               0   \n",
       "3         agrell-ensam  swe000004  Q18238675      Agrell               0   \n",
       "4       agrell-hvarfor  swe000005  Q18242708      Agrell               0   \n",
       "\n",
       "          title               subtitle  normalizedGenre  digitalSource  \\\n",
       "0          Dömd  Skådespel i tre akter              NaN            NaN   \n",
       "1  En hufvudsak        Komedi i en akt              NaN            NaN   \n",
       "2    En lektion  Konversation i en akt              NaN            NaN   \n",
       "3         Ensam  Skådespel i tre akter              NaN            NaN   \n",
       "4    \"Hvarför?\"       Komedie i en akt              NaN            NaN   \n",
       "\n",
       "   originalSourcePublisher  ...  numEdges  yearWritten  numOfSegments  \\\n",
       "0                      NaN  ...        96          NaN             43   \n",
       "1                      NaN  ...         5          NaN              7   \n",
       "2                      NaN  ...         1          NaN              1   \n",
       "3                      NaN  ...        18          NaN             21   \n",
       "4                      NaN  ...         6          NaN              9   \n",
       "\n",
       "   wikipediaLinkCount  numOfActs  wordCountText  wordCountSp  wordCountStage  \\\n",
       "0                   1          3          22939        22206            2496   \n",
       "1                   1          1           7249         7024             570   \n",
       "2                   1          1           4229         4028             361   \n",
       "3                   1          3          16674        15558            3308   \n",
       "4                   1          1           6481         6183             406   \n",
       "\n",
       "   numOfP numOfL  \n",
       "0    1122      0  \n",
       "1     490      0  \n",
       "2     221      0  \n",
       "3     904      0  \n",
       "4     369      0  \n",
       "\n",
       "[5 rows x 42 columns]"
      ]
     },
     "execution_count": 11,
     "metadata": {},
     "output_type": "execute_result"
    }
   ],
   "source": [
    "# display first five lines of the retrieved metadata \n",
    "metadata_df.head()"
   ]
  },
  {
   "cell_type": "markdown",
   "metadata": {},
   "source": [
    "Look at information available in the metadata "
   ]
  },
  {
   "cell_type": "code",
   "execution_count": 12,
   "metadata": {},
   "outputs": [
    {
     "data": {
      "text/plain": [
       "Index(['name', 'id', 'wikidataId', 'firstAuthor', 'numOfCoAuthors', 'title',\n",
       "       'subtitle', 'normalizedGenre', 'digitalSource',\n",
       "       'originalSourcePublisher', 'originalSourcePubPlace',\n",
       "       'originalSourceYear', 'originalSourceNumberOfPages', 'yearNormalized',\n",
       "       'size', 'libretto', 'averageClustering', 'density', 'averagePathLength',\n",
       "       'maxDegreeIds', 'averageDegree', 'diameter', 'datePremiered',\n",
       "       'yearPremiered', 'yearPrinted', 'maxDegree', 'numOfSpeakers',\n",
       "       'numOfSpeakersFemale', 'numOfSpeakersMale', 'numOfSpeakersUnknown',\n",
       "       'numOfPersonGroups', 'numConnectedComponents', 'numEdges',\n",
       "       'yearWritten', 'numOfSegments', 'wikipediaLinkCount', 'numOfActs',\n",
       "       'wordCountText', 'wordCountSp', 'wordCountStage', 'numOfP', 'numOfL'],\n",
       "      dtype='object')"
      ]
     },
     "execution_count": 12,
     "metadata": {},
     "output_type": "execute_result"
    }
   ],
   "source": [
    "# print column names available in meta data \n",
    "metadata_df.columns"
   ]
  },
  {
   "cell_type": "markdown",
   "metadata": {},
   "source": [
    "### 3. What to do with the metadata - Examples\n",
    "\n",
    "The library pandas allows us to plot selected columns against each other. If we want to see if one parameter e.g. the number of characters (as in 1) develops over time, we can set the x-axis to the years the plays were created (\"yearNormalized) and the y-axis to the number of characters (\"size\") in the play. \n",
    "\n",
    "The documentation of the `plot` function can be found here: https://pandas.pydata.org/docs/reference/api/pandas.DataFrame.plot.html\n",
    "\n",
    "1. Plot the number of characters (\"size\") in the plays over time (\"yearNormalized\")\n",
    "\n",
    "2. Plot the length of the play (\"wordCountText\") over time (\"yearNormalized\")\n",
    "\n",
    "3. Get the five longest plays\n",
    "    * sort plays by \"wordCountText\"\n",
    "    * show first five\n",
    "    \n",
    "4. Get number of plays published after 1800 and before 1900\n",
    "    * filter: \"yearNormalized\"\n",
    "    * filter-value: 1800 and 1900\n",
    "    * filter-operation: > and <\n",
    "    \n",
    "5. Plot development of the length of stage descriptions\n",
    "    * filter: 'wordCountStage'\n",
    "    * calculate percentage of stage directions in relation to wordcount in new column\n",
    "    * plot by time \n",
    "    \n",
    "6. Plot the relation of female speakers over time \n",
    "    * filter: 'numOfSpeakers', 'numOfSpeakersFemale'\n",
    "    * calculate percentage of female speakers\n",
    "    * plot by time   "
   ]
  },
  {
   "cell_type": "code",
   "execution_count": 13,
   "metadata": {},
   "outputs": [
    {
     "data": {
      "text/plain": [
       "<Axes: xlabel='yearNormalized', ylabel='size'>"
      ]
     },
     "execution_count": 13,
     "metadata": {},
     "output_type": "execute_result"
    },
    {
     "data": {
      "image/png": "[encoded data removed]",
      "text/plain": [
       "<Figure size 640x480 with 1 Axes>"
      ]
     },
     "metadata": {},
     "output_type": "display_data"
    }
   ],
   "source": [
    "# 1. Get number of characters of each play and plot the normalized year\n",
    "metadata_df.plot(x=\"yearNormalized\", y=\"size\", kind=\"scatter\")"
   ]
  },
  {
   "cell_type": "code",
   "execution_count": 14,
   "metadata": {},
   "outputs": [
    {
     "data": {
      "text/plain": [
       "<Axes: xlabel='yearNormalized', ylabel='wordCountText'>"
      ]
     },
     "execution_count": 14,
     "metadata": {},
     "output_type": "execute_result"
    },
    {
     "data": {
      "image/png": "[encoded data removed]",
      "text/plain": [
       "<Figure size 640x480 with 1 Axes>"
      ]
     },
     "metadata": {},
     "output_type": "display_data"
    }
   ],
   "source": [
    "# 2. Plot length of play in words by the normalized year\n",
    "metadata_df.plot(x=\"yearNormalized\", y=\"wordCountText\", kind=\"scatter\", )"
   ]
  },
  {
   "cell_type": "code",
   "execution_count": 15,
   "metadata": {},
   "outputs": [
    {
     "data": {
      "text/html": [
       "<div>\n",
       "<style scoped>\n",
       "    .dataframe tbody tr th:only-of-type {\n",
       "        vertical-align: middle;\n",
       "    }\n",
       "\n",
       "    .dataframe tbody tr th {\n",
       "        vertical-align: top;\n",
       "    }\n",
       "\n",
       "    .dataframe thead th {\n",
       "        text-align: right;\n",
       "    }\n",
       "</style>\n",
       "<table border=\"1\" class=\"dataframe\">\n",
       "  <thead>\n",
       "    <tr style=\"text-align: right;\">\n",
       "      <th></th>\n",
       "      <th>name</th>\n",
       "      <th>id</th>\n",
       "      <th>wikidataId</th>\n",
       "      <th>firstAuthor</th>\n",
       "      <th>numOfCoAuthors</th>\n",
       "      <th>title</th>\n",
       "      <th>subtitle</th>\n",
       "      <th>normalizedGenre</th>\n",
       "      <th>digitalSource</th>\n",
       "      <th>originalSourcePublisher</th>\n",
       "      <th>...</th>\n",
       "      <th>numEdges</th>\n",
       "      <th>yearWritten</th>\n",
       "      <th>numOfSegments</th>\n",
       "      <th>wikipediaLinkCount</th>\n",
       "      <th>numOfActs</th>\n",
       "      <th>wordCountText</th>\n",
       "      <th>wordCountSp</th>\n",
       "      <th>wordCountStage</th>\n",
       "      <th>numOfP</th>\n",
       "      <th>numOfL</th>\n",
       "    </tr>\n",
       "  </thead>\n",
       "  <tbody>\n",
       "    <tr>\n",
       "      <th>54</th>\n",
       "      <td>strindberg-till-damaskus</td>\n",
       "      <td>swe000053</td>\n",
       "      <td>Q931843</td>\n",
       "      <td>Strindberg</td>\n",
       "      <td>0</td>\n",
       "      <td>Till Damaskus</td>\n",
       "      <td>NaN</td>\n",
       "      <td>NaN</td>\n",
       "      <td>NaN</td>\n",
       "      <td>NaN</td>\n",
       "      <td>...</td>\n",
       "      <td>273</td>\n",
       "      <td>NaN</td>\n",
       "      <td>26</td>\n",
       "      <td>5</td>\n",
       "      <td>9</td>\n",
       "      <td>37253</td>\n",
       "      <td>34125</td>\n",
       "      <td>4374</td>\n",
       "      <td>1906</td>\n",
       "      <td>19</td>\n",
       "    </tr>\n",
       "    <tr>\n",
       "      <th>14</th>\n",
       "      <td>hedberg-rospiggarna</td>\n",
       "      <td>swe000015</td>\n",
       "      <td>Q59618593</td>\n",
       "      <td>Hedberg</td>\n",
       "      <td>0</td>\n",
       "      <td>Rospiggarna</td>\n",
       "      <td>Folklustspel med sång i fyra akter</td>\n",
       "      <td>NaN</td>\n",
       "      <td>NaN</td>\n",
       "      <td>NaN</td>\n",
       "      <td>...</td>\n",
       "      <td>341</td>\n",
       "      <td>NaN</td>\n",
       "      <td>51</td>\n",
       "      <td>0</td>\n",
       "      <td>4</td>\n",
       "      <td>30399</td>\n",
       "      <td>28436</td>\n",
       "      <td>6288</td>\n",
       "      <td>1736</td>\n",
       "      <td>102</td>\n",
       "    </tr>\n",
       "    <tr>\n",
       "      <th>50</th>\n",
       "      <td>strindberg-master-olof</td>\n",
       "      <td>swe000049</td>\n",
       "      <td>Q1765367</td>\n",
       "      <td>Strindberg</td>\n",
       "      <td>0</td>\n",
       "      <td>Mäster Olof</td>\n",
       "      <td>Skådespel i fem akter</td>\n",
       "      <td>NaN</td>\n",
       "      <td>NaN</td>\n",
       "      <td>NaN</td>\n",
       "      <td>...</td>\n",
       "      <td>347</td>\n",
       "      <td>NaN</td>\n",
       "      <td>9</td>\n",
       "      <td>5</td>\n",
       "      <td>5</td>\n",
       "      <td>28441</td>\n",
       "      <td>26257</td>\n",
       "      <td>2998</td>\n",
       "      <td>1609</td>\n",
       "      <td>18</td>\n",
       "    </tr>\n",
       "    <tr>\n",
       "      <th>31</th>\n",
       "      <td>malling-fru-leonora</td>\n",
       "      <td>swe000030</td>\n",
       "      <td>Q59645535</td>\n",
       "      <td>Malling</td>\n",
       "      <td>0</td>\n",
       "      <td>Fru Leonora</td>\n",
       "      <td>Komedi i fyra akter</td>\n",
       "      <td>NaN</td>\n",
       "      <td>NaN</td>\n",
       "      <td>NaN</td>\n",
       "      <td>...</td>\n",
       "      <td>32</td>\n",
       "      <td>NaN</td>\n",
       "      <td>36</td>\n",
       "      <td>0</td>\n",
       "      <td>4</td>\n",
       "      <td>25227</td>\n",
       "      <td>23373</td>\n",
       "      <td>4226</td>\n",
       "      <td>890</td>\n",
       "      <td>0</td>\n",
       "    </tr>\n",
       "    <tr>\n",
       "      <th>35</th>\n",
       "      <td>molander-varflod</td>\n",
       "      <td>swe000034</td>\n",
       "      <td>Q59618305</td>\n",
       "      <td>Molander</td>\n",
       "      <td>0</td>\n",
       "      <td>Vårflod</td>\n",
       "      <td>Komedi i fyra akter</td>\n",
       "      <td>NaN</td>\n",
       "      <td>NaN</td>\n",
       "      <td>NaN</td>\n",
       "      <td>...</td>\n",
       "      <td>27</td>\n",
       "      <td>NaN</td>\n",
       "      <td>57</td>\n",
       "      <td>0</td>\n",
       "      <td>4</td>\n",
       "      <td>24349</td>\n",
       "      <td>22192</td>\n",
       "      <td>3351</td>\n",
       "      <td>1215</td>\n",
       "      <td>0</td>\n",
       "    </tr>\n",
       "  </tbody>\n",
       "</table>\n",
       "<p>5 rows × 42 columns</p>\n",
       "</div>"
      ],
      "text/plain": [
       "                        name         id wikidataId firstAuthor  \\\n",
       "54  strindberg-till-damaskus  swe000053    Q931843  Strindberg   \n",
       "14       hedberg-rospiggarna  swe000015  Q59618593     Hedberg   \n",
       "50    strindberg-master-olof  swe000049   Q1765367  Strindberg   \n",
       "31       malling-fru-leonora  swe000030  Q59645535     Malling   \n",
       "35          molander-varflod  swe000034  Q59618305    Molander   \n",
       "\n",
       "    numOfCoAuthors          title                            subtitle  \\\n",
       "54               0  Till Damaskus                                 NaN   \n",
       "14               0    Rospiggarna  Folklustspel med sång i fyra akter   \n",
       "50               0    Mäster Olof               Skådespel i fem akter   \n",
       "31               0    Fru Leonora                 Komedi i fyra akter   \n",
       "35               0        Vårflod                 Komedi i fyra akter   \n",
       "\n",
       "    normalizedGenre  digitalSource  originalSourcePublisher  ...  numEdges  \\\n",
       "54              NaN            NaN                      NaN  ...       273   \n",
       "14              NaN            NaN                      NaN  ...       341   \n",
       "50              NaN            NaN                      NaN  ...       347   \n",
       "31              NaN            NaN                      NaN  ...        32   \n",
       "35              NaN            NaN                      NaN  ...        27   \n",
       "\n",
       "    yearWritten  numOfSegments  wikipediaLinkCount  numOfActs  wordCountText  \\\n",
       "54          NaN             26                   5          9          37253   \n",
       "14          NaN             51                   0          4          30399   \n",
       "50          NaN              9                   5          5          28441   \n",
       "31          NaN             36                   0          4          25227   \n",
       "35          NaN             57                   0          4          24349   \n",
       "\n",
       "    wordCountSp  wordCountStage  numOfP numOfL  \n",
       "54        34125            4374    1906     19  \n",
       "14        28436            6288    1736    102  \n",
       "50        26257            2998    1609     18  \n",
       "31        23373            4226     890      0  \n",
       "35        22192            3351    1215      0  \n",
       "\n",
       "[5 rows x 42 columns]"
      ]
     },
     "execution_count": 15,
     "metadata": {},
     "output_type": "execute_result"
    }
   ],
   "source": [
    "# 3. Sort plays by wordcount, show first 5 entries\n",
    "metadata_by_length = metadata_df.sort_values(by=\"wordCountText\", axis=0, ascending=False)\n",
    "\n",
    "# get the first five entries \n",
    "metadata_by_length[0:5]"
   ]
  },
  {
   "cell_type": "code",
   "execution_count": 16,
   "metadata": {},
   "outputs": [
    {
     "name": "stdout",
     "output_type": "stream",
     "text": [
      "Number of plays in the selected time period: 67\n"
     ]
    }
   ],
   "source": [
    "# 4. Get number of plays between 1800 and 1900 \n",
    "num_of_plays = len(metadata_df[(metadata_df[\"yearNormalized\"] > 1800) & (metadata_df[\"yearNormalized\"] < 1900)])\n",
    "print(f\"Number of plays in the selected time period: {num_of_plays}\")"
   ]
  },
  {
   "cell_type": "code",
   "execution_count": 17,
   "metadata": {},
   "outputs": [
    {
     "data": {
      "text/plain": [
       "<Axes: xlabel='yearNormalized', ylabel='wordCountStagePercentage'>"
      ]
     },
     "execution_count": 17,
     "metadata": {},
     "output_type": "execute_result"
    },
    {
     "data": {
      "image/png": "[encoded data removed]",
      "text/plain": [
       "<Figure size 640x480 with 1 Axes>"
      ]
     },
     "metadata": {},
     "output_type": "display_data"
    }
   ],
   "source": [
    "# 5. Calculate percentage of tokens in stage directions in relation to all tokens \n",
    "# save the calculated percentages in a new column\n",
    "stage_percentage = metadata_df[\"wordCountStage\"] / metadata_df[\"wordCountText\"]\n",
    "metadata_df[\"wordCountStagePercentage\"] = stage_percentage\n",
    "metadata_df.plot(x=\"yearNormalized\", y=\"wordCountStagePercentage\", kind=\"scatter\")"
   ]
  },
  {
   "cell_type": "code",
   "execution_count": 18,
   "metadata": {},
   "outputs": [
    {
     "data": {
      "text/plain": [
       "<Axes: xlabel='yearNormalized', ylabel='numOfSpeakersFemalePercentage'>"
      ]
     },
     "execution_count": 18,
     "metadata": {},
     "output_type": "execute_result"
    },
    {
     "data": {
      "image/png": "[encoded data removed]",
      "text/plain": [
       "<Figure size 640x480 with 1 Axes>"
      ]
     },
     "metadata": {},
     "output_type": "display_data"
    }
   ],
   "source": [
    "# 6. Display the relation of female speaker over time\n",
    "speakers_total = metadata_df[\"numOfSpeakers\"]\n",
    "metadata_df[\"numOfSpeakersFemalePercentage\"] = metadata_df[\"numOfSpeakersFemale\"] / speakers_total\n",
    "metadata_df.plot(x=\"yearNormalized\", y=\"numOfSpeakersFemalePercentage\", kind=\"scatter\")"
   ]
  },
  {
   "cell_type": "markdown",
   "metadata": {},
   "source": [
    "## 3.  `play/`: Select text\n",
    "The API also allows us to load single texts or abstract representation such as network data of single texts.\n",
    "For this we need to extend the URL by the parameter `play/`, followed by the name of the play as listed in metadata. This will give us:\n",
    "* metadata of the play\n",
    "* network data to the play\n",
    "* speaker list\n",
    "* division into scenes and the appearing speakers\n",
    "\n",
    "The documentation of this endpoint can be found here: https://dracor.org/doc/api#/public/play-info"
   ]
  },
  {
   "cell_type": "code",
   "execution_count": 19,
   "metadata": {
    "editable": true,
    "slideshow": {
     "slide_type": ""
    },
    "tags": []
   },
   "outputs": [],
   "source": [
    "# save play parameter in variable\n",
    "PLAY_EXT = \"/plays/\""
   ]
  },
  {
   "cell_type": "code",
   "execution_count": 20,
   "metadata": {
    "editable": true,
    "slideshow": {
     "slide_type": ""
    },
    "tags": []
   },
   "outputs": [],
   "source": [
    "# Choose a play \n",
    "# to use the interactive mode in Jupyter Lab change the type of the following cell to \"Code\"\n",
    "# The cell is not included in the HTML rendering\n",
    "\n",
    "play_name = \"strindberg-gillets-hemlighet\""
   ]
  },
  {
   "cell_type": "markdown",
   "metadata": {
    "editable": true,
    "slideshow": {
     "slide_type": ""
    },
    "tags": [
     "remove-cell"
    ]
   },
   "source": [
    "# save column name in which the play names are stored in a variable \n",
    "PLAY_KEY = \"name\"\n",
    "for i in range(10):\n",
    "    # get play name with user input\n",
    "    # save play name in variable\n",
    "    play_name = str(input(\"Please choose a text from the corpus you have chosen. Enter the text name: \"))\n",
    "    if play_name not in metadata_df[PLAY_KEY].values:\n",
    "        print(\"The name you selected is not in the list. Please enter the name again.\")\n",
    "    else:\n",
    "        print(\"Success!\")\n",
    "        break\n",
    "else:\n",
    "    play_name = \"strindberg-gillets-hemlighet\""
   ]
  },
  {
   "cell_type": "code",
   "execution_count": 21,
   "metadata": {},
   "outputs": [
    {
     "name": "stdout",
     "output_type": "stream",
     "text": [
      "URL for getting information of a specific play: https://dracor.org/api/v1/corpora/swe/plays/strindberg-gillets-hemlighet\n",
      "\n"
     ]
    },
    {
     "name": "stdout",
     "output_type": "stream",
     "text": [
      "Character list\n",
      "['Helvig', 'Nils', 'Olof', 'Cecilia', 'Jurgen', 'Jacques', 'Gerhard', 'Hans', 'Sten', 'Claus', 'Martin', 'Margaretha', '1:ste BORGAREN', '2:dre BORGAREN', 'Tre Borgare', '3:dje BORGAREN', 'Gesäller']\n"
     ]
    }
   ],
   "source": [
    "# build URL\n",
    "play_path = API_URL + CORPORA_EXT + corpusname + PLAY_EXT + play_name\n",
    "print(f\"URL for getting information of a specific play: {play_path}\\n\")\n",
    "\n",
    "# perform request\n",
    "play_info = requests.get(play_path).json()\n",
    "\n",
    "# extract character names\n",
    "character_names = [entry[\"name\"] for entry in play_info[\"characters\"]]\n",
    "print(\"Character list\")\n",
    "print(character_names)"
   ]
  },
  {
   "cell_type": "markdown",
   "metadata": {},
   "source": [
    "### Exercise\n",
    "* How else could we get the characters of the play? Is there a more specific API call if we only want that information?"
   ]
  },
  {
   "cell_type": "code",
   "execution_count": 22,
   "metadata": {},
   "outputs": [
    {
     "name": "stdout",
     "output_type": "stream",
     "text": [
      "https://dracor.org/api/v1/\n",
      "corpora/\n",
      "swe\n",
      "/plays/\n",
      "strindberg-gillets-hemlighet\n",
      "Combined the URL looks like this: https://dracor.org/api/v1/corpora/swe/plays/strindberg-gillets-hemlighet\n"
     ]
    }
   ],
   "source": [
    "# API call for getting a specific play is saved in the variable `play_path`\n",
    "# This is it consists of \n",
    "print(API_URL)\n",
    "print(CORPORA_EXT)\n",
    "print(corpusname)\n",
    "print(PLAY_EXT)\n",
    "print(play_name)\n",
    "print(f\"Combined the URL looks like this: {play_path}\")"
   ]
  },
  {
   "cell_type": "code",
   "execution_count": 23,
   "metadata": {
    "editable": true,
    "slideshow": {
     "slide_type": ""
    },
    "tags": []
   },
   "outputs": [
    {
     "name": "stdout",
     "output_type": "stream",
     "text": [
      "It looks like your URL is not valid. Status code is: 400\n"
     ]
    }
   ],
   "source": [
    "# We can add something to the URL like this:\n",
    "# (just replace anything-you-want-to-add with the keyword of your choice)\n",
    "# add your chosen parameter to the path to the play you selected\n",
    "character_url = play_path + \"/anything-you-want-to-add\"\n",
    "\n",
    "# perform request\n",
    "character_info = requests.get(character_url)\n",
    "if character_info.status_code != 200:\n",
    "    print(f\"It looks like your URL is not valid. Status code is: {character_info.status_code}\")\n",
    "else:\n",
    "    print(\"Success! Here is the output:\")\n",
    "    print(character_info.json())"
   ]
  },
  {
   "cell_type": "markdown",
   "metadata": {},
   "source": [
    "## Specify single play requests\n",
    "We can specify which information of the play we want to retrieve. We do so by extending the URL by an additional parameter. If for example we want to get the spoken text of the characters, we need to extend the URL by `spoken-text-by-character`.\n",
    "\n",
    "The documentation of this endpoint can be found here: https://dracor.org/doc/api#/public/play-spoken-text-by-character\n",
    "\n",
    "You could also choose other information to retrieve e.g. stage directions and speakers, spoken text only (without the attribution to the speaker) and so on. Just have a look at the API documentation and see what parameters can be added after `{playname}`."
   ]
  },
  {
   "cell_type": "code",
   "execution_count": 24,
   "metadata": {},
   "outputs": [],
   "source": [
    "# save parameter to get more specific data to the selected play in a variable \n",
    "PLAY_SPECIFICATION = \"/spoken-text-by-character\""
   ]
  },
  {
   "cell_type": "code",
   "execution_count": 25,
   "metadata": {},
   "outputs": [
    {
     "name": "stdout",
     "output_type": "stream",
     "text": [
      "URL for getting specified information of a play: https://dracor.org/api/v1/corpora/swe/plays/strindberg-gillets-hemlighet/spoken-text-by-character\n",
      "\n"
     ]
    }
   ],
   "source": [
    "# extend play URL \n",
    "play_spec_path = play_path + PLAY_SPECIFICATION\n",
    "print(f\"URL for getting specified information of a play: {play_spec_path}\\n\")\n",
    "\n",
    "# perform request \n",
    "play_spec = requests.get(play_spec_path).json()"
   ]
  },
  {
   "cell_type": "markdown",
   "metadata": {},
   "source": [
    "### Example\n",
    "We can now perform some analyses with the text we retrieved. With just some minor preprocessing (tokenization) we can ask:\n",
    "* Who talks most often about love or guns \n",
    "\n",
    "\n",
    "Since the characters are also annotated with gender with can explore simple gender related questions, such as:\n",
    "* Do men talk more often about swords, guns, weapons?\n",
    "* Do women talk more often about love, roses, children?\n",
    "\n",
    "For this we need to import the natural language toolkit `nltk` (https://www.nltk.org/) or any other NLP library, e.g. spaCy to tokenize the spoken text. We can then calculate the frequencies by character and sum them up by gender. For counting the selected words, we can use the library `collections` (https://docs.python.org/3/library/collections.html)"
   ]
  },
  {
   "cell_type": "code",
   "execution_count": 26,
   "metadata": {},
   "outputs": [
    {
     "name": "stderr",
     "output_type": "stream",
     "text": [
      "[nltk_data] Downloading package punkt to /root/nltk_data...\n",
      "[nltk_data]   Package punkt is already up-to-date!\n"
     ]
    },
    {
     "data": {
      "text/plain": [
       "True"
      ]
     },
     "execution_count": 26,
     "metadata": {},
     "output_type": "execute_result"
    }
   ],
   "source": [
    "import nltk\n",
    "from nltk.tokenize import word_tokenize\n",
    "from collections import Counter\n",
    "nltk.download('punkt')"
   ]
  },
  {
   "cell_type": "code",
   "execution_count": 27,
   "metadata": {},
   "outputs": [],
   "source": [
    "# save keyword for a character's text in a variable\n",
    "TEXT_KEY = \"text\"\n",
    "# save new column names in variables\n",
    "ANNO_KEY = \"text annotation\"\n",
    "FRQ_KEY = \"frequencies\"\n",
    "\n",
    "# tokenize and count words\n",
    "# iterate characters\n",
    "for character_entry in play_spec:\n",
    "    # tokenize speech acts\n",
    "    annotation =  [word_tokenize(sen) for sen in character_entry[TEXT_KEY]]\n",
    "    # save tokenized text and word frequencies\n",
    "    character_entry[ANNO_KEY] = [word for sen in annotation for word in sen]\n",
    "    character_entry[FRQ_KEY] = Counter(character_entry[ANNO_KEY])"
   ]
  },
  {
   "cell_type": "markdown",
   "metadata": {},
   "source": [
    "### Create word list\n",
    "Create your list of words below. Each word must be placed in between strings (\"word\") and separated with a comma from the next word."
   ]
  },
  {
   "cell_type": "code",
   "execution_count": 28,
   "metadata": {},
   "outputs": [],
   "source": [
    "word_list = [\"rose\", \"blom\", \"barn\", \"vapen\", \"gevär\", \"pengar\"]"
   ]
  },
  {
   "cell_type": "markdown",
   "metadata": {},
   "source": [
    "### Analyze"
   ]
  },
  {
   "cell_type": "code",
   "execution_count": 29,
   "metadata": {},
   "outputs": [
    {
     "name": "stdout",
     "output_type": "stream",
     "text": [
      "Helvig\n",
      "barn: 2\n",
      "--------------------------------------------------\n",
      "Nils\n",
      "barn: 3\n",
      "--------------------------------------------------\n",
      "Olof\n",
      "None of the words found in the speech of this character.\n",
      "--------------------------------------------------\n",
      "Cecilia\n",
      "None of the words found in the speech of this character.\n",
      "--------------------------------------------------\n",
      "Jurgen\n",
      "None of the words found in the speech of this character.\n",
      "--------------------------------------------------\n",
      "Jacques\n",
      "barn: 3\n",
      "--------------------------------------------------\n",
      "Gerhard\n",
      "None of the words found in the speech of this character.\n",
      "--------------------------------------------------\n",
      "Hans\n",
      "None of the words found in the speech of this character.\n",
      "--------------------------------------------------\n",
      "Sten\n",
      "blom: 1\n",
      "barn: 1\n",
      "--------------------------------------------------\n",
      "Claus\n",
      "barn: 1\n",
      "pengar: 1\n",
      "--------------------------------------------------\n",
      "Martin\n",
      "None of the words found in the speech of this character.\n",
      "--------------------------------------------------\n",
      "Margaretha\n",
      "barn: 7\n",
      "--------------------------------------------------\n",
      "1:ste BORGAREN\n",
      "None of the words found in the speech of this character.\n",
      "--------------------------------------------------\n",
      "2:dre BORGAREN\n",
      "None of the words found in the speech of this character.\n",
      "--------------------------------------------------\n",
      "Tre Borgare\n",
      "None of the words found in the speech of this character.\n",
      "--------------------------------------------------\n",
      "3:dje BORGAREN\n",
      "None of the words found in the speech of this character.\n",
      "--------------------------------------------------\n",
      "Gesäller\n",
      "None of the words found in the speech of this character.\n",
      "--------------------------------------------------\n"
     ]
    }
   ],
   "source": [
    "# save character name key in a variable\n",
    "NAME_KEY = \"label\"\n",
    "\n",
    "# get frequencies of the words in the word list by character\n",
    "# iterate characters\n",
    "for character_entry in play_spec:\n",
    "    # get character name\n",
    "    print(character_entry[NAME_KEY])\n",
    "    found = False\n",
    "    # for each word in the word list, look up the frequency in the speech of the current character\n",
    "    for word in word_list:\n",
    "        if word in character_entry[FRQ_KEY]:\n",
    "            print(f\"{word}: {character_entry[FRQ_KEY][word]}\")\n",
    "            found = True\n",
    "    if not found:\n",
    "        print(\"None of the words found in the speech of this character.\")\n",
    "    print(\"-\"*50)"
   ]
  },
  {
   "cell_type": "code",
   "execution_count": 30,
   "metadata": {},
   "outputs": [],
   "source": [
    "# save the gender key for the characters in a variable\n",
    "GENDER_KEY = \"gender\"\n",
    "# create results dictionary\n",
    "# for each word the frequency by gender is saved \n",
    "words_by_gender = {word: {\"MALE\": 0, \"FEMALE\": 0, \"UNKNOWN\":0} for word in word_list}\n",
    "\n",
    "# get frequencies of the words in the word list by character\n",
    "# add frequency to the gender of the character\n",
    "\n",
    "# iterate characters\n",
    "for character_entry in play_spec:\n",
    "    # retrieve gender\n",
    "    gender = character_entry[GENDER_KEY]\n",
    "    # for each word in the word list, look up the frequency in the speech of the current character\n",
    "    # add frequency to the gender of the character\n",
    "    for word in word_list:\n",
    "        if word in character_entry[FRQ_KEY]:\n",
    "            if gender in words_by_gender[word]:\n",
    "                words_by_gender[word][gender] += character_entry[FRQ_KEY][word]\n",
    "# convert results dictionary into a DataFrame\n",
    "gender_df = pd.DataFrame(words_by_gender)"
   ]
  },
  {
   "cell_type": "code",
   "execution_count": 31,
   "metadata": {},
   "outputs": [
    {
     "data": {
      "text/plain": [
       "<Axes: >"
      ]
     },
     "execution_count": 31,
     "metadata": {},
     "output_type": "execute_result"
    },
    {
     "data": {
      "image/png": "[encoded data removed]",
      "text/plain": [
       "<Figure size 1200x1000 with 1 Axes>"
      ]
     },
     "metadata": {},
     "output_type": "display_data"
    }
   ],
   "source": [
    "gender_df.plot(kind=\"bar\", figsize=(12,10))"
   ]
  },
  {
   "cell_type": "markdown",
   "metadata": {
    "editable": true,
    "slideshow": {
     "slide_type": ""
    },
    "tags": []
   },
   "source": [
    "## Generic function to handle the requests and parse the result\n",
    "Requesting data from the API in most cases follows a pattern:\n",
    " * construct the request-url. E.g. use `https://dracor.org/api/` as a base and attach `corpusname`, `playname`, a method, e.g. `characters` and in some cases a reponse-format, e.g. `csv`\n",
    " * use this constructed url in a request do the endpoint\n",
    " * retrieve the data and parse to a format, that can be than used in the program\n",
    " \n",
    "By defining a function, this process can be speed up. Instead of repeating the code, a function can be defined, that takes `corpusname`, `playname` and `method` as arguments. In the example we assume, that the response will be JSON."
   ]
  },
  {
   "cell_type": "markdown",
   "metadata": {},
   "source": [
    "Parsing of JSON is done with the package `json` (https://docs.python.org/3/library/json.html), which needs to be imported:"
   ]
  },
  {
   "cell_type": "code",
   "execution_count": 32,
   "metadata": {},
   "outputs": [],
   "source": [
    "import json"
   ]
  },
  {
   "cell_type": "markdown",
   "metadata": {},
   "source": [
    "The function accepts parameters as arguments, e.g. `corpusname=\"ger\"`. Following arguments are supported:\n",
    "\n",
    "* `apibase` (default will be `https://dracor.org/api/`)\n",
    "* `corpusname`\n",
    "* `playname`\n",
    "* `method`\n",
    "* `parse_json`: `True`, `False` (default) – will parse the response as `json`\n"
   ]
  },
  {
   "cell_type": "code",
   "execution_count": 33,
   "metadata": {
    "editable": true,
    "slideshow": {
     "slide_type": ""
    },
    "tags": []
   },
   "outputs": [],
   "source": [
    "#corpusname:str -> []\n",
    "def get(**kwargs):\n",
    "    #corpusname=corpusname\n",
    "    #playname=playname\n",
    "    #apibase=\"https://dracor.org/api/\"\n",
    "    #method=method\n",
    "    #parse_json: True\n",
    "    \n",
    "    #could set different apibase, e.g. https://staging.dracor.org/api/ [not recommended, pls use the production server]\n",
    "    if \"apibase\" in kwargs:\n",
    "        if kwargs[\"apibase\"].endswith(\"/\"):\n",
    "            apibase = kwargs[\"apibase\"]\n",
    "        else:\n",
    "            apibase = kwargs[\"apibase\"] + \"/\"\n",
    "    else:\n",
    "        #use default\n",
    "        apibase = \"https://dracor.org/api/v1/\"\n",
    "    if \"corpusname\" in kwargs and \"playname\" in kwargs:\n",
    "        # used for /api/corpora/{corpusname}/play/{playname}/\n",
    "        if \"method\" in kwargs:\n",
    "            request_url = apibase + \"corpora/\" + kwargs[\"corpusname\"] + \"/plays/\" + kwargs[\"playname\"] + \"/\" + kwargs[\"method\"]\n",
    "        else:\n",
    "            request_url = apibase + \"corpora/\" + kwargs[\"corpusname\"] + \"/plays/\" + kwargs[\"playname\"]\n",
    "    elif \"corpusname\" in kwargs and not \"playname\" in kwargs:\n",
    "        if \"method\" in kwargs:\n",
    "            request_url = apibase + \"corpora/\" + kwargs[\"corpusname\"] + \"/\" + kwargs[\"method\"]\n",
    "        else:\n",
    "            request_url = apibase + \"corpora/\" + kwargs[\"corpusname\"] \n",
    "    elif \"method\" in kwargs and not \"corpusname\" in kwargs and not \"playname\" in kwargs:\n",
    "            request_url = apibase + kwargs[\"method\"]\n",
    "            \n",
    "    else: \n",
    "        #nothing set\n",
    "        request = request_url = apibase + \"info\"\n",
    "    \n",
    "    #send the response\n",
    "    r = requests.get(request_url)\n",
    "    if r.status_code == 200:\n",
    "        #success!\n",
    "        if \"parse_json\" in kwargs:\n",
    "            if kwargs[\"parse_json\"] == True:\n",
    "                json_data = json.loads(r.text)\n",
    "                return json_data\n",
    "            else:\n",
    "                return r.text\n",
    "        else:\n",
    "            return r.text\n",
    "    else:\n",
    "        raise Exception(\"Request was not successful. Server returned status code: \"  + str(r.status_code))\n",
    "       "
   ]
  },
  {
   "cell_type": "markdown",
   "metadata": {},
   "source": [
    "The function can now be called as follows below. The function call requests the Info about the API `/api/info`:"
   ]
  },
  {
   "cell_type": "code",
   "execution_count": 34,
   "metadata": {},
   "outputs": [
    {
     "data": {
      "text/plain": [
       "{'name': 'DraCor API v1',\n",
       " 'version': '1.0.2',\n",
       " 'status': 'stable',\n",
       " 'existdb': '6.2.0',\n",
       " 'base': 'https://dracor.org/api/v1'}"
      ]
     },
     "execution_count": 34,
     "metadata": {},
     "output_type": "execute_result"
    }
   ],
   "source": [
    "get(method=\"info\", parse_json=True)"
   ]
  },
  {
   "cell_type": "markdown",
   "metadata": {},
   "source": [
    "To request the metrics of a single play (`/api/corpora/{corpusname}/play/{playname}/metrics`) use the following function call:"
   ]
  },
  {
   "cell_type": "code",
   "execution_count": 35,
   "metadata": {},
   "outputs": [
    {
     "data": {
      "text/plain": [
       "{'id': 'ger000088',\n",
       " 'name': 'lessing-emilia-galotti',\n",
       " 'corpus': 'ger',\n",
       " 'wikipediaLinkCount': 15,\n",
       " 'nodes': [{'betweenness': 0.012121212121212121,\n",
       "   'degree': 4,\n",
       "   'id': 'orsina',\n",
       "   'closeness': 0.6,\n",
       "   'eigenvector': 0.2619466686163178,\n",
       "   'weightedDegree': 8},\n",
       "  {'betweenness': 0.05505050505050505,\n",
       "   'degree': 6,\n",
       "   'id': 'odoardo',\n",
       "   'closeness': 0.6666666666666666,\n",
       "   'eigenvector': 0.3542503929627511,\n",
       "   'weightedDegree': 15},\n",
       "  {'betweenness': 0,\n",
       "   'degree': 1,\n",
       "   'id': 'der_kammerdiener',\n",
       "   'closeness': 0.4444444444444444,\n",
       "   'eigenvector': 0.05575792046031641,\n",
       "   'weightedDegree': 2},\n",
       "  {'betweenness': 0.05505050505050505,\n",
       "   'degree': 6,\n",
       "   'id': 'emilia',\n",
       "   'closeness': 0.6666666666666666,\n",
       "   'eigenvector': 0.3513647060457318,\n",
       "   'weightedDegree': 13},\n",
       "  {'betweenness': 0.003787878787878788,\n",
       "   'degree': 4,\n",
       "   'id': 'appiani',\n",
       "   'closeness': 0.5217391304347826,\n",
       "   'eigenvector': 0.2529584931569895,\n",
       "   'weightedDegree': 8},\n",
       "  {'betweenness': 0,\n",
       "   'degree': 1,\n",
       "   'id': 'conti',\n",
       "   'closeness': 0.4444444444444444,\n",
       "   'eigenvector': 0.05575792046031641,\n",
       "   'weightedDegree': 2},\n",
       "  {'betweenness': 0.04545454545454544,\n",
       "   'degree': 7,\n",
       "   'id': 'claudia',\n",
       "   'closeness': 0.6,\n",
       "   'eigenvector': 0.38292603187412266,\n",
       "   'weightedDegree': 19},\n",
       "  {'betweenness': 0.026515151515151516,\n",
       "   'degree': 5,\n",
       "   'id': 'pirro',\n",
       "   'closeness': 0.5454545454545454,\n",
       "   'eigenvector': 0.2719436343371554,\n",
       "   'weightedDegree': 7},\n",
       "  {'betweenness': 0,\n",
       "   'degree': 2,\n",
       "   'id': 'angelo',\n",
       "   'closeness': 0.48,\n",
       "   'eigenvector': 0.1253177208861109,\n",
       "   'weightedDegree': 2},\n",
       "  {'betweenness': 0.46717171717171724,\n",
       "   'degree': 8,\n",
       "   'id': 'der_prinz',\n",
       "   'closeness': 0.75,\n",
       "   'eigenvector': 0.32076106311648156,\n",
       "   'weightedDegree': 20},\n",
       "  {'betweenness': 0.24696969696969698,\n",
       "   'degree': 9,\n",
       "   'id': 'marinelli',\n",
       "   'closeness': 0.8,\n",
       "   'eigenvector': 0.4489846359321899,\n",
       "   'weightedDegree': 30},\n",
       "  {'betweenness': 0.012121212121212121,\n",
       "   'degree': 4,\n",
       "   'id': 'battista',\n",
       "   'closeness': 0.6,\n",
       "   'eigenvector': 0.26144507771860326,\n",
       "   'weightedDegree': 7},\n",
       "  {'betweenness': 0,\n",
       "   'degree': 1,\n",
       "   'id': 'camillo_rota',\n",
       "   'closeness': 0.4444444444444444,\n",
       "   'eigenvector': 0.05575792046031641,\n",
       "   'weightedDegree': 1}],\n",
       " 'averageDegree': 4.461538461538462,\n",
       " 'density': 0.3717948717948718,\n",
       " 'averageClustering': 0.5174603174603174,\n",
       " 'maxDegreeIds': ['marinelli'],\n",
       " 'size': 13,\n",
       " 'maxDegree': 9,\n",
       " 'numConnectedComponents': 1,\n",
       " 'numEdges': 29,\n",
       " 'diameter': 3,\n",
       " 'averagePathLength': 1.7820512820512822}"
      ]
     },
     "execution_count": 35,
     "metadata": {},
     "output_type": "execute_result"
    }
   ],
   "source": [
    "get(corpusname=\"ger\",playname=\"lessing-emilia-galotti\",method=\"metrics\",parse_json=True)"
   ]
  },
  {
   "cell_type": "markdown",
   "metadata": {},
   "source": [
    "## Example: Gender of Characters\n",
    "\n",
    "In the following example we count characters that are tagged as \"MALE\" and \"FEMALE in a corpus."
   ]
  },
  {
   "cell_type": "code",
   "execution_count": 36,
   "metadata": {
    "editable": true,
    "slideshow": {
     "slide_type": ""
    },
    "tags": []
   },
   "outputs": [
    {
     "name": "stdout",
     "output_type": "stream",
     "text": [
      "agrell-hvarfor: female characters: 3; male characters: 1\n"
     ]
    },
    {
     "name": "stdout",
     "output_type": "stream",
     "text": [
      "agrell-ingrid-en-dods-karlekssaga: female characters: 4; male characters: 6\n"
     ]
    },
    {
     "name": "stdout",
     "output_type": "stream",
     "text": [
      "agrell-domd: female characters: 8; male characters: 7\n"
     ]
    },
    {
     "name": "stdout",
     "output_type": "stream",
     "text": [
      "agrell-en-hufvudsak: female characters: 3; male characters: 1\n"
     ]
    },
    {
     "name": "stdout",
     "output_type": "stream",
     "text": [
      "agrell-en-lektion: female characters: 1; male characters: 1\n"
     ]
    },
    {
     "name": "stdout",
     "output_type": "stream",
     "text": [
      "agrell-ensam: female characters: 3; male characters: 4\n"
     ]
    },
    {
     "name": "stdout",
     "output_type": "stream",
     "text": [
      "agrell-smastadslif: female characters: 9; male characters: 9\n"
     ]
    },
    {
     "name": "stdout",
     "output_type": "stream",
     "text": [
      "aurelius-farmors-fodelsedag: female characters: 7; male characters: 5\n"
     ]
    },
    {
     "name": "stdout",
     "output_type": "stream",
     "text": [
      "barthelson-efterspel: female characters: 4; male characters: 5\n"
     ]
    },
    {
     "name": "stdout",
     "output_type": "stream",
     "text": [
      "benedictsson-final: female characters: 6; male characters: 7\n"
     ]
    },
    {
     "name": "stdout",
     "output_type": "stream",
     "text": [
      "benedictsson-itelefon: female characters: 5; male characters: 3\n"
     ]
    },
    {
     "name": "stdout",
     "output_type": "stream",
     "text": [
      "benedictsson-romeos-julia: female characters: 1; male characters: 3\n"
     ]
    },
    {
     "name": "stdout",
     "output_type": "stream",
     "text": [
      "bremer-konstnarns-fortviflan: female characters: 1; male characters: 1\n"
     ]
    },
    {
     "name": "stdout",
     "output_type": "stream",
     "text": [
      "geijerstam-lars-anders-och-jan-anders-och-deras-barn: female characters: 4; male characters: 8\n"
     ]
    },
    {
     "name": "stdout",
     "output_type": "stream",
     "text": [
      "hedberg-rospiggarna: female characters: 11; male characters: 24\n"
     ]
    },
    {
     "name": "stdout",
     "output_type": "stream",
     "text": [
      "indebetou-pa-fotvandring: female characters: 4; male characters: 3\n"
     ]
    },
    {
     "name": "stdout",
     "output_type": "stream",
     "text": [
      "indebetou-idet-grona: female characters: 6; male characters: 5\n"
     ]
    },
    {
     "name": "stdout",
     "output_type": "stream",
     "text": [
      "indebetou-ifruntimmersveckan: female characters: 4; male characters: 2\n"
     ]
    },
    {
     "name": "stdout",
     "output_type": "stream",
     "text": [
      "kullgren-karlek: female characters: 5; male characters: 3\n"
     ]
    },
    {
     "name": "stdout",
     "output_type": "stream",
     "text": [
      "kuylenstierna-nar-nyar-kom: female characters: 3; male characters: 5\n"
     ]
    },
    {
     "name": "stdout",
     "output_type": "stream",
     "text": [
      "kuylenstierna-nu-ar-det-jul-igen: female characters: 2; male characters: 2\n"
     ]
    },
    {
     "name": "stdout",
     "output_type": "stream",
     "text": [
      "leffler-sanna-kvinnor: female characters: 4; male characters: 3\n"
     ]
    },
    {
     "name": "stdout",
     "output_type": "stream",
     "text": [
      "leffler-moster-malvina: female characters: 8; male characters: 0\n"
     ]
    },
    {
     "name": "stdout",
     "output_type": "stream",
     "text": [
      "leffler-den-karleken: female characters: 4; male characters: 2\n"
     ]
    },
    {
     "name": "stdout",
     "output_type": "stream",
     "text": [
      "leffler-elfvan: female characters: 10; male characters: 3\n"
     ]
    },
    {
     "name": "stdout",
     "output_type": "stream",
     "text": [
      "leffler-familjelycka: female characters: 7; male characters: 2\n"
     ]
    },
    {
     "name": "stdout",
     "output_type": "stream",
     "text": [
      "leffler-hur-man-gor-godt: female characters: 19; male characters: 16\n"
     ]
    },
    {
     "name": "stdout",
     "output_type": "stream",
     "text": [
      "leffler-skadespelerskan: female characters: 5; male characters: 5\n"
     ]
    },
    {
     "name": "stdout",
     "output_type": "stream",
     "text": [
      "leffler-under-toffeln: female characters: 3; male characters: 2\n"
     ]
    },
    {
     "name": "stdout",
     "output_type": "stream",
     "text": [
      "lindhe-modrar: female characters: 7; male characters: 3\n"
     ]
    },
    {
     "name": "stdout",
     "output_type": "stream",
     "text": [
      "lundberg-forlat-mig: female characters: 1; male characters: 2\n"
     ]
    },
    {
     "name": "stdout",
     "output_type": "stream",
     "text": [
      "malling-fru-leonora: female characters: 5; male characters: 5\n"
     ]
    },
    {
     "name": "stdout",
     "output_type": "stream",
     "text": [
      "marholm-otteringning: female characters: 2; male characters: 1\n"
     ]
    },
    {
     "name": "stdout",
     "output_type": "stream",
     "text": [
      "meyerson-den-nya-klassen: female characters: 5; male characters: 9\n"
     ]
    },
    {
     "name": "stdout",
     "output_type": "stream",
     "text": [
      "meyerson-ett-pojkstreck: female characters: 3; male characters: 4\n"
     ]
    },
    {
     "name": "stdout",
     "output_type": "stream",
     "text": [
      "molander-varflod: female characters: 5; male characters: 3\n"
     ]
    },
    {
     "name": "stdout",
     "output_type": "stream",
     "text": [
      "strindberg-kamraterna: female characters: 5; male characters: 6\n"
     ]
    },
    {
     "name": "stdout",
     "output_type": "stream",
     "text": [
      "strindberg-hostslask: female characters: 0; male characters: 7\n"
     ]
    },
    {
     "name": "stdout",
     "output_type": "stream",
     "text": [
      "strindberg-till-damaskus: female characters: 15; male characters: 23\n"
     ]
    },
    {
     "name": "stdout",
     "output_type": "stream",
     "text": [
      "strindberg-master-olof: female characters: 6; male characters: 26\n"
     ]
    },
    {
     "name": "stdout",
     "output_type": "stream",
     "text": [
      "strindberg-lycko-pers-resa: female characters: 7; male characters: 31\n"
     ]
    },
    {
     "name": "stdout",
     "output_type": "stream",
     "text": [
      "strindberg-froken-julie: female characters: 2; male characters: 1\n"
     ]
    },
    {
     "name": "stdout",
     "output_type": "stream",
     "text": [
      "strindberg-forsta-varningen: female characters: 4; male characters: 1\n"
     ]
    },
    {
     "name": "stdout",
     "output_type": "stream",
     "text": [
      "strindberg-fordringsegare: female characters: 1; male characters: 2\n"
     ]
    },
    {
     "name": "stdout",
     "output_type": "stream",
     "text": [
      "strindberg-anno-fyrtiatta: female characters: 5; male characters: 15\n"
     ]
    },
    {
     "name": "stdout",
     "output_type": "stream",
     "text": [
      "strindberg-bandet: female characters: 3; male characters: 20\n"
     ]
    },
    {
     "name": "stdout",
     "output_type": "stream",
     "text": [
      "strindberg-den-starkare: female characters: 3; male characters: 0\n"
     ]
    },
    {
     "name": "stdout",
     "output_type": "stream",
     "text": [
      "strindberg-fadren: female characters: 4; male characters: 5\n"
     ]
    },
    {
     "name": "stdout",
     "output_type": "stream",
     "text": [
      "strindberg-gillets-hemlighet: female characters: 3; male characters: 12\n"
     ]
    },
    {
     "name": "stdout",
     "output_type": "stream",
     "text": [
      "strindberg-herr-bengts-hustru: female characters: 9; male characters: 6\n"
     ]
    },
    {
     "name": "stdout",
     "output_type": "stream",
     "text": [
      "strindberg-infor-doden: female characters: 3; male characters: 3\n"
     ]
    },
    {
     "name": "stdout",
     "output_type": "stream",
     "text": [
      "strindberg-marodorer: female characters: 6; male characters: 5\n"
     ]
    },
    {
     "name": "stdout",
     "output_type": "stream",
     "text": [
      "strindberg-paria: female characters: 0; male characters: 2\n"
     ]
    },
    {
     "name": "stdout",
     "output_type": "stream",
     "text": [
      "strindberg-moderskarlek: female characters: 4; male characters: 0\n"
     ]
    },
    {
     "name": "stdout",
     "output_type": "stream",
     "text": [
      "strindberg-samum: female characters: 1; male characters: 2\n"
     ]
    },
    {
     "name": "stdout",
     "output_type": "stream",
     "text": [
      "topelius-t-isma-maffarnas-land: female characters: 1; male characters: 0\n"
     ]
    },
    {
     "name": "stdout",
     "output_type": "stream",
     "text": [
      "topelius-t-jeppe-och-murra: female characters: 1; male characters: 1\n"
     ]
    },
    {
     "name": "stdout",
     "output_type": "stream",
     "text": [
      "topelius-z-skogskonungen: female characters: 4; male characters: 3\n"
     ]
    },
    {
     "name": "stdout",
     "output_type": "stream",
     "text": [
      "topelius-z-lucias-ziffror: female characters: 10; male characters: 3\n"
     ]
    },
    {
     "name": "stdout",
     "output_type": "stream",
     "text": [
      "topelius-z-askungen: female characters: 8; male characters: 4\n"
     ]
    },
    {
     "name": "stdout",
     "output_type": "stream",
     "text": [
      "topelius-z-jennys-formaningar: female characters: 1; male characters: 1\n"
     ]
    },
    {
     "name": "stdout",
     "output_type": "stream",
     "text": [
      "topelius-z-krypskyttarne: female characters: 0; male characters: 3\n"
     ]
    },
    {
     "name": "stdout",
     "output_type": "stream",
     "text": [
      "topelius-z-perdita: female characters: 2; male characters: 5\n"
     ]
    },
    {
     "name": "stdout",
     "output_type": "stream",
     "text": [
      "topelius-z-snurran: female characters: 9; male characters: 11\n"
     ]
    },
    {
     "name": "stdout",
     "output_type": "stream",
     "text": [
      "topelius-z-station-sylvester: female characters: 11; male characters: 11\n"
     ]
    },
    {
     "name": "stdout",
     "output_type": "stream",
     "text": [
      "topelius-z-tidernas-spegel: female characters: 5; male characters: 0\n"
     ]
    },
    {
     "name": "stdout",
     "output_type": "stream",
     "text": [
      "wahlenberg-pa-vakt: female characters: 3; male characters: 3\n"
     ]
    },
    {
     "name": "stdout",
     "output_type": "stream",
     "text": [
      "wahlenberg-tva-valsprak: female characters: 7; male characters: 4\n",
      "\n",
      "\n",
      "There are 325 female and 381 male characters in the corpus 'swe'\n"
     ]
    }
   ],
   "source": [
    "#Get all plays in a Corpus\n",
    "if corpusname != \"\":\n",
    "    #get data of a single corpus and store only the list of plays in the variable \"plays\"\n",
    "    plays = get(corpusname=corpusname,parse_json=True)[\"plays\"]\n",
    "    #set counters for male an female characters in the corpus\n",
    "    overallMale = 0\n",
    "    overallFemale = 0\n",
    "    #check, if a corpusname was entered\n",
    "    if corpusname != \"\":\n",
    "        #iterate over the plays\n",
    "        for play in plays:\n",
    "            #get the characters of a play by using the api endpoint /api/corpora/{corpusname}/play/{playname}/characters\n",
    "            characters = get(corpusname=corpusname,playname=play[\"name\"],method=\"characters\",parse_json=True)\n",
    "            #reset the counters for male and female characters\n",
    "            cntMale = 0\n",
    "            cntFemale = 0\n",
    "            #iterate over the characters and increment the counters\n",
    "            for character in characters:\n",
    "                gender = character[\"gender\"]\n",
    "                if gender == \"MALE\":\n",
    "                    cntMale = cntMale + 1\n",
    "                elif gender == \"FEMALE\":\n",
    "                    cntFemale = cntFemale + 1\n",
    "            # report the result per play\n",
    "            print(play[\"name\"] + \": \" + \"female characters: \" + str(cntFemale) + \"; male characters: \" + str(cntMale))\n",
    "        \n",
    "            # increment the overall counters\n",
    "            overallMale = overallMale + cntMale\n",
    "            overallFemale = overallFemale + cntFemale\n",
    "    # report the results on corpus level\n",
    "    print(\"\\n\\nThere are \" + str(overallFemale) + \" female and \" + str(overallMale) + \" male characters in the corpus '\" + corpusname + \"'\")\n",
    "    \n",
    "else:\n",
    "    raise Exception(\"Please enter a corpus!\")\n"
   ]
  }
 ],
 "metadata": {
  "kernelspec": {
   "display_name": "Python 3 (ipykernel)",
   "language": "python",
   "name": "python3"
  },
  "language_info": {
   "codemirror_mode": {
    "name": "ipython",
    "version": 3
   },
   "file_extension": ".py",
   "mimetype": "text/x-python",
   "name": "python",
   "nbconvert_exporter": "python",
   "pygments_lexer": "ipython3",
   "version": "3.11.8"
  }
 },
 "nbformat": 4,
 "nbformat_minor": 4
}