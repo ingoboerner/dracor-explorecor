{
 "cells": [
  {
   "cell_type": "markdown",
   "id": "bfe24ee5-d59e-430d-9f41-c51edf79efd1",
   "metadata": {
    "editable": true,
    "slideshow": {
     "slide_type": ""
    },
    "tags": []
   },
   "source": [
    "# 6.2 Setting up a custom DraCor-Infrastructure: Quickstart\n",
    "This notebook demonstrates how to quickly setup a containerized local DraCor infrastructure. We will copy a corpus from the current DraCor live production system at https://dracor.org.\n",
    "\n",
    "In the following cell we import the *stable dracor client* and setup an empty DraCor system. The components of the infrastructure (eXist database with API, metrics service, triple store) are started as Docker containers inside the Docker container we are working in right now:"
   ]
  },
  {
   "cell_type": "code",
   "execution_count": 1,
   "id": "faf90787-6cdb-4f61-b60a-53d44f3ec946",
   "metadata": {
    "editable": true,
    "slideshow": {
     "slide_type": ""
    },
    "tags": [
     "remove-output"
    ]
   },
   "outputs": [
    {
     "name": "stderr",
     "output_type": "stream",
     "text": [
      "WARNING:root:Local DraCor API is not available at http://localhost:8088/api/v1/.\n"
     ]
    },
    {
     "name": "stderr",
     "output_type": "stream",
     "text": [
      "WARNING:root:Personal GitHub Access Token is not supplied. Requests to the GitHub API might be affected by rate limiting.\n"
     ]
    },
    {
     "name": "stderr",
     "output_type": "stream",
     "text": [
      "WARNING:root:Could not detect a running Docker container derived from a dracor/api image.\n"
     ]
    },
    {
     "name": "stderr",
     "output_type": "stream",
     "text": [
      "WARNING:root:Could not detect a running Docker container derived from a dracor/frontend image.\n"
     ]
    },
    {
     "name": "stderr",
     "output_type": "stream",
     "text": [
      "WARNING:root:Could not detect a running Docker container derived from a dracor/metrics image.\n"
     ]
    },
    {
     "name": "stderr",
     "output_type": "stream",
     "text": [
      "WARNING:root:Could not detect a running Docker container derived from a dracor/fuseki image.\n"
     ]
    },
    {
     "name": "stderr",
     "output_type": "stream",
     "text": [
      "WARNING:root:Could not detect a running Docker container derived from a dracor/stable-dracor image.\n"
     ]
    },
    {
     "name": "stderr",
     "output_type": "stream",
     "text": [
      " fuseki Pulling \n",
      " metrics Pulling \n",
      " frontend Pulling \n",
      " api Pulling \n"
     ]
    },
    {
     "name": "stderr",
     "output_type": "stream",
     "text": [
      " 1207c741d8c9 Pulling fs layer \n",
      " bd2102c9ad2d Pulling fs layer \n",
      " da95676acad4 Pulling fs layer \n",
      " e1b99f2ae09f Pulling fs layer \n",
      " d06f16a4976a Pulling fs layer \n",
      " 16dc7a3c3667 Pulling fs layer \n",
      " 1f5130340818 Pulling fs layer \n",
      " 19dfe27f2690 Pulling fs layer \n",
      " 93553d8b29e0 Pulling fs layer \n",
      " 19dfe27f2690 Waiting \n",
      " 16dc7a3c3667 Waiting \n",
      " 93553d8b29e0 Waiting \n",
      " 1f5130340818 Waiting \n",
      " e1b99f2ae09f Waiting \n",
      " d06f16a4976a Waiting \n"
     ]
    },
    {
     "name": "stderr",
     "output_type": "stream",
     "text": [
      " 2c6d21737d83 Pulling fs layer \n",
      " eed0175a0a2c Pulling fs layer \n",
      " 9ea77d5fb7aa Pulling fs layer \n",
      " a745ecb651c2 Pulling fs layer \n",
      " 17b48befe903 Pulling fs layer \n",
      " db5de9e6dd0e Pulling fs layer \n",
      " 7397a18bfb21 Pulling fs layer \n",
      " aef364da5907 Pulling fs layer \n",
      " 9ea77d5fb7aa Waiting \n",
      " 2c6d21737d83 Waiting \n",
      " a745ecb651c2 Waiting \n",
      " 17b48befe903 Waiting \n",
      " eed0175a0a2c Waiting \n",
      " db5de9e6dd0e Waiting \n",
      " aef364da5907 Waiting \n",
      " 7397a18bfb21 Waiting \n",
      " aeb9f260d781 Pulling fs layer \n",
      " c9c3988b1198 Pulling fs layer \n",
      " 0451cfbb70a8 Pulling fs layer \n",
      " 332ede580b74 Pulling fs layer \n",
      " 96b8f9c326b7 Pulling fs layer \n",
      " 74bb957b6d85 Pulling fs layer \n",
      " 4f4fb700ef54 Pulling fs layer \n",
      " 8931f72440a2 Pulling fs layer \n",
      " 296e3394b815 Pulling fs layer \n",
      " 97f31270b7bb Pulling fs layer \n",
      " 745ae8e68a68 Pulling fs layer \n",
      " 15046e40bb47 Pulling fs layer \n",
      " 08c681b30472 Pulling fs layer \n",
      " 3b99d06ab85a Pulling fs layer \n",
      " aeb9f260d781 Waiting \n",
      " 0451cfbb70a8 Waiting \n",
      " 332ede580b74 Waiting \n",
      " 97f31270b7bb Waiting \n",
      " 96b8f9c326b7 Waiting \n",
      " 745ae8e68a68 Waiting \n",
      " 74bb957b6d85 Waiting \n",
      " c9c3988b1198 Waiting \n",
      " 4f4fb700ef54 Waiting \n",
      " 8931f72440a2 Waiting \n",
      " 15046e40bb47 Waiting \n",
      " 08c681b30472 Waiting \n",
      " 3b99d06ab85a Waiting \n",
      " 296e3394b815 Waiting \n",
      " da95676acad4 Downloading [==================================================>]     628B/628B\n",
      " da95676acad4 Verifying Checksum \n",
      " da95676acad4 Download complete \n",
      " 1207c741d8c9 Downloading [>                                                  ]  34.14kB/3.379MB\n",
      " bd2102c9ad2d Downloading [>                                                  ]  18.53kB/1.799MB\n"
     ]
    },
    {
     "name": "stderr",
     "output_type": "stream",
     "text": [
      " 1207c741d8c9 Downloading [==============>                                    ]  999.4kB/3.379MB\n",
      " 1207c741d8c9 Downloading [=============================>                     ]  1.961MB/3.379MB\n",
      " bd2102c9ad2d Downloading [======>                                            ]  250.7kB/1.799MB\n",
      " 1207c741d8c9 Downloading [==========================================>        ]  2.871MB/3.379MB\n"
     ]
    },
    {
     "name": "stderr",
     "output_type": "stream",
     "text": [
      " bd2102c9ad2d Downloading [===================>                               ]  701.3kB/1.799MB\n",
      " 1207c741d8c9 Download complete \n",
      " 1207c741d8c9 Extracting [>                                                  ]  65.54kB/3.379MB\n",
      " 1207c741d8c9 Extracting [==================================================>]  3.379MB/3.379MB\n",
      " 1207c741d8c9 Extracting [==================================================>]  3.379MB/3.379MB\n",
      " bd2102c9ad2d Downloading [==================================>                ]  1.258MB/1.799MB\n",
      " 1207c741d8c9 Pull complete \n",
      " bd2102c9ad2d Verifying Checksum \n",
      " bd2102c9ad2d Download complete \n",
      " bd2102c9ad2d Extracting [>                                                  ]  32.77kB/1.799MB\n"
     ]
    },
    {
     "name": "stderr",
     "output_type": "stream",
     "text": [
      " bd2102c9ad2d Extracting [==================================================>]  1.799MB/1.799MB\n",
      " bd2102c9ad2d Extracting [==================================================>]  1.799MB/1.799MB\n",
      " bd2102c9ad2d Pull complete \n",
      " da95676acad4 Extracting [==================================================>]     628B/628B\n",
      " da95676acad4 Extracting [==================================================>]     628B/628B\n",
      " da95676acad4 Pull complete \n",
      " 7734efb8b826 Pulling fs layer \n",
      " a17316455fb8 Pulling fs layer \n",
      " 27e4beee6834 Pulling fs layer \n",
      " 14c163f879b6 Pulling fs layer \n",
      " 9693f7f2e61c Pulling fs layer \n",
      " 2ea7de826561 Pulling fs layer \n",
      " c889328dabc8 Pulling fs layer \n",
      " 526a004d028e Pulling fs layer \n",
      " 439c271f7980 Pulling fs layer \n",
      " bd47d15f092e Pulling fs layer \n",
      " 4c9ada70a424 Pulling fs layer \n",
      " 3b02d7187bc3 Pulling fs layer \n",
      " 7b605931a7f0 Pulling fs layer \n",
      " 7734efb8b826 Waiting \n",
      " a17316455fb8 Waiting \n",
      " 27e4beee6834 Waiting \n",
      " 14c163f879b6 Waiting \n",
      " bd47d15f092e Waiting \n",
      " 4c9ada70a424 Waiting \n",
      " 3b02d7187bc3 Waiting \n",
      " 7b605931a7f0 Waiting \n",
      " 9693f7f2e61c Waiting \n",
      " c889328dabc8 Waiting \n",
      " 2ea7de826561 Waiting \n",
      " 526a004d028e Waiting \n",
      " 439c271f7980 Waiting \n"
     ]
    },
    {
     "name": "stderr",
     "output_type": "stream",
     "text": [
      " e1b99f2ae09f Downloading [=====================================>             ]     722B/954B\n",
      " e1b99f2ae09f Downloading [==================================================>]     954B/954B\n",
      " e1b99f2ae09f Verifying Checksum \n",
      " e1b99f2ae09f Download complete \n",
      " e1b99f2ae09f Extracting [==================================================>]     954B/954B\n",
      " e1b99f2ae09f Extracting [==================================================>]     954B/954B\n",
      " e1b99f2ae09f Pull complete \n",
      " d06f16a4976a Downloading [===============================================>   ]     734B/769B\n",
      " d06f16a4976a Downloading [==================================================>]     769B/769B\n",
      " d06f16a4976a Verifying Checksum \n",
      " d06f16a4976a Download complete \n",
      " d06f16a4976a Extracting [==================================================>]     769B/769B\n",
      " d06f16a4976a Extracting [==================================================>]     769B/769B\n",
      " d06f16a4976a Pull complete \n",
      " 16dc7a3c3667 Downloading [=========================>                         ]     721B/1.399kB\n",
      " 16dc7a3c3667 Downloading [==================================================>]  1.399kB/1.399kB\n",
      " 16dc7a3c3667 Verifying Checksum \n",
      " 16dc7a3c3667 Download complete \n",
      " 16dc7a3c3667 Extracting [==================================================>]  1.399kB/1.399kB\n",
      " 16dc7a3c3667 Extracting [==================================================>]  1.399kB/1.399kB\n",
      " 16dc7a3c3667 Pull complete \n"
     ]
    },
    {
     "name": "stderr",
     "output_type": "stream",
     "text": [
      " 19dfe27f2690 Downloading [>                                                  ]  119.4kB/11.73MB\n",
      " 19dfe27f2690 Downloading [==>                                                ]  507.9kB/11.73MB\n",
      " 1f5130340818 Downloading [>                                                  ]  118.5kB/11.67MB\n"
     ]
    },
    {
     "name": "stderr",
     "output_type": "stream",
     "text": [
      " 19dfe27f2690 Downloading [========>                                          ]  2.068MB/11.73MB\n",
      " 1f5130340818 Downloading [=>                                                 ]  380.2kB/11.67MB\n",
      " 19dfe27f2690 Downloading [=============>                                     ]  3.116MB/11.73MB\n",
      " 93553d8b29e0 Downloading [==================================================>]     678B/678B\n",
      " 93553d8b29e0 Verifying Checksum \n",
      " 93553d8b29e0 Download complete \n",
      " 19dfe27f2690 Downloading [===================>                               ]  4.549MB/11.73MB\n"
     ]
    },
    {
     "name": "stderr",
     "output_type": "stream",
     "text": [
      " 1f5130340818 Downloading [==>                                                ]  642.3kB/11.67MB\n",
      " 19dfe27f2690 Downloading [=======================>                           ]  5.462MB/11.73MB\n",
      " 1f5130340818 Downloading [===>                                               ]  904.4kB/11.67MB\n"
     ]
    },
    {
     "name": "stderr",
     "output_type": "stream",
     "text": [
      " 19dfe27f2690 Downloading [===========================>                       ]   6.38MB/11.73MB\n",
      " 1f5130340818 Downloading [=====>                                             ]  1.298MB/11.67MB\n",
      " 19dfe27f2690 Downloading [===============================>                   ]  7.428MB/11.73MB\n",
      " 1f5130340818 Downloading [======>                                            ]   1.56MB/11.67MB\n"
     ]
    },
    {
     "name": "stderr",
     "output_type": "stream",
     "text": [
      " 19dfe27f2690 Downloading [====================================>              ]  8.465MB/11.73MB\n",
      " 1f5130340818 Downloading [=======>                                           ]  1.822MB/11.67MB\n",
      " 19dfe27f2690 Downloading [=========================================>         ]  9.644MB/11.73MB\n",
      " 1f5130340818 Downloading [========>                                          ]  2.084MB/11.67MB\n"
     ]
    },
    {
     "name": "stderr",
     "output_type": "stream",
     "text": [
      " 19dfe27f2690 Downloading [============================================>      ]  10.43MB/11.73MB\n",
      " 1f5130340818 Downloading [==========>                                        ]  2.346MB/11.67MB\n",
      " 19dfe27f2690 Downloading [==============================================>    ]  10.95MB/11.73MB\n",
      " 2c6d21737d83 Downloading [>                                                  ]  294.2kB/29.18MB\n",
      " 1f5130340818 Downloading [===========>                                       ]  2.599MB/11.67MB\n",
      " 19dfe27f2690 Downloading [==================================================>]  11.73MB/11.73MB\n",
      " 19dfe27f2690 Verifying Checksum \n",
      " 19dfe27f2690 Download complete \n"
     ]
    },
    {
     "name": "stderr",
     "output_type": "stream",
     "text": [
      " 1f5130340818 Downloading [============>                                      ]  2.992MB/11.67MB\n",
      " 2c6d21737d83 Downloading [=>                                                 ]    884kB/29.18MB\n",
      " 1f5130340818 Downloading [==============>                                    ]  3.373MB/11.67MB\n",
      " 2c6d21737d83 Downloading [==>                                                ]  1.474MB/29.18MB\n"
     ]
    },
    {
     "name": "stderr",
     "output_type": "stream",
     "text": [
      " 1f5130340818 Downloading [================>                                  ]  3.889MB/11.67MB\n",
      " 2c6d21737d83 Downloading [===>                                               ]  2.064MB/29.18MB\n",
      " 1f5130340818 Downloading [==================>                                ]  4.414MB/11.67MB\n",
      " 2c6d21737d83 Downloading [====>                                              ]  2.653MB/29.18MB\n"
     ]
    },
    {
     "name": "stderr",
     "output_type": "stream",
     "text": [
      " 1f5130340818 Downloading [=====================>                             ]  5.069MB/11.67MB\n",
      " eed0175a0a2c Downloading [>                                                  ]   33.4kB/3.328MB\n",
      " 2c6d21737d83 Downloading [=====>                                             ]  3.243MB/29.18MB\n",
      " 1f5130340818 Downloading [=======================>                           ]  5.462MB/11.67MB\n",
      " eed0175a0a2c Downloading [====>                                              ]  302.3kB/3.328MB\n"
     ]
    },
    {
     "name": "stderr",
     "output_type": "stream",
     "text": [
      " 2c6d21737d83 Downloading [======>                                            ]  3.538MB/29.18MB\n",
      " 1f5130340818 Downloading [========================>                          ]  5.724MB/11.67MB\n",
      " eed0175a0a2c Downloading [===========>                                       ]  740.6kB/3.328MB\n",
      " eed0175a0a2c Downloading [=================>                                 ]  1.183MB/3.328MB\n",
      " 2c6d21737d83 Downloading [=======>                                           ]   4.13MB/29.18MB\n",
      " 1f5130340818 Downloading [==========================>                        ]  6.118MB/11.67MB\n"
     ]
    },
    {
     "name": "stderr",
     "output_type": "stream",
     "text": [
      " 2c6d21737d83 Downloading [========>                                          ]  4.732MB/29.18MB\n",
      " eed0175a0a2c Downloading [===========================>                       ]  1.822MB/3.328MB\n",
      " 1f5130340818 Downloading [===========================>                       ]  6.511MB/11.67MB\n",
      " eed0175a0a2c Downloading [====================================>              ]  2.412MB/3.328MB\n",
      " 1f5130340818 Downloading [=============================>                     ]  6.904MB/11.67MB\n",
      " 2c6d21737d83 Downloading [=========>                                         ]  5.322MB/29.18MB\n"
     ]
    },
    {
     "name": "stderr",
     "output_type": "stream",
     "text": [
      " eed0175a0a2c Downloading [===========================================>       ]  2.903MB/3.328MB\n",
      " 1f5130340818 Downloading [===============================>                   ]  7.297MB/11.67MB\n",
      " 2c6d21737d83 Downloading [==========>                                        ]  5.911MB/29.18MB\n",
      " eed0175a0a2c Download complete \n",
      " 1f5130340818 Downloading [=================================>                 ]  7.822MB/11.67MB\n",
      " 2c6d21737d83 Downloading [===========>                                       ]  6.501MB/29.18MB\n"
     ]
    },
    {
     "name": "stderr",
     "output_type": "stream",
     "text": [
      " 1f5130340818 Downloading [===================================>               ]  8.346MB/11.67MB\n",
      " 2c6d21737d83 Downloading [============>                                      ]  7.091MB/29.18MB\n",
      " 1f5130340818 Downloading [======================================>            ]   8.87MB/11.67MB\n",
      " 2c6d21737d83 Downloading [=============>                                     ]  7.681MB/29.18MB\n"
     ]
    },
    {
     "name": "stderr",
     "output_type": "stream",
     "text": [
      " 1f5130340818 Downloading [========================================>          ]  9.526MB/11.67MB\n",
      " 2c6d21737d83 Downloading [==============>                                    ]  8.271MB/29.18MB\n",
      " 1f5130340818 Downloading [===========================================>       ]  10.18MB/11.67MB\n",
      " 9ea77d5fb7aa Downloading [>                                                  ]  131.1kB/12.82MB\n"
     ]
    },
    {
     "name": "stderr",
     "output_type": "stream",
     "text": [
      " 1f5130340818 Downloading [=============================================>     ]  10.69MB/11.67MB\n",
      " 2c6d21737d83 Downloading [===============>                                   ]   8.86MB/29.18MB\n",
      " 9ea77d5fb7aa Downloading [==>                                                ]  538.9kB/12.82MB\n",
      " 1f5130340818 Downloading [===============================================>   ]  11.09MB/11.67MB\n",
      " 2c6d21737d83 Downloading [================>                                  ]   9.45MB/29.18MB\n",
      " 9ea77d5fb7aa Downloading [====>                                              ]  1.194MB/12.82MB\n"
     ]
    },
    {
     "name": "stderr",
     "output_type": "stream",
     "text": [
      " 1f5130340818 Verifying Checksum \n",
      " 1f5130340818 Download complete \n",
      " 1f5130340818 Extracting [>                                                  ]  131.1kB/11.67MB\n",
      " 2c6d21737d83 Downloading [=================>                                 ]  10.04MB/29.18MB\n",
      " 9ea77d5fb7aa Downloading [=======>                                           ]  1.981MB/12.82MB\n",
      " 1f5130340818 Extracting [==========>                                        ]   2.49MB/11.67MB\n",
      " 9ea77d5fb7aa Downloading [==========>                                        ]  2.636MB/12.82MB\n",
      " 2c6d21737d83 Downloading [==================>                                ]  10.63MB/29.18MB\n"
     ]
    },
    {
     "name": "stderr",
     "output_type": "stream",
     "text": [
      " 1f5130340818 Extracting [=================================================> ]  11.67MB/11.67MB\n",
      " 1f5130340818 Extracting [==================================================>]  11.67MB/11.67MB\n",
      " 1f5130340818 Pull complete \n",
      " 19dfe27f2690 Extracting [>                                                  ]  131.1kB/11.73MB\n",
      " 9ea77d5fb7aa Downloading [============>                                      ]    3.3MB/12.82MB\n",
      " 2c6d21737d83 Downloading [===================>                               ]  11.22MB/29.18MB\n",
      " 19dfe27f2690 Extracting [================================================>  ]  11.27MB/11.73MB\n",
      " 19dfe27f2690 Extracting [==================================================>]  11.73MB/11.73MB\n",
      " 19dfe27f2690 Pull complete \n",
      " 93553d8b29e0 Extracting [==================================================>]     678B/678B\n",
      " 93553d8b29e0 Extracting [==================================================>]     678B/678B\n",
      " 9ea77d5fb7aa Downloading [===============>                                   ]  3.955MB/12.82MB\n",
      " 93553d8b29e0 Pull complete \n",
      " frontend Pulled \n"
     ]
    },
    {
     "name": "stderr",
     "output_type": "stream",
     "text": [
      " 2c6d21737d83 Downloading [====================>                              ]  11.81MB/29.18MB\n",
      " 9ea77d5fb7aa Downloading [=================>                                 ]   4.61MB/12.82MB\n",
      " 9ea77d5fb7aa Downloading [=====================>                             ]  5.397MB/12.82MB\n",
      " 2c6d21737d83 Downloading [=====================>                             ]  12.69MB/29.18MB\n"
     ]
    },
    {
     "name": "stderr",
     "output_type": "stream",
     "text": [
      " 9ea77d5fb7aa Downloading [=======================>                           ]  6.052MB/12.82MB\n",
      " 2c6d21737d83 Downloading [======================>                            ]  13.28MB/29.18MB\n",
      " a745ecb651c2 Downloading [==================================================>]     245B/245B\n",
      " a745ecb651c2 Verifying Checksum \n",
      " a745ecb651c2 Download complete \n",
      " 9ea77d5fb7aa Downloading [===========================>                       ]  6.982MB/12.82MB\n",
      " 2c6d21737d83 Downloading [=======================>                           ]  13.88MB/29.18MB\n"
     ]
    },
    {
     "name": "stderr",
     "output_type": "stream",
     "text": [
      " 9ea77d5fb7aa Downloading [=============================>                     ]  7.637MB/12.82MB\n",
      " 2c6d21737d83 Downloading [========================>                          ]  14.47MB/29.18MB\n",
      " 9ea77d5fb7aa Downloading [================================>                  ]  8.293MB/12.82MB\n",
      " 2c6d21737d83 Downloading [=========================>                         ]  15.06MB/29.18MB\n"
     ]
    },
    {
     "name": "stderr",
     "output_type": "stream",
     "text": [
      " 9ea77d5fb7aa Downloading [===================================>               ]  9.079MB/12.82MB\n",
      " 2c6d21737d83 Downloading [==========================>                        ]  15.65MB/29.18MB\n",
      " 9ea77d5fb7aa Downloading [======================================>            ]  9.866MB/12.82MB\n",
      " 2c6d21737d83 Downloading [===========================>                       ]  16.24MB/29.18MB\n"
     ]
    },
    {
     "name": "stderr",
     "output_type": "stream",
     "text": [
      " 9ea77d5fb7aa Downloading [=========================================>         ]  10.52MB/12.82MB\n",
      " 2c6d21737d83 Downloading [============================>                      ]  16.83MB/29.18MB\n",
      " 9ea77d5fb7aa Downloading [============================================>      ]  11.31MB/12.82MB\n",
      " 2c6d21737d83 Downloading [=============================>                     ]  17.43MB/29.18MB\n"
     ]
    },
    {
     "name": "stderr",
     "output_type": "stream",
     "text": [
      " 9ea77d5fb7aa Downloading [==============================================>    ]  11.96MB/12.82MB\n",
      " 2c6d21737d83 Downloading [==============================>                    ]  18.02MB/29.18MB\n",
      " 9ea77d5fb7aa Downloading [================================================>  ]  12.36MB/12.82MB\n",
      " 9ea77d5fb7aa Verifying Checksum \n",
      " 9ea77d5fb7aa Download complete \n",
      " 17b48befe903 Downloading [>                                                  ]  34.81kB/3.394MB\n",
      " 2c6d21737d83 Downloading [================================>                  ]   18.9MB/29.18MB\n"
     ]
    },
    {
     "name": "stderr",
     "output_type": "stream",
     "text": [
      " 17b48befe903 Downloading [======>                                            ]  462.1kB/3.394MB\n",
      " 2c6d21737d83 Downloading [================================>                  ]  19.19MB/29.18MB\n",
      " 17b48befe903 Downloading [====================>                              ]  1.388MB/3.394MB\n",
      " 2c6d21737d83 Downloading [==================================>                ]  20.08MB/29.18MB\n"
     ]
    },
    {
     "name": "stderr",
     "output_type": "stream",
     "text": [
      " 17b48befe903 Downloading [=============================>                     ]  2.027MB/3.394MB\n",
      " 2c6d21737d83 Downloading [===================================>               ]  20.67MB/29.18MB\n",
      " 17b48befe903 Downloading [=======================================>           ]  2.715MB/3.394MB\n",
      " 2c6d21737d83 Downloading [====================================>              ]  21.26MB/29.18MB\n",
      " 17b48befe903 Downloading [==================================================>]  3.394MB/3.394MB\n",
      " 17b48befe903 Verifying Checksum \n",
      " 17b48befe903 Download complete \n"
     ]
    },
    {
     "name": "stderr",
     "output_type": "stream",
     "text": [
      " 2c6d21737d83 Downloading [=====================================>             ]  22.14MB/29.18MB\n",
      " db5de9e6dd0e Downloading [==================================================>]     104B/104B\n",
      " db5de9e6dd0e Verifying Checksum \n",
      " db5de9e6dd0e Download complete \n",
      " 2c6d21737d83 Downloading [=======================================>           ]  23.04MB/29.18MB\n"
     ]
    },
    {
     "name": "stderr",
     "output_type": "stream",
     "text": [
      " 2c6d21737d83 Downloading [=========================================>         ]  24.22MB/29.18MB\n",
      " 2c6d21737d83 Downloading [===========================================>       ]   25.4MB/29.18MB\n",
      " 7397a18bfb21 Downloading [==>                                                ]     720B/12.64kB\n",
      " 7397a18bfb21 Downloading [==================================================>]  12.64kB/12.64kB\n",
      " 7397a18bfb21 Verifying Checksum \n",
      " 7397a18bfb21 Download complete \n"
     ]
    },
    {
     "name": "stderr",
     "output_type": "stream",
     "text": [
      " 2c6d21737d83 Downloading [=============================================>     ]  26.59MB/29.18MB\n",
      " 2c6d21737d83 Downloading [===============================================>   ]  27.78MB/29.18MB\n"
     ]
    },
    {
     "name": "stderr",
     "output_type": "stream",
     "text": [
      " 2c6d21737d83 Downloading [=================================================> ]  28.97MB/29.18MB\n",
      " 2c6d21737d83 Verifying Checksum \n",
      " 2c6d21737d83 Download complete \n",
      " 2c6d21737d83 Extracting [>                                                  ]  294.9kB/29.18MB\n",
      " 2c6d21737d83 Extracting [============>                                      ]  7.373MB/29.18MB\n"
     ]
    },
    {
     "name": "stderr",
     "output_type": "stream",
     "text": [
      " 2c6d21737d83 Extracting [====================>                              ]   11.8MB/29.18MB\n",
      " aef364da5907 Downloading [>                                                  ]  523.5kB/51.3MB\n",
      " 2c6d21737d83 Extracting [==================================>                ]  20.05MB/29.18MB\n"
     ]
    },
    {
     "name": "stderr",
     "output_type": "stream",
     "text": [
      " aeb9f260d781 Downloading [>                                                  ]  291.7kB/28.4MB\n",
      " 2c6d21737d83 Extracting [=========================================>         ]  24.18MB/29.18MB\n",
      " aef364da5907 Downloading [==>                                                ]  2.095MB/51.3MB\n",
      " 2c6d21737d83 Extracting [===============================================>   ]  27.72MB/29.18MB\n",
      " aef364da5907 Downloading [===>                                               ]   3.14MB/51.3MB\n",
      " aeb9f260d781 Downloading [==>                                                ]   1.16MB/28.4MB\n"
     ]
    },
    {
     "name": "stderr",
     "output_type": "stream",
     "text": [
      " aeb9f260d781 Downloading [===>                                               ]   1.75MB/28.4MB\n",
      " 2c6d21737d83 Extracting [================================================>  ]  28.31MB/29.18MB\n",
      " aef364da5907 Downloading [====>                                              ]  4.188MB/51.3MB\n",
      " aeb9f260d781 Downloading [====>                                              ]  2.635MB/28.4MB\n",
      " 2c6d21737d83 Extracting [==================================================>]  29.18MB/29.18MB\n",
      " aef364da5907 Downloading [====>                                              ]  4.717MB/51.3MB\n",
      " c9c3988b1198 Downloading [>                                                  ]  192.7kB/18.86MB\n",
      " 2c6d21737d83 Pull complete \n",
      " eed0175a0a2c Extracting [>                                                  ]  65.54kB/3.328MB\n"
     ]
    },
    {
     "name": "stderr",
     "output_type": "stream",
     "text": [
      " eed0175a0a2c Extracting [==================================================>]  3.328MB/3.328MB\n",
      " eed0175a0a2c Extracting [==================================================>]  3.328MB/3.328MB\n",
      " eed0175a0a2c Pull complete \n",
      " 9ea77d5fb7aa Extracting [>                                                  ]  131.1kB/12.82MB\n",
      " aeb9f260d781 Downloading [=====>                                             ]  3.224MB/28.4MB\n",
      " aef364da5907 Downloading [=====>                                             ]  5.765MB/51.3MB\n",
      " 9ea77d5fb7aa Extracting [==================>                                ]  4.719MB/12.82MB\n",
      " c9c3988b1198 Downloading [=>                                                 ]  392.4kB/18.86MB\n",
      " aeb9f260d781 Downloading [======>                                            ]   3.81MB/28.4MB\n"
     ]
    },
    {
     "name": "stderr",
     "output_type": "stream",
     "text": [
      " aef364da5907 Downloading [======>                                            ]  6.814MB/51.3MB\n",
      " 9ea77d5fb7aa Extracting [======================================>            ]  9.961MB/12.82MB\n",
      " aeb9f260d781 Downloading [========>                                          ]  4.687MB/28.4MB\n",
      " 9ea77d5fb7aa Extracting [================================================>  ]  12.45MB/12.82MB\n",
      " 9ea77d5fb7aa Extracting [==================================================>]  12.82MB/12.82MB\n",
      " c9c3988b1198 Downloading [=>                                                 ]    589kB/18.86MB\n",
      " 9ea77d5fb7aa Pull complete \n",
      " a745ecb651c2 Extracting [==================================================>]     245B/245B\n",
      " a745ecb651c2 Extracting [==================================================>]     245B/245B\n",
      " a745ecb651c2 Pull complete \n",
      " 17b48befe903 Extracting [>                                                  ]  65.54kB/3.394MB\n",
      " aeb9f260d781 Downloading [=========>                                         ]  5.276MB/28.4MB\n",
      " aef364da5907 Downloading [=======>                                           ]  7.854MB/51.3MB\n"
     ]
    },
    {
     "name": "stderr",
     "output_type": "stream",
     "text": [
      " 17b48befe903 Extracting [==============================>                    ]  2.097MB/3.394MB\n",
      " aeb9f260d781 Downloading [==========>                                        ]  5.862MB/28.4MB\n",
      " 17b48befe903 Extracting [==================================================>]  3.394MB/3.394MB\n",
      " 17b48befe903 Pull complete \n",
      " db5de9e6dd0e Extracting [==================================================>]     104B/104B\n",
      " db5de9e6dd0e Extracting [==================================================>]     104B/104B\n",
      " db5de9e6dd0e Pull complete \n",
      " 7397a18bfb21 Extracting [==================================================>]  12.64kB/12.64kB\n",
      " 7397a18bfb21 Extracting [==================================================>]  12.64kB/12.64kB\n",
      " 7397a18bfb21 Pull complete \n",
      " aef364da5907 Downloading [========>                                          ]  8.903MB/51.3MB\n",
      " c9c3988b1198 Downloading [==>                                                ]  785.6kB/18.86MB\n"
     ]
    },
    {
     "name": "stderr",
     "output_type": "stream",
     "text": [
      " aef364da5907 Downloading [=========>                                         ]  9.951MB/51.3MB\n",
      " aeb9f260d781 Downloading [===========>                                       ]  6.452MB/28.4MB\n",
      " c9c3988b1198 Downloading [==>                                                ]  982.3kB/18.86MB\n",
      " aeb9f260d781 Downloading [============>                                      ]  7.329MB/28.4MB\n",
      " aef364da5907 Downloading [==========>                                        ]  10.99MB/51.3MB\n"
     ]
    },
    {
     "name": "stderr",
     "output_type": "stream",
     "text": [
      " aeb9f260d781 Downloading [=============>                                     ]  7.918MB/28.4MB\n",
      " aef364da5907 Downloading [===========>                                       ]  11.51MB/51.3MB\n",
      " c9c3988b1198 Downloading [===>                                               ]  1.179MB/18.86MB\n",
      " aeb9f260d781 Downloading [==============>                                    ]  8.508MB/28.4MB\n",
      " aef364da5907 Downloading [============>                                      ]  12.56MB/51.3MB\n"
     ]
    },
    {
     "name": "stderr",
     "output_type": "stream",
     "text": [
      " aeb9f260d781 Downloading [================>                                  ]  9.098MB/28.4MB\n",
      " c9c3988b1198 Downloading [===>                                               ]  1.375MB/18.86MB\n",
      " aef364da5907 Downloading [=============>                                     ]  13.61MB/51.3MB\n",
      " aeb9f260d781 Downloading [=================>                                 ]  9.688MB/28.4MB\n"
     ]
    },
    {
     "name": "stderr",
     "output_type": "stream",
     "text": [
      " c9c3988b1198 Downloading [====>                                              ]  1.572MB/18.86MB\n",
      " aef364da5907 Downloading [==============>                                    ]  14.65MB/51.3MB\n",
      " aeb9f260d781 Downloading [==================>                                ]  10.57MB/28.4MB\n",
      " aef364da5907 Downloading [===============>                                   ]   15.7MB/51.3MB\n",
      " aeb9f260d781 Downloading [===================>                               ]  11.16MB/28.4MB\n",
      " c9c3988b1198 Downloading [====>                                              ]  1.769MB/18.86MB\n"
     ]
    },
    {
     "name": "stderr",
     "output_type": "stream",
     "text": [
      " aef364da5907 Downloading [===============>                                   ]  16.23MB/51.3MB\n",
      " aeb9f260d781 Downloading [====================>                              ]  11.45MB/28.4MB\n",
      " c9c3988b1198 Downloading [=====>                                             ]  1.965MB/18.86MB\n",
      " aeb9f260d781 Downloading [=====================>                             ]  12.34MB/28.4MB\n",
      " aef364da5907 Downloading [================>                                  ]  17.27MB/51.3MB\n"
     ]
    },
    {
     "name": "stderr",
     "output_type": "stream",
     "text": [
      " c9c3988b1198 Downloading [=====>                                             ]  2.162MB/18.86MB\n",
      " aeb9f260d781 Downloading [======================>                            ]  12.93MB/28.4MB\n",
      " aef364da5907 Downloading [=================>                                 ]  18.32MB/51.3MB\n",
      " aeb9f260d781 Downloading [=======================>                           ]  13.52MB/28.4MB\n",
      " c9c3988b1198 Downloading [======>                                            ]  2.359MB/18.86MB\n"
     ]
    },
    {
     "name": "stderr",
     "output_type": "stream",
     "text": [
      " aef364da5907 Downloading [==================>                                ]  19.37MB/51.3MB\n",
      " aeb9f260d781 Downloading [========================>                          ]  14.11MB/28.4MB\n",
      " c9c3988b1198 Downloading [======>                                            ]  2.555MB/18.86MB\n",
      " aef364da5907 Downloading [===================>                               ]  20.41MB/51.3MB\n",
      " aeb9f260d781 Downloading [=========================>                         ]   14.7MB/28.4MB\n",
      " c9c3988b1198 Downloading [=======>                                           ]  2.752MB/18.86MB\n"
     ]
    },
    {
     "name": "stderr",
     "output_type": "stream",
     "text": [
      " aef364da5907 Downloading [====================>                              ]  20.93MB/51.3MB\n",
      " aeb9f260d781 Downloading [==========================>                        ]  15.29MB/28.4MB\n",
      " c9c3988b1198 Downloading [=======>                                           ]  2.948MB/18.86MB\n",
      " aef364da5907 Downloading [=====================>                             ]  21.98MB/51.3MB\n",
      " aeb9f260d781 Downloading [===========================>                       ]  15.88MB/28.4MB\n"
     ]
    },
    {
     "name": "stderr",
     "output_type": "stream",
     "text": [
      " c9c3988b1198 Downloading [========>                                          ]  3.346MB/18.86MB\n",
      " aeb9f260d781 Downloading [============================>                      ]  16.47MB/28.4MB\n",
      " aef364da5907 Downloading [======================>                            ]  23.03MB/51.3MB\n",
      " c9c3988b1198 Downloading [=========>                                         ]  3.542MB/18.86MB\n",
      " aeb9f260d781 Downloading [==============================>                    ]  17.06MB/28.4MB\n"
     ]
    },
    {
     "name": "stderr",
     "output_type": "stream",
     "text": [
      " aef364da5907 Downloading [=======================>                           ]  24.07MB/51.3MB\n",
      " aeb9f260d781 Downloading [===============================>                   ]  17.65MB/28.4MB\n",
      " c9c3988b1198 Downloading [==========>                                        ]  3.935MB/18.86MB\n",
      " aeb9f260d781 Downloading [================================>                  ]  18.24MB/28.4MB\n",
      " aef364da5907 Downloading [========================>                          ]  25.12MB/51.3MB\n"
     ]
    },
    {
     "name": "stderr",
     "output_type": "stream",
     "text": [
      " c9c3988b1198 Downloading [==========>                                        ]  4.132MB/18.86MB\n",
      " aeb9f260d781 Downloading [=================================>                 ]  18.83MB/28.4MB\n",
      " aef364da5907 Downloading [=========================>                         ]  26.17MB/51.3MB\n",
      " c9c3988b1198 Downloading [===========>                                       ]  4.525MB/18.86MB\n"
     ]
    },
    {
     "name": "stderr",
     "output_type": "stream",
     "text": [
      " aeb9f260d781 Downloading [==================================>                ]  19.42MB/28.4MB\n",
      " c9c3988b1198 Downloading [============>                                      ]  4.722MB/18.86MB\n",
      " aef364da5907 Downloading [==========================>                        ]  27.22MB/51.3MB\n",
      " aeb9f260d781 Downloading [===================================>               ]     20MB/28.4MB\n"
     ]
    },
    {
     "name": "stderr",
     "output_type": "stream",
     "text": [
      " c9c3988b1198 Downloading [=============>                                     ]  5.115MB/18.86MB\n",
      " aef364da5907 Downloading [===========================>                       ]  28.26MB/51.3MB\n",
      " aeb9f260d781 Downloading [====================================>              ]  20.59MB/28.4MB\n"
     ]
    },
    {
     "name": "stderr",
     "output_type": "stream",
     "text": [
      " aeb9f260d781 Downloading [=====================================>             ]  21.47MB/28.4MB\n",
      " c9c3988b1198 Downloading [==============>                                    ]  5.508MB/18.86MB\n",
      " aef364da5907 Downloading [============================>                      ]   29.3MB/51.3MB\n",
      " c9c3988b1198 Downloading [===============>                                   ]  5.705MB/18.86MB\n",
      " aeb9f260d781 Downloading [======================================>            ]  22.06MB/28.4MB\n",
      " aef364da5907 Downloading [=============================>                     ]  29.82MB/51.3MB\n"
     ]
    },
    {
     "name": "stderr",
     "output_type": "stream",
     "text": [
      " aef364da5907 Downloading [==============================>                    ]  30.87MB/51.3MB\n",
      " aeb9f260d781 Downloading [========================================>          ]  22.95MB/28.4MB\n",
      " c9c3988b1198 Downloading [================>                                  ]  6.295MB/18.86MB\n",
      " c9c3988b1198 Downloading [=================>                                 ]  6.491MB/18.86MB\n",
      " aeb9f260d781 Downloading [=========================================>         ]  23.54MB/28.4MB\n",
      " aef364da5907 Downloading [===============================>                   ]  31.91MB/51.3MB\n"
     ]
    },
    {
     "name": "stderr",
     "output_type": "stream",
     "text": [
      " aef364da5907 Downloading [===============================>                   ]  32.44MB/51.3MB\n",
      " aeb9f260d781 Downloading [==========================================>        ]  24.13MB/28.4MB\n",
      " c9c3988b1198 Downloading [==================>                                ]  6.885MB/18.86MB\n",
      " c9c3988b1198 Downloading [==================>                                ]  7.081MB/18.86MB\n",
      " aef364da5907 Downloading [================================>                  ]  32.96MB/51.3MB\n",
      " aeb9f260d781 Downloading [============================================>      ]  25.01MB/28.4MB\n"
     ]
    },
    {
     "name": "stderr",
     "output_type": "stream",
     "text": [
      " c9c3988b1198 Downloading [===================>                               ]  7.474MB/18.86MB\n",
      " aef364da5907 Downloading [=================================>                 ]  34.01MB/51.3MB\n",
      " aeb9f260d781 Downloading [=============================================>     ]   25.6MB/28.4MB\n",
      " c9c3988b1198 Downloading [====================>                              ]  7.671MB/18.86MB\n",
      " aeb9f260d781 Downloading [=============================================>     ]  25.89MB/28.4MB\n",
      " aef364da5907 Downloading [=================================>                 ]  34.54MB/51.3MB\n"
     ]
    },
    {
     "name": "stderr",
     "output_type": "stream",
     "text": [
      " aeb9f260d781 Downloading [===============================================>   ]  26.77MB/28.4MB\n",
      " c9c3988b1198 Downloading [=====================>                             ]  8.064MB/18.86MB\n",
      " aef364da5907 Downloading [==================================>                ]  35.58MB/51.3MB\n",
      " aeb9f260d781 Downloading [================================================>  ]  27.36MB/28.4MB\n",
      " c9c3988b1198 Downloading [======================>                            ]  8.457MB/18.86MB\n",
      " aef364da5907 Downloading [===================================>               ]  36.11MB/51.3MB\n"
     ]
    },
    {
     "name": "stderr",
     "output_type": "stream",
     "text": [
      " aeb9f260d781 Downloading [=================================================> ]  27.95MB/28.4MB\n",
      " c9c3988b1198 Downloading [=======================>                           ]  8.851MB/18.86MB\n",
      " aef364da5907 Downloading [====================================>              ]  37.16MB/51.3MB\n",
      " aeb9f260d781 Verifying Checksum \n",
      " aeb9f260d781 Download complete \n",
      " aeb9f260d781 Extracting [>                                                  ]  294.9kB/28.4MB\n",
      " c9c3988b1198 Downloading [========================>                          ]  9.244MB/18.86MB\n"
     ]
    },
    {
     "name": "stderr",
     "output_type": "stream",
     "text": [
      " aeb9f260d781 Extracting [=============>                                     ]  7.668MB/28.4MB\n",
      " aef364da5907 Downloading [=====================================>             ]  38.21MB/51.3MB\n",
      " c9c3988b1198 Downloading [=========================>                         ]  9.637MB/18.86MB\n",
      " aeb9f260d781 Extracting [=========================>                         ]  14.75MB/28.4MB\n",
      " c9c3988b1198 Downloading [==========================>                        ]  10.03MB/18.86MB\n",
      " aef364da5907 Downloading [======================================>            ]  39.25MB/51.3MB\n"
     ]
    },
    {
     "name": "stderr",
     "output_type": "stream",
     "text": [
      " aeb9f260d781 Extracting [==========================================>        ]  23.89MB/28.4MB\n",
      " aeb9f260d781 Extracting [===========================================>       ]  24.48MB/28.4MB\n",
      " c9c3988b1198 Downloading [============================>                      ]  10.62MB/18.86MB\n",
      " aef364da5907 Downloading [=======================================>           ]  40.29MB/51.3MB\n"
     ]
    },
    {
     "name": "stderr",
     "output_type": "stream",
     "text": [
      " aeb9f260d781 Extracting [===============================================>   ]  27.13MB/28.4MB\n",
      " c9c3988b1198 Downloading [=============================>                     ]  11.21MB/18.86MB\n",
      " aef364da5907 Downloading [========================================>          ]  41.34MB/51.3MB\n",
      " aeb9f260d781 Extracting [=================================================> ]  28.31MB/28.4MB\n",
      " aeb9f260d781 Extracting [==================================================>]   28.4MB/28.4MB\n",
      " aef364da5907 Downloading [========================================>          ]  41.87MB/51.3MB\n",
      " c9c3988b1198 Downloading [==============================>                    ]  11.61MB/18.86MB\n",
      " aeb9f260d781 Pull complete \n"
     ]
    },
    {
     "name": "stderr",
     "output_type": "stream",
     "text": [
      " 0451cfbb70a8 Downloading [>                                                  ]  473.4kB/46.62MB\n",
      " c9c3988b1198 Downloading [===============================>                   ]     12MB/18.86MB\n",
      " aef364da5907 Downloading [=========================================>         ]  42.92MB/51.3MB\n",
      " c9c3988b1198 Downloading [================================>                  ]  12.39MB/18.86MB\n",
      " aef364da5907 Downloading [==========================================>        ]  43.97MB/51.3MB\n"
     ]
    },
    {
     "name": "stderr",
     "output_type": "stream",
     "text": [
      " 0451cfbb70a8 Downloading [=>                                                 ]  948.5kB/46.62MB\n",
      " c9c3988b1198 Downloading [=================================>                 ]  12.79MB/18.86MB\n",
      " aef364da5907 Downloading [===========================================>       ]  45.01MB/51.3MB\n",
      " c9c3988b1198 Downloading [==================================>                ]  13.18MB/18.86MB\n"
     ]
    },
    {
     "name": "stderr",
     "output_type": "stream",
     "text": [
      " aef364da5907 Downloading [============================================>      ]  45.53MB/51.3MB\n",
      " 0451cfbb70a8 Downloading [=>                                                 ]  1.424MB/46.62MB\n",
      " c9c3988b1198 Downloading [===================================>               ]  13.57MB/18.86MB\n",
      " aef364da5907 Downloading [=============================================>     ]  46.57MB/51.3MB\n",
      " c9c3988b1198 Downloading [=====================================>             ]  13.97MB/18.86MB\n"
     ]
    },
    {
     "name": "stderr",
     "output_type": "stream",
     "text": [
      " 0451cfbb70a8 Downloading [==>                                                ]  1.899MB/46.62MB\n",
      " c9c3988b1198 Downloading [======================================>            ]  14.36MB/18.86MB\n",
      " aef364da5907 Downloading [==============================================>    ]  47.62MB/51.3MB\n",
      " c9c3988b1198 Downloading [=======================================>           ]  14.75MB/18.86MB\n",
      " 0451cfbb70a8 Downloading [==>                                                ]  2.366MB/46.62MB\n"
     ]
    },
    {
     "name": "stderr",
     "output_type": "stream",
     "text": [
      " aef364da5907 Downloading [===============================================>   ]  48.67MB/51.3MB\n",
      " c9c3988b1198 Downloading [========================================>          ]  15.15MB/18.86MB\n",
      " c9c3988b1198 Downloading [=========================================>         ]  15.54MB/18.86MB\n",
      " 0451cfbb70a8 Downloading [===>                                               ]  2.841MB/46.62MB\n",
      " aef364da5907 Downloading [================================================>  ]  49.71MB/51.3MB\n"
     ]
    },
    {
     "name": "stderr",
     "output_type": "stream",
     "text": [
      " c9c3988b1198 Downloading [==========================================>        ]  15.93MB/18.86MB\n",
      " aef364da5907 Downloading [=================================================> ]  50.76MB/51.3MB\n",
      " c9c3988b1198 Downloading [===========================================>       ]  16.32MB/18.86MB\n",
      " 0451cfbb70a8 Downloading [===>                                               ]  3.316MB/46.62MB\n",
      " aef364da5907 Verifying Checksum \n",
      " aef364da5907 Download complete \n"
     ]
    },
    {
     "name": "stderr",
     "output_type": "stream",
     "text": [
      " aef364da5907 Extracting [>                                                  ]  524.3kB/51.3MB\n",
      " c9c3988b1198 Downloading [============================================>      ]  16.92MB/18.86MB\n",
      " 0451cfbb70a8 Downloading [====>                                              ]  3.795MB/46.62MB\n",
      " aef364da5907 Extracting [=============>                                     ]  14.16MB/51.3MB\n",
      " c9c3988b1198 Downloading [==============================================>    ]  17.51MB/18.86MB\n"
     ]
    },
    {
     "name": "stderr",
     "output_type": "stream",
     "text": [
      " aef364da5907 Extracting [=====================>                             ]  22.54MB/51.3MB\n",
      " 0451cfbb70a8 Downloading [====>                                              ]   4.27MB/46.62MB\n",
      " c9c3988b1198 Downloading [===============================================>   ]   18.1MB/18.86MB\n",
      " 0451cfbb70a8 Downloading [=====>                                             ]  4.746MB/46.62MB\n",
      " c9c3988b1198 Verifying Checksum \n",
      " c9c3988b1198 Download complete \n",
      " aef364da5907 Extracting [=======================>                           ]  24.12MB/51.3MB\n",
      " c9c3988b1198 Extracting [>                                                  ]  196.6kB/18.86MB\n"
     ]
    },
    {
     "name": "stderr",
     "output_type": "stream",
     "text": [
      " 0451cfbb70a8 Downloading [=====>                                             ]  5.221MB/46.62MB\n",
      " 332ede580b74 Download complete \n",
      " aef364da5907 Extracting [=========================>                         ]  26.21MB/51.3MB\n",
      " c9c3988b1198 Extracting [================>                                  ]  6.095MB/18.86MB\n",
      " aef364da5907 Extracting [===========================>                       ]  27.79MB/51.3MB\n",
      " c9c3988b1198 Extracting [==============================>                    ]   11.4MB/18.86MB\n",
      " 0451cfbb70a8 Downloading [======>                                            ]  6.171MB/46.62MB\n"
     ]
    },
    {
     "name": "stderr",
     "output_type": "stream",
     "text": [
      " aef364da5907 Extracting [============================>                      ]  29.36MB/51.3MB\n",
      " c9c3988b1198 Extracting [==========================================>        ]  16.12MB/18.86MB\n",
      " 0451cfbb70a8 Downloading [=======>                                           ]  7.121MB/46.62MB\n",
      " 96b8f9c326b7 Downloading [=================================================> ]     722B/734B\n",
      " 96b8f9c326b7 Downloading [==================================================>]     734B/734B\n",
      " 96b8f9c326b7 Verifying Checksum \n",
      " 96b8f9c326b7 Download complete \n",
      " c9c3988b1198 Extracting [==============================================>    ]  17.69MB/18.86MB\n",
      " 0451cfbb70a8 Downloading [========>                                          ]  8.063MB/46.62MB\n",
      " aef364da5907 Extracting [================================>                  ]  33.03MB/51.3MB\n"
     ]
    },
    {
     "name": "stderr",
     "output_type": "stream",
     "text": [
      " 0451cfbb70a8 Downloading [=========>                                         ]  9.005MB/46.62MB\n",
      " aef364da5907 Extracting [=====================================>             ]   38.8MB/51.3MB\n",
      " c9c3988b1198 Extracting [===============================================>   ]  17.89MB/18.86MB\n",
      " 74bb957b6d85 Downloading [>                                                  ]  176.5kB/17.5MB\n",
      " 0451cfbb70a8 Downloading [==========>                                        ]  9.952MB/46.62MB\n",
      " aef364da5907 Extracting [=======================================>           ]  40.89MB/51.3MB\n",
      " c9c3988b1198 Extracting [==================================================>]  18.86MB/18.86MB\n",
      " 74bb957b6d85 Downloading [==>                                                ]  720.9kB/17.5MB\n",
      " c9c3988b1198 Pull complete \n"
     ]
    },
    {
     "name": "stderr",
     "output_type": "stream",
     "text": [
      " aef364da5907 Extracting [==========================================>        ]  43.52MB/51.3MB\n",
      " 0451cfbb70a8 Downloading [===========>                                       ]  10.91MB/46.62MB\n",
      " 74bb957b6d85 Downloading [====>                                              ]  1.442MB/17.5MB\n",
      " aef364da5907 Extracting [===========================================>       ]  45.09MB/51.3MB\n",
      " 74bb957b6d85 Downloading [=====>                                             ]  1.982MB/17.5MB\n",
      " 0451cfbb70a8 Downloading [============>                                      ]  11.86MB/46.62MB\n"
     ]
    },
    {
     "name": "stderr",
     "output_type": "stream",
     "text": [
      " aef364da5907 Extracting [==============================================>    ]  47.71MB/51.3MB\n",
      " aef364da5907 Extracting [==================================================>]   51.3MB/51.3MB\n",
      " 74bb957b6d85 Downloading [========>                                          ]  2.884MB/17.5MB\n",
      " aef364da5907 Pull complete \n",
      " metrics Pulled \n",
      " 0451cfbb70a8 Downloading [=============>                                     ]  12.81MB/46.62MB\n",
      " 74bb957b6d85 Downloading [==========>                                        ]  3.615MB/17.5MB\n"
     ]
    },
    {
     "name": "stderr",
     "output_type": "stream",
     "text": [
      " 0451cfbb70a8 Downloading [==============>                                    ]  13.76MB/46.62MB\n",
      " 74bb957b6d85 Downloading [============>                                      ]  4.516MB/17.5MB\n",
      " 0451cfbb70a8 Downloading [===============>                                   ]  14.23MB/46.62MB\n",
      " 74bb957b6d85 Downloading [==============>                                    ]  5.237MB/17.5MB\n"
     ]
    },
    {
     "name": "stderr",
     "output_type": "stream",
     "text": [
      " 0451cfbb70a8 Downloading [================>                                  ]  15.18MB/46.62MB\n",
      " 74bb957b6d85 Downloading [=================>                                 ]  6.138MB/17.5MB\n",
      " 0451cfbb70a8 Downloading [=================>                                 ]  16.12MB/46.62MB\n"
     ]
    },
    {
     "name": "stderr",
     "output_type": "stream",
     "text": [
      " 74bb957b6d85 Downloading [===================>                               ]  6.859MB/17.5MB\n",
      " 0451cfbb70a8 Downloading [==================>                                ]  17.07MB/46.62MB\n",
      " 74bb957b6d85 Downloading [=====================>                             ]   7.58MB/17.5MB\n"
     ]
    },
    {
     "name": "stderr",
     "output_type": "stream",
     "text": [
      " 74bb957b6d85 Downloading [=======================>                           ]  8.301MB/17.5MB\n",
      " 0451cfbb70a8 Downloading [===================>                               ]  18.02MB/46.62MB\n",
      " 74bb957b6d85 Downloading [=========================>                         ]   8.85MB/17.5MB\n",
      " 4f4fb700ef54 Downloading [==================================================>]      32B/32B\n",
      " 4f4fb700ef54 Download complete \n",
      " 0451cfbb70a8 Downloading [====================>                              ]  18.97MB/46.62MB\n"
     ]
    },
    {
     "name": "stderr",
     "output_type": "stream",
     "text": [
      " 74bb957b6d85 Downloading [===========================>                       ]  9.751MB/17.5MB\n",
      " 0451cfbb70a8 Downloading [=====================>                             ]  19.92MB/46.62MB\n",
      " 74bb957b6d85 Downloading [=============================>                     ]  10.48MB/17.5MB\n"
     ]
    },
    {
     "name": "stderr",
     "output_type": "stream",
     "text": [
      " 74bb957b6d85 Downloading [================================>                  ]  11.21MB/17.5MB\n",
      " 0451cfbb70a8 Downloading [======================>                            ]  20.87MB/46.62MB\n",
      " 74bb957b6d85 Downloading [==================================>                ]  11.93MB/17.5MB\n"
     ]
    },
    {
     "name": "stderr",
     "output_type": "stream",
     "text": [
      " 0451cfbb70a8 Downloading [=======================>                           ]  21.82MB/46.62MB\n",
      " 74bb957b6d85 Downloading [===================================>               ]  12.47MB/17.5MB\n",
      " 74bb957b6d85 Downloading [======================================>            ]  13.37MB/17.5MB\n",
      " 0451cfbb70a8 Downloading [========================>                          ]  22.77MB/46.62MB\n"
     ]
    },
    {
     "name": "stderr",
     "output_type": "stream",
     "text": [
      " 74bb957b6d85 Downloading [========================================>          ]  14.09MB/17.5MB\n",
      " 0451cfbb70a8 Downloading [=========================>                         ]  23.72MB/46.62MB\n",
      " 74bb957b6d85 Downloading [==========================================>        ]  14.81MB/17.5MB\n",
      " 0451cfbb70a8 Downloading [=========================>                         ]  24.19MB/46.62MB\n"
     ]
    },
    {
     "name": "stderr",
     "output_type": "stream",
     "text": [
      " 8931f72440a2 Downloading [==================================================>]     231B/231B\n",
      " 8931f72440a2 Verifying Checksum \n",
      " 8931f72440a2 Download complete \n",
      " 74bb957b6d85 Downloading [============================================>      ]  15.53MB/17.5MB\n",
      " 0451cfbb70a8 Downloading [==========================>                        ]  25.13MB/46.62MB\n",
      " 74bb957b6d85 Downloading [==============================================>    ]  16.25MB/17.5MB\n"
     ]
    },
    {
     "name": "stderr",
     "output_type": "stream",
     "text": [
      " 74bb957b6d85 Downloading [================================================>  ]  16.98MB/17.5MB\n",
      " 0451cfbb70a8 Downloading [===========================>                       ]  26.08MB/46.62MB\n",
      " 74bb957b6d85 Verifying Checksum \n",
      " 74bb957b6d85 Download complete \n",
      " 0451cfbb70a8 Downloading [============================>                      ]  27.03MB/46.62MB\n"
     ]
    },
    {
     "name": "stderr",
     "output_type": "stream",
     "text": [
      " 0451cfbb70a8 Downloading [==============================>                    ]  27.98MB/46.62MB\n",
      " 296e3394b815 Downloading [>                                                  ]  393.2kB/38.22MB\n",
      " 0451cfbb70a8 Downloading [==============================>                    ]  28.46MB/46.62MB\n",
      " 296e3394b815 Downloading [==>                                                ]  1.568MB/38.22MB\n"
     ]
    },
    {
     "name": "stderr",
     "output_type": "stream",
     "text": [
      " 0451cfbb70a8 Downloading [===============================>                   ]   29.4MB/46.62MB\n",
      " 296e3394b815 Downloading [===>                                               ]  2.354MB/38.22MB\n",
      " 0451cfbb70a8 Downloading [================================>                  ]  30.35MB/46.62MB\n"
     ]
    },
    {
     "name": "stderr",
     "output_type": "stream",
     "text": [
      " 296e3394b815 Downloading [====>                                              ]  3.141MB/38.22MB\n",
      " 296e3394b815 Downloading [=====>                                             ]  3.927MB/38.22MB\n",
      " 0451cfbb70a8 Downloading [=================================>                 ]   31.3MB/46.62MB\n"
     ]
    },
    {
     "name": "stderr",
     "output_type": "stream",
     "text": [
      " 296e3394b815 Downloading [======>                                            ]  4.714MB/38.22MB\n",
      " 0451cfbb70a8 Downloading [==================================>                ]  32.25MB/46.62MB\n",
      " 296e3394b815 Downloading [=======>                                           ]    5.5MB/38.22MB\n",
      " 0451cfbb70a8 Downloading [===================================>               ]  32.72MB/46.62MB\n",
      " 97f31270b7bb Downloading [=====>                                             ]     721B/6.246kB\n"
     ]
    },
    {
     "name": "stderr",
     "output_type": "stream",
     "text": [
      " 296e3394b815 Downloading [========>                                          ]  6.281MB/38.22MB\n",
      " 0451cfbb70a8 Downloading [====================================>              ]  33.67MB/46.62MB\n",
      " 296e3394b815 Downloading [=========>                                         ]  7.068MB/38.22MB\n"
     ]
    },
    {
     "name": "stderr",
     "output_type": "stream",
     "text": [
      " 97f31270b7bb Verifying Checksum \n",
      " 97f31270b7bb Download complete \n",
      " 296e3394b815 Downloading [==========>                                        ]  7.858MB/38.22MB\n",
      " 0451cfbb70a8 Downloading [=====================================>             ]  34.62MB/46.62MB\n",
      " 296e3394b815 Downloading [===========>                                       ]  8.645MB/38.22MB\n"
     ]
    },
    {
     "name": "stderr",
     "output_type": "stream",
     "text": [
      " 0451cfbb70a8 Downloading [======================================>            ]  35.57MB/46.62MB\n",
      " 296e3394b815 Downloading [============>                                      ]  9.423MB/38.22MB\n",
      " 0451cfbb70a8 Downloading [======================================>            ]  36.05MB/46.62MB\n",
      " 296e3394b815 Downloading [=============>                                     ]  10.21MB/38.22MB\n"
     ]
    },
    {
     "name": "stderr",
     "output_type": "stream",
     "text": [
      " 296e3394b815 Downloading [==============>                                    ]     11MB/38.22MB\n",
      " 0451cfbb70a8 Downloading [=======================================>           ]  37.01MB/46.62MB\n",
      " 296e3394b815 Downloading [===============>                                   ]  12.17MB/38.22MB\n",
      " 0451cfbb70a8 Downloading [========================================>          ]  37.96MB/46.62MB\n"
     ]
    },
    {
     "name": "stderr",
     "output_type": "stream",
     "text": [
      " 296e3394b815 Downloading [================>                                  ]  12.95MB/38.22MB\n",
      " 0451cfbb70a8 Downloading [=========================================>         ]  38.91MB/46.62MB\n",
      " 296e3394b815 Downloading [=================>                                 ]  13.73MB/38.22MB\n",
      " 745ae8e68a68 Downloading [==================================>                ]     733B/1.07kB\n",
      " 745ae8e68a68 Downloading [==================================================>]   1.07kB/1.07kB\n",
      " 745ae8e68a68 Verifying Checksum \n",
      " 745ae8e68a68 Download complete \n"
     ]
    },
    {
     "name": "stderr",
     "output_type": "stream",
     "text": [
      " 296e3394b815 Downloading [==================>                                ]  14.51MB/38.22MB\n",
      " 0451cfbb70a8 Downloading [==========================================>        ]  39.86MB/46.62MB\n",
      " 296e3394b815 Downloading [====================>                              ]   15.3MB/38.22MB\n"
     ]
    },
    {
     "name": "stderr",
     "output_type": "stream",
     "text": [
      " 0451cfbb70a8 Downloading [===========================================>       ]  40.81MB/46.62MB\n",
      " 296e3394b815 Downloading [=====================>                             ]  16.08MB/38.22MB\n",
      " 296e3394b815 Downloading [======================>                            ]  16.86MB/38.22MB\n",
      " 0451cfbb70a8 Downloading [============================================>      ]  41.76MB/46.62MB\n"
     ]
    },
    {
     "name": "stderr",
     "output_type": "stream",
     "text": [
      " 296e3394b815 Downloading [=======================>                           ]  17.65MB/38.22MB\n",
      " 0451cfbb70a8 Downloading [=============================================>     ]   42.7MB/46.62MB\n",
      " 296e3394b815 Downloading [========================>                          ]  18.43MB/38.22MB\n",
      " 0451cfbb70a8 Downloading [==============================================>    ]  43.65MB/46.62MB\n"
     ]
    },
    {
     "name": "stderr",
     "output_type": "stream",
     "text": [
      " 296e3394b815 Downloading [=========================>                         ]  19.61MB/38.22MB\n",
      " 0451cfbb70a8 Downloading [===============================================>   ]   44.6MB/46.62MB\n",
      " 296e3394b815 Downloading [==========================>                        ]   20.4MB/38.22MB\n"
     ]
    },
    {
     "name": "stderr",
     "output_type": "stream",
     "text": [
      " 0451cfbb70a8 Downloading [================================================>  ]  45.55MB/46.62MB\n",
      " 296e3394b815 Downloading [===========================>                       ]  21.18MB/38.22MB\n",
      " 0451cfbb70a8 Downloading [=================================================> ]   46.5MB/46.62MB\n",
      " 296e3394b815 Downloading [============================>                      ]  21.97MB/38.22MB\n",
      " 0451cfbb70a8 Verifying Checksum \n",
      " 0451cfbb70a8 Download complete \n"
     ]
    },
    {
     "name": "stderr",
     "output_type": "stream",
     "text": [
      " 0451cfbb70a8 Extracting [>                                                  ]  491.5kB/46.62MB\n",
      " 296e3394b815 Downloading [==============================>                    ]  23.14MB/38.22MB\n",
      " 0451cfbb70a8 Extracting [===========>                                       ]  10.81MB/46.62MB\n",
      " 296e3394b815 Downloading [===============================>                   ]  24.32MB/38.22MB\n"
     ]
    },
    {
     "name": "stderr",
     "output_type": "stream",
     "text": [
      " 0451cfbb70a8 Extracting [=======================>                           ]  21.63MB/46.62MB\n",
      " 296e3394b815 Downloading [=================================>                 ]   25.5MB/38.22MB\n",
      " 0451cfbb70a8 Extracting [=================================>                 ]  31.46MB/46.62MB\n",
      " 296e3394b815 Downloading [==================================>                ]  26.68MB/38.22MB\n"
     ]
    },
    {
     "name": "stderr",
     "output_type": "stream",
     "text": [
      " 0451cfbb70a8 Extracting [=========================================>         ]  38.34MB/46.62MB\n",
      " 296e3394b815 Downloading [====================================>              ]  27.86MB/38.22MB\n",
      " 0451cfbb70a8 Extracting [=================================================> ]   46.2MB/46.62MB\n",
      " 0451cfbb70a8 Extracting [==================================================>]  46.62MB/46.62MB\n"
     ]
    },
    {
     "name": "stderr",
     "output_type": "stream",
     "text": [
      " 296e3394b815 Downloading [=====================================>             ]  29.03MB/38.22MB\n",
      " 08c681b30472 Downloading [==============================>                    ]     733B/1.192kB\n",
      " 08c681b30472 Downloading [==================================================>]  1.192kB/1.192kB\n",
      " 08c681b30472 Verifying Checksum \n",
      " 08c681b30472 Download complete \n",
      " 296e3394b815 Downloading [========================================>          ]   30.6MB/38.22MB\n",
      " 0451cfbb70a8 Pull complete \n",
      " 332ede580b74 Extracting [==================================================>]     160B/160B\n",
      " 332ede580b74 Extracting [==================================================>]     160B/160B\n",
      " 332ede580b74 Pull complete \n",
      " 96b8f9c326b7 Extracting [==================================================>]     734B/734B\n",
      " 96b8f9c326b7 Extracting [==================================================>]     734B/734B\n",
      " 96b8f9c326b7 Pull complete \n",
      " 74bb957b6d85 Extracting [>                                                  ]  196.6kB/17.5MB\n"
     ]
    },
    {
     "name": "stderr",
     "output_type": "stream",
     "text": [
      " 296e3394b815 Downloading [=========================================>         ]  31.78MB/38.22MB\n",
      " 74bb957b6d85 Extracting [=================================>                 ]   11.8MB/17.5MB\n",
      " 296e3394b815 Downloading [===========================================>       ]  32.95MB/38.22MB\n",
      " 74bb957b6d85 Extracting [==================================================>]   17.5MB/17.5MB\n",
      " 74bb957b6d85 Pull complete \n",
      " 4f4fb700ef54 Extracting [==================================================>]      32B/32B\n",
      " 4f4fb700ef54 Extracting [==================================================>]      32B/32B\n",
      " 4f4fb700ef54 Pull complete \n",
      " 8931f72440a2 Extracting [==================================================>]     231B/231B\n",
      " 8931f72440a2 Extracting [==================================================>]     231B/231B\n",
      " 8931f72440a2 Pull complete \n"
     ]
    },
    {
     "name": "stderr",
     "output_type": "stream",
     "text": [
      " 296e3394b815 Downloading [============================================>      ]  34.13MB/38.22MB\n",
      " 296e3394b815 Downloading [==============================================>    ]  35.71MB/38.22MB\n"
     ]
    },
    {
     "name": "stderr",
     "output_type": "stream",
     "text": [
      " 3b99d06ab85a Downloading [==================================================>]      76B/76B\n",
      " 3b99d06ab85a Verifying Checksum \n",
      " 3b99d06ab85a Download complete \n",
      " 296e3394b815 Downloading [================================================>  ]  37.28MB/38.22MB\n",
      " 296e3394b815 Verifying Checksum \n",
      " 296e3394b815 Download complete \n",
      " 296e3394b815 Extracting [>                                                  ]  393.2kB/38.22MB\n"
     ]
    },
    {
     "name": "stderr",
     "output_type": "stream",
     "text": [
      " 296e3394b815 Extracting [=========================>                         ]  19.27MB/38.22MB\n",
      " 296e3394b815 Extracting [===============================================>   ]  36.57MB/38.22MB\n",
      " 296e3394b815 Extracting [==================================================>]  38.22MB/38.22MB\n",
      " 296e3394b815 Pull complete \n",
      " 97f31270b7bb Extracting [==================================================>]  6.246kB/6.246kB\n",
      " 97f31270b7bb Extracting [==================================================>]  6.246kB/6.246kB\n",
      " 97f31270b7bb Pull complete \n",
      " 745ae8e68a68 Extracting [==================================================>]   1.07kB/1.07kB\n",
      " 745ae8e68a68 Extracting [==================================================>]   1.07kB/1.07kB\n",
      " 745ae8e68a68 Pull complete \n"
     ]
    },
    {
     "name": "stderr",
     "output_type": "stream",
     "text": [
      " 7734efb8b826 Downloading [>                                                  ]  294.9kB/28.4MB\n",
      " 7734efb8b826 Downloading [=>                                                 ]  884.7kB/28.4MB\n"
     ]
    },
    {
     "name": "stderr",
     "output_type": "stream",
     "text": [
      " 7734efb8b826 Downloading [====>                                              ]  2.359MB/28.4MB\n",
      " 7734efb8b826 Downloading [======>                                            ]  3.832MB/28.4MB\n"
     ]
    },
    {
     "name": "stderr",
     "output_type": "stream",
     "text": [
      " 7734efb8b826 Downloading [=========>                                         ]  5.307MB/28.4MB\n",
      " 7734efb8b826 Downloading [===========>                                       ]  6.781MB/28.4MB\n"
     ]
    },
    {
     "name": "stderr",
     "output_type": "stream",
     "text": [
      " 7734efb8b826 Downloading [==============>                                    ]  7.953MB/28.4MB\n",
      " 7734efb8b826 Downloading [================>                                  ]  9.423MB/28.4MB\n"
     ]
    },
    {
     "name": "stderr",
     "output_type": "stream",
     "text": [
      " 7734efb8b826 Downloading [==================>                                ]  10.59MB/28.4MB\n",
      " 15046e40bb47 Downloading [==============================>                    ]     733B/1.19kB\n",
      " 15046e40bb47 Downloading [==================================================>]   1.19kB/1.19kB\n",
      " 15046e40bb47 Verifying Checksum \n",
      " 15046e40bb47 Download complete \n",
      " 15046e40bb47 Extracting [==================================================>]   1.19kB/1.19kB\n",
      " 15046e40bb47 Extracting [==================================================>]   1.19kB/1.19kB\n",
      " 15046e40bb47 Pull complete \n",
      " 08c681b30472 Extracting [==================================================>]  1.192kB/1.192kB\n",
      " 08c681b30472 Extracting [==================================================>]  1.192kB/1.192kB\n",
      " 08c681b30472 Pull complete \n",
      " 3b99d06ab85a Extracting [==================================================>]      76B/76B\n",
      " 3b99d06ab85a Extracting [==================================================>]      76B/76B\n",
      " 3b99d06ab85a Pull complete \n",
      " 7734efb8b826 Downloading [=====================>                             ]  12.06MB/28.4MB\n",
      " fuseki Pulled \n"
     ]
    },
    {
     "name": "stderr",
     "output_type": "stream",
     "text": [
      " 7734efb8b826 Downloading [=======================>                           ]  13.54MB/28.4MB\n",
      " 7734efb8b826 Downloading [=========================>                         ]  14.71MB/28.4MB\n",
      " a17316455fb8 Downloading [>                                                  ]    132kB/12.85MB\n"
     ]
    },
    {
     "name": "stderr",
     "output_type": "stream",
     "text": [
      " 7734efb8b826 Downloading [============================>                      ]  16.18MB/28.4MB\n",
      " a17316455fb8 Downloading [=>                                                 ]  275.3kB/12.85MB\n",
      " 7734efb8b826 Downloading [==============================>                    ]  17.36MB/28.4MB\n",
      " a17316455fb8 Downloading [==>                                                ]  537.4kB/12.85MB\n"
     ]
    },
    {
     "name": "stderr",
     "output_type": "stream",
     "text": [
      " 7734efb8b826 Downloading [================================>                  ]  18.53MB/28.4MB\n",
      " a17316455fb8 Downloading [===>                                               ]  799.6kB/12.85MB\n",
      " 7734efb8b826 Downloading [==================================>                ]  19.71MB/28.4MB\n"
     ]
    },
    {
     "name": "stderr",
     "output_type": "stream",
     "text": [
      " a17316455fb8 Downloading [====>                                              ]  1.062MB/12.85MB\n",
      " 7734efb8b826 Downloading [=====================================>             ]  21.17MB/28.4MB\n",
      " 27e4beee6834 Downloading [>                                                  ]  408.8kB/40.84MB\n",
      " a17316455fb8 Downloading [====>                                              ]  1.193MB/12.85MB\n",
      " 7734efb8b826 Downloading [=======================================>           ]  22.35MB/28.4MB\n"
     ]
    },
    {
     "name": "stderr",
     "output_type": "stream",
     "text": [
      " a17316455fb8 Downloading [=====>                                             ]  1.455MB/12.85MB\n",
      " 7734efb8b826 Downloading [========================================>          ]  23.23MB/28.4MB\n",
      " a17316455fb8 Downloading [======>                                            ]  1.717MB/12.85MB\n",
      " 7734efb8b826 Downloading [==========================================>        ]  24.11MB/28.4MB\n",
      " 27e4beee6834 Downloading [=>                                                 ]  818.4kB/40.84MB\n"
     ]
    },
    {
     "name": "stderr",
     "output_type": "stream",
     "text": [
      " 7734efb8b826 Downloading [============================================>      ]     25MB/28.4MB\n",
      " a17316455fb8 Downloading [=======>                                           ]  1.991MB/12.85MB\n",
      " 7734efb8b826 Downloading [=============================================>     ]  25.88MB/28.4MB\n",
      " a17316455fb8 Downloading [========>                                          ]  2.258MB/12.85MB\n"
     ]
    },
    {
     "name": "stderr",
     "output_type": "stream",
     "text": [
      " 27e4beee6834 Downloading [=>                                                 ]  1.228MB/40.84MB\n",
      " a17316455fb8 Downloading [=========>                                         ]   2.52MB/12.85MB\n",
      " 7734efb8b826 Downloading [===============================================>   ]  27.06MB/28.4MB\n",
      " 7734efb8b826 Downloading [=================================================> ]  28.24MB/28.4MB\n",
      " a17316455fb8 Downloading [===========>                                       ]  2.913MB/12.85MB\n",
      " 7734efb8b826 Verifying Checksum \n",
      " 7734efb8b826 Download complete \n"
     ]
    },
    {
     "name": "stderr",
     "output_type": "stream",
     "text": [
      " 27e4beee6834 Downloading [==>                                                ]  1.638MB/40.84MB\n",
      " 7734efb8b826 Extracting [>                                                  ]  294.9kB/28.4MB\n",
      " a17316455fb8 Downloading [============>                                      ]  3.306MB/12.85MB\n",
      " 7734efb8b826 Extracting [============>                                      ]  7.373MB/28.4MB\n",
      " a17316455fb8 Downloading [==============>                                    ]    3.7MB/12.85MB\n"
     ]
    },
    {
     "name": "stderr",
     "output_type": "stream",
     "text": [
      " 7734efb8b826 Extracting [========================>                          ]  13.86MB/28.4MB\n",
      " a17316455fb8 Downloading [================>                                  ]  4.224MB/12.85MB\n",
      " 27e4beee6834 Downloading [==>                                                ]  2.047MB/40.84MB\n",
      " 7734efb8b826 Extracting [=========================================>         ]   23.3MB/28.4MB\n",
      " a17316455fb8 Downloading [==================>                                ]  4.879MB/12.85MB\n"
     ]
    },
    {
     "name": "stderr",
     "output_type": "stream",
     "text": [
      " 7734efb8b826 Extracting [==========================================>        ]  24.18MB/28.4MB\n",
      " a17316455fb8 Downloading [=====================>                             ]  5.535MB/12.85MB\n",
      " 27e4beee6834 Downloading [===>                                               ]  2.456MB/40.84MB\n",
      " 14c163f879b6 Downloading [==================================================>]     159B/159B\n",
      " 14c163f879b6 Verifying Checksum \n",
      " 7734efb8b826 Extracting [===============================================>   ]  27.13MB/28.4MB\n",
      " 14c163f879b6 Download complete \n",
      " a17316455fb8 Downloading [========================>                          ]  6.321MB/12.85MB\n"
     ]
    },
    {
     "name": "stderr",
     "output_type": "stream",
     "text": [
      " 27e4beee6834 Downloading [===>                                               ]  2.865MB/40.84MB\n",
      " 7734efb8b826 Extracting [=================================================> ]  28.31MB/28.4MB\n",
      " 7734efb8b826 Extracting [==================================================>]   28.4MB/28.4MB\n",
      " a17316455fb8 Downloading [============================>                      ]  7.238MB/12.85MB\n",
      " 27e4beee6834 Downloading [====>                                              ]  3.275MB/40.84MB\n",
      " 7734efb8b826 Pull complete \n",
      " a17316455fb8 Downloading [===============================>                   ]  8.156MB/12.85MB\n"
     ]
    },
    {
     "name": "stderr",
     "output_type": "stream",
     "text": [
      " a17316455fb8 Downloading [===================================>               ]  9.073MB/12.85MB\n",
      " 27e4beee6834 Downloading [====>                                              ]  3.685MB/40.84MB\n",
      " a17316455fb8 Downloading [======================================>            ]  9.868MB/12.85MB\n",
      " 9693f7f2e61c Downloading [=================================================> ]     722B/732B\n",
      " 9693f7f2e61c Downloading [==================================================>]     732B/732B\n",
      " 9693f7f2e61c Verifying Checksum \n",
      " 9693f7f2e61c Download complete \n",
      " 27e4beee6834 Downloading [=====>                                             ]  4.094MB/40.84MB\n"
     ]
    },
    {
     "name": "stderr",
     "output_type": "stream",
     "text": [
      " a17316455fb8 Downloading [==========================================>        ]  10.92MB/12.85MB\n",
      " 27e4beee6834 Downloading [=====>                                             ]  4.504MB/40.84MB\n",
      " a17316455fb8 Downloading [==============================================>    ]  11.97MB/12.85MB\n",
      " 27e4beee6834 Downloading [======>                                            ]  4.913MB/40.84MB\n"
     ]
    },
    {
     "name": "stderr",
     "output_type": "stream",
     "text": [
      " a17316455fb8 Verifying Checksum \n",
      " a17316455fb8 Download complete \n",
      " a17316455fb8 Extracting [>                                                  ]  131.1kB/12.85MB\n",
      " 27e4beee6834 Downloading [======>                                            ]  5.323MB/40.84MB\n",
      " a17316455fb8 Extracting [==============>                                    ]  3.801MB/12.85MB\n"
     ]
    },
    {
     "name": "stderr",
     "output_type": "stream",
     "text": [
      " a17316455fb8 Extracting [=================================>                 ]   8.52MB/12.85MB\n",
      " 27e4beee6834 Downloading [=======>                                           ]  6.142MB/40.84MB\n",
      " a17316455fb8 Extracting [===========================================>       ]  11.27MB/12.85MB\n",
      " 27e4beee6834 Downloading [========>                                          ]  6.961MB/40.84MB\n"
     ]
    },
    {
     "name": "stderr",
     "output_type": "stream",
     "text": [
      " a17316455fb8 Extracting [=============================================>     ]   11.8MB/12.85MB\n",
      " 27e4beee6834 Downloading [=========>                                         ]  7.781MB/40.84MB\n",
      " a17316455fb8 Extracting [==============================================>    ]  12.06MB/12.85MB\n",
      " a17316455fb8 Extracting [==================================================>]  12.85MB/12.85MB\n",
      " c889328dabc8 Downloading [==================================================>]     114B/114B\n",
      " c889328dabc8 Verifying Checksum \n",
      " c889328dabc8 Download complete \n",
      " 27e4beee6834 Downloading [===========>                                       ]  9.009MB/40.84MB\n",
      " a17316455fb8 Pull complete \n"
     ]
    },
    {
     "name": "stderr",
     "output_type": "stream",
     "text": [
      " 27e4beee6834 Downloading [============>                                      ]  10.24MB/40.84MB\n",
      " 27e4beee6834 Downloading [==============>                                    ]  11.47MB/40.84MB\n"
     ]
    },
    {
     "name": "stderr",
     "output_type": "stream",
     "text": [
      " 27e4beee6834 Downloading [===============>                                   ]  12.71MB/40.84MB\n",
      " 2ea7de826561 Downloading [====================>                              ]     733B/1.806kB\n",
      " 2ea7de826561 Downloading [==================================================>]  1.806kB/1.806kB\n",
      " 2ea7de826561 Verifying Checksum \n",
      " 2ea7de826561 Download complete \n",
      " 27e4beee6834 Downloading [=================>                                 ]  13.94MB/40.84MB\n"
     ]
    },
    {
     "name": "stderr",
     "output_type": "stream",
     "text": [
      " 526a004d028e Downloading [=>                                                 ]     720B/27.64kB\n",
      " 27e4beee6834 Downloading [===================>                               ]  15.58MB/40.84MB\n",
      " 526a004d028e Downloading [==================================================>]  27.64kB/27.64kB\n",
      " 526a004d028e Verifying Checksum \n",
      " 526a004d028e Download complete \n",
      " 27e4beee6834 Downloading [=====================>                             ]  17.22MB/40.84MB\n"
     ]
    },
    {
     "name": "stderr",
     "output_type": "stream",
     "text": [
      " 27e4beee6834 Downloading [======================>                            ]  18.46MB/40.84MB\n",
      " 27e4beee6834 Downloading [========================>                          ]  19.69MB/40.84MB\n"
     ]
    },
    {
     "name": "stderr",
     "output_type": "stream",
     "text": [
      " 27e4beee6834 Downloading [=========================>                         ]  20.92MB/40.84MB\n",
      " 439c271f7980 Downloading [>                                                  ]  6.153kB/605.8kB\n",
      " 27e4beee6834 Downloading [==========================>                        ]  21.74MB/40.84MB\n",
      " bd47d15f092e Downloading [=>                                                 ]  2.089kB/79.36kB\n",
      " 439c271f7980 Downloading [==============>                                    ]    180kB/605.8kB\n",
      " bd47d15f092e Downloading [==================================================>]  79.36kB/79.36kB\n",
      " bd47d15f092e Download complete \n"
     ]
    },
    {
     "name": "stderr",
     "output_type": "stream",
     "text": [
      " 27e4beee6834 Downloading [============================>                      ]  22.97MB/40.84MB\n",
      " 439c271f7980 Verifying Checksum \n",
      " 439c271f7980 Download complete \n",
      " 27e4beee6834 Downloading [=============================>                     ]   24.2MB/40.84MB\n"
     ]
    },
    {
     "name": "stderr",
     "output_type": "stream",
     "text": [
      " 27e4beee6834 Downloading [===============================>                   ]  25.85MB/40.84MB\n",
      " 27e4beee6834 Downloading [=================================>                 ]  27.08MB/40.84MB\n"
     ]
    },
    {
     "name": "stderr",
     "output_type": "stream",
     "text": [
      " 27e4beee6834 Downloading [==================================>                ]  28.31MB/40.84MB\n",
      " 27e4beee6834 Downloading [====================================>              ]  29.54MB/40.84MB\n"
     ]
    },
    {
     "name": "stderr",
     "output_type": "stream",
     "text": [
      " 27e4beee6834 Downloading [=====================================>             ]  30.77MB/40.84MB\n",
      " 27e4beee6834 Downloading [=======================================>           ]     32MB/40.84MB\n"
     ]
    },
    {
     "name": "stderr",
     "output_type": "stream",
     "text": [
      " 27e4beee6834 Downloading [=========================================>         ]  33.64MB/40.84MB\n",
      " 4c9ada70a424 Downloading [==================================>                ]     721B/1.031kB\n",
      " 4c9ada70a424 Downloading [==================================================>]  1.031kB/1.031kB\n",
      " 4c9ada70a424 Verifying Checksum \n",
      " 4c9ada70a424 Download complete \n",
      " 3b02d7187bc3 Downloading [==================>                                ]     721B/1.938kB\n",
      " 3b02d7187bc3 Downloading [==================================================>]  1.938kB/1.938kB\n",
      " 3b02d7187bc3 Verifying Checksum \n",
      " 3b02d7187bc3 Download complete \n",
      " 27e4beee6834 Downloading [==========================================>        ]  34.89MB/40.84MB\n"
     ]
    },
    {
     "name": "stderr",
     "output_type": "stream",
     "text": [
      " 27e4beee6834 Downloading [============================================>      ]  36.53MB/40.84MB\n",
      " 27e4beee6834 Downloading [==============================================>    ]  37.77MB/40.84MB\n"
     ]
    },
    {
     "name": "stderr",
     "output_type": "stream",
     "text": [
      " 27e4beee6834 Downloading [===============================================>   ]     39MB/40.84MB\n",
      " 27e4beee6834 Downloading [=================================================> ]  40.24MB/40.84MB\n",
      " 27e4beee6834 Verifying Checksum \n",
      " 27e4beee6834 Download complete \n",
      " 27e4beee6834 Extracting [>                                                  ]    426kB/40.84MB\n"
     ]
    },
    {
     "name": "stderr",
     "output_type": "stream",
     "text": [
      " 27e4beee6834 Extracting [==========>                                        ]  8.946MB/40.84MB\n",
      " 27e4beee6834 Extracting [===========================>                       ]  22.58MB/40.84MB\n"
     ]
    },
    {
     "name": "stderr",
     "output_type": "stream",
     "text": [
      " 27e4beee6834 Extracting [========================================>          ]   32.8MB/40.84MB\n",
      " 27e4beee6834 Extracting [==================================================>]  40.84MB/40.84MB\n",
      " 27e4beee6834 Pull complete \n",
      " 14c163f879b6 Extracting [==================================================>]     159B/159B\n",
      " 14c163f879b6 Extracting [==================================================>]     159B/159B\n",
      " 14c163f879b6 Pull complete \n",
      " 9693f7f2e61c Extracting [==================================================>]     732B/732B\n",
      " 9693f7f2e61c Extracting [==================================================>]     732B/732B\n",
      " 9693f7f2e61c Pull complete \n",
      " 2ea7de826561 Extracting [==================================================>]  1.806kB/1.806kB\n",
      " 2ea7de826561 Extracting [==================================================>]  1.806kB/1.806kB\n",
      " 2ea7de826561 Pull complete \n",
      " c889328dabc8 Extracting [==================================================>]     114B/114B\n",
      " c889328dabc8 Extracting [==================================================>]     114B/114B\n",
      " c889328dabc8 Pull complete \n",
      " 526a004d028e Extracting [==================================================>]  27.64kB/27.64kB\n",
      " 526a004d028e Extracting [==================================================>]  27.64kB/27.64kB\n",
      " 526a004d028e Pull complete \n",
      " 439c271f7980 Extracting [==>                                                ]  32.77kB/605.8kB\n",
      " 439c271f7980 Extracting [==================================================>]  605.8kB/605.8kB\n",
      " 439c271f7980 Pull complete \n",
      " bd47d15f092e Extracting [====================>                              ]  32.77kB/79.36kB\n",
      " bd47d15f092e Extracting [==================================================>]  79.36kB/79.36kB\n",
      " bd47d15f092e Pull complete \n",
      " 4c9ada70a424 Extracting [==================================================>]  1.031kB/1.031kB\n",
      " 4c9ada70a424 Extracting [==================================================>]  1.031kB/1.031kB\n",
      " 4c9ada70a424 Pull complete \n",
      " 3b02d7187bc3 Extracting [==================================================>]  1.938kB/1.938kB\n",
      " 3b02d7187bc3 Extracting [==================================================>]  1.938kB/1.938kB\n",
      " 3b02d7187bc3 Pull complete \n"
     ]
    },
    {
     "name": "stderr",
     "output_type": "stream",
     "text": [
      " 7b605931a7f0 Downloading [>                                                  ]  537.4kB/173.9MB\n",
      " 7b605931a7f0 Downloading [>                                                  ]   1.07MB/173.9MB\n"
     ]
    },
    {
     "name": "stderr",
     "output_type": "stream",
     "text": [
      " 7b605931a7f0 Downloading [>                                                  ]  3.208MB/173.9MB\n",
      " 7b605931a7f0 Downloading [=>                                                 ]  4.277MB/173.9MB\n"
     ]
    },
    {
     "name": "stderr",
     "output_type": "stream",
     "text": [
      " 7b605931a7f0 Downloading [=>                                                 ]  5.891MB/173.9MB\n",
      " 7b605931a7f0 Downloading [=>                                                 ]  6.956MB/173.9MB\n"
     ]
    },
    {
     "name": "stderr",
     "output_type": "stream",
     "text": [
      " 7b605931a7f0 Downloading [==>                                                ]  8.574MB/173.9MB\n",
      " 7b605931a7f0 Downloading [==>                                                ]  10.19MB/173.9MB\n"
     ]
    },
    {
     "name": "stderr",
     "output_type": "stream",
     "text": [
      " 7b605931a7f0 Downloading [===>                                               ]  11.81MB/173.9MB\n",
      " 7b605931a7f0 Downloading [===>                                               ]  13.44MB/173.9MB\n"
     ]
    },
    {
     "name": "stderr",
     "output_type": "stream",
     "text": [
      " 7b605931a7f0 Downloading [====>                                              ]  15.05MB/173.9MB\n",
      " 7b605931a7f0 Downloading [====>                                              ]  16.66MB/173.9MB\n"
     ]
    },
    {
     "name": "stderr",
     "output_type": "stream",
     "text": [
      " 7b605931a7f0 Downloading [=====>                                             ]  17.74MB/173.9MB\n",
      " 7b605931a7f0 Downloading [=====>                                             ]  19.36MB/173.9MB\n"
     ]
    },
    {
     "name": "stderr",
     "output_type": "stream",
     "text": [
      " 7b605931a7f0 Downloading [======>                                            ]  20.98MB/173.9MB\n",
      " 7b605931a7f0 Downloading [======>                                            ]  22.59MB/173.9MB\n"
     ]
    },
    {
     "name": "stderr",
     "output_type": "stream",
     "text": [
      " 7b605931a7f0 Downloading [======>                                            ]   24.2MB/173.9MB\n",
      " 7b605931a7f0 Downloading [=======>                                           ]  25.29MB/173.9MB\n"
     ]
    },
    {
     "name": "stderr",
     "output_type": "stream",
     "text": [
      " 7b605931a7f0 Downloading [=======>                                           ]   26.9MB/173.9MB\n",
      " 7b605931a7f0 Downloading [========>                                          ]  28.51MB/173.9MB\n"
     ]
    },
    {
     "name": "stderr",
     "output_type": "stream",
     "text": [
      " 7b605931a7f0 Downloading [========>                                          ]  30.13MB/173.9MB\n",
      " 7b605931a7f0 Downloading [=========>                                         ]  31.75MB/173.9MB\n"
     ]
    },
    {
     "name": "stderr",
     "output_type": "stream",
     "text": [
      " 7b605931a7f0 Downloading [=========>                                         ]  33.37MB/173.9MB\n",
      " 7b605931a7f0 Downloading [==========>                                        ]     35MB/173.9MB\n"
     ]
    },
    {
     "name": "stderr",
     "output_type": "stream",
     "text": [
      " 7b605931a7f0 Downloading [==========>                                        ]  36.07MB/173.9MB\n",
      " 7b605931a7f0 Downloading [==========>                                        ]  37.69MB/173.9MB\n"
     ]
    },
    {
     "name": "stderr",
     "output_type": "stream",
     "text": [
      " 7b605931a7f0 Downloading [===========>                                       ]  39.31MB/173.9MB\n",
      " 7b605931a7f0 Downloading [===========>                                       ]  40.93MB/173.9MB\n"
     ]
    },
    {
     "name": "stderr",
     "output_type": "stream",
     "text": [
      " 7b605931a7f0 Downloading [============>                                      ]  42.55MB/173.9MB\n",
      " 7b605931a7f0 Downloading [============>                                      ]  44.17MB/173.9MB\n"
     ]
    },
    {
     "name": "stderr",
     "output_type": "stream",
     "text": [
      " 7b605931a7f0 Downloading [=============>                                     ]  45.79MB/173.9MB\n",
      " 7b605931a7f0 Downloading [=============>                                     ]  46.87MB/173.9MB\n"
     ]
    },
    {
     "name": "stderr",
     "output_type": "stream",
     "text": [
      " 7b605931a7f0 Downloading [=============>                                     ]  48.48MB/173.9MB\n",
      " 7b605931a7f0 Downloading [==============>                                    ]  50.08MB/173.9MB\n"
     ]
    },
    {
     "name": "stderr",
     "output_type": "stream",
     "text": [
      " 7b605931a7f0 Downloading [==============>                                    ]  51.68MB/173.9MB\n",
      " 7b605931a7f0 Downloading [===============>                                   ]  53.31MB/173.9MB\n"
     ]
    },
    {
     "name": "stderr",
     "output_type": "stream",
     "text": [
      " 7b605931a7f0 Downloading [===============>                                   ]  54.93MB/173.9MB\n",
      " 7b605931a7f0 Downloading [================>                                  ]  56.55MB/173.9MB\n"
     ]
    },
    {
     "name": "stderr",
     "output_type": "stream",
     "text": [
      " 7b605931a7f0 Downloading [================>                                  ]  58.16MB/173.9MB\n",
      " 7b605931a7f0 Downloading [=================>                                 ]  59.78MB/173.9MB\n"
     ]
    },
    {
     "name": "stderr",
     "output_type": "stream",
     "text": [
      " 7b605931a7f0 Downloading [=================>                                 ]   61.4MB/173.9MB\n",
      " 7b605931a7f0 Downloading [=================>                                 ]  62.49MB/173.9MB\n"
     ]
    },
    {
     "name": "stderr",
     "output_type": "stream",
     "text": [
      " 7b605931a7f0 Downloading [==================>                                ]  64.09MB/173.9MB\n",
      " 7b605931a7f0 Downloading [==================>                                ]  65.71MB/173.9MB\n"
     ]
    },
    {
     "name": "stderr",
     "output_type": "stream",
     "text": [
      " 7b605931a7f0 Downloading [===================>                               ]  66.79MB/173.9MB\n",
      " 7b605931a7f0 Downloading [===================>                               ]  68.41MB/173.9MB\n"
     ]
    },
    {
     "name": "stderr",
     "output_type": "stream",
     "text": [
      " 7b605931a7f0 Downloading [====================>                              ]  70.02MB/173.9MB\n",
      " 7b605931a7f0 Downloading [====================>                              ]  71.64MB/173.9MB\n"
     ]
    },
    {
     "name": "stderr",
     "output_type": "stream",
     "text": [
      " 7b605931a7f0 Downloading [=====================>                             ]  73.26MB/173.9MB\n",
      " 7b605931a7f0 Downloading [=====================>                             ]  74.88MB/173.9MB\n"
     ]
    },
    {
     "name": "stderr",
     "output_type": "stream",
     "text": [
      " 7b605931a7f0 Downloading [=====================>                             ]  75.96MB/173.9MB\n",
      " 7b605931a7f0 Downloading [======================>                            ]  77.03MB/173.9MB\n"
     ]
    },
    {
     "name": "stderr",
     "output_type": "stream",
     "text": [
      " 7b605931a7f0 Downloading [======================>                            ]  78.11MB/173.9MB\n",
      " 7b605931a7f0 Downloading [=======================>                           ]  80.27MB/173.9MB\n"
     ]
    },
    {
     "name": "stderr",
     "output_type": "stream",
     "text": [
      " 7b605931a7f0 Downloading [=======================>                           ]  81.88MB/173.9MB\n",
      " 7b605931a7f0 Downloading [========================>                          ]  83.51MB/173.9MB\n"
     ]
    },
    {
     "name": "stderr",
     "output_type": "stream",
     "text": [
      " 7b605931a7f0 Downloading [========================>                          ]  84.57MB/173.9MB\n",
      " 7b605931a7f0 Downloading [========================>                          ]   86.2MB/173.9MB\n"
     ]
    },
    {
     "name": "stderr",
     "output_type": "stream",
     "text": [
      " 7b605931a7f0 Downloading [=========================>                         ]  87.81MB/173.9MB\n",
      " 7b605931a7f0 Downloading [=========================>                         ]  89.42MB/173.9MB\n"
     ]
    },
    {
     "name": "stderr",
     "output_type": "stream",
     "text": [
      " 7b605931a7f0 Downloading [==========================>                        ]  91.03MB/173.9MB\n",
      " 7b605931a7f0 Downloading [==========================>                        ]  92.64MB/173.9MB\n"
     ]
    },
    {
     "name": "stderr",
     "output_type": "stream",
     "text": [
      " 7b605931a7f0 Downloading [===========================>                       ]  94.25MB/173.9MB\n",
      " 7b605931a7f0 Downloading [===========================>                       ]  95.87MB/173.9MB\n"
     ]
    },
    {
     "name": "stderr",
     "output_type": "stream",
     "text": [
      " 7b605931a7f0 Downloading [===========================>                       ]  96.95MB/173.9MB\n",
      " 7b605931a7f0 Downloading [============================>                      ]   99.1MB/173.9MB\n"
     ]
    },
    {
     "name": "stderr",
     "output_type": "stream",
     "text": [
      " 7b605931a7f0 Downloading [============================>                      ]  100.7MB/173.9MB\n",
      " 7b605931a7f0 Downloading [=============================>                     ]  102.3MB/173.9MB\n"
     ]
    },
    {
     "name": "stderr",
     "output_type": "stream",
     "text": [
      " 7b605931a7f0 Downloading [=============================>                     ]  103.4MB/173.9MB\n",
      " 7b605931a7f0 Downloading [==============================>                    ]    105MB/173.9MB\n"
     ]
    },
    {
     "name": "stderr",
     "output_type": "stream",
     "text": [
      " 7b605931a7f0 Downloading [==============================>                    ]  107.2MB/173.9MB\n",
      " 7b605931a7f0 Downloading [===============================>                   ]  108.8MB/173.9MB\n"
     ]
    },
    {
     "name": "stderr",
     "output_type": "stream",
     "text": [
      " 7b605931a7f0 Downloading [===============================>                   ]  109.9MB/173.9MB\n",
      " 7b605931a7f0 Downloading [================================>                  ]  111.5MB/173.9MB\n"
     ]
    },
    {
     "name": "stderr",
     "output_type": "stream",
     "text": [
      " 7b605931a7f0 Downloading [================================>                  ]  113.1MB/173.9MB\n"
     ]
    },
    {
     "name": "stderr",
     "output_type": "stream",
     "text": [
      " 7b605931a7f0 Downloading [================================>                  ]  114.2MB/173.9MB\n",
      " 7b605931a7f0 Downloading [=================================>                 ]  115.8MB/173.9MB\n"
     ]
    },
    {
     "name": "stderr",
     "output_type": "stream",
     "text": [
      " 7b605931a7f0 Downloading [=================================>                 ]  117.4MB/173.9MB\n",
      " 7b605931a7f0 Downloading [==================================>                ]  119.6MB/173.9MB\n"
     ]
    },
    {
     "name": "stderr",
     "output_type": "stream",
     "text": [
      " 7b605931a7f0 Downloading [==================================>                ]  120.6MB/173.9MB\n",
      " 7b605931a7f0 Downloading [===================================>               ]  122.3MB/173.9MB\n"
     ]
    },
    {
     "name": "stderr",
     "output_type": "stream",
     "text": [
      " 7b605931a7f0 Downloading [===================================>               ]  123.9MB/173.9MB\n",
      " 7b605931a7f0 Downloading [====================================>              ]  125.5MB/173.9MB\n"
     ]
    },
    {
     "name": "stderr",
     "output_type": "stream",
     "text": [
      " 7b605931a7f0 Downloading [====================================>              ]  127.1MB/173.9MB\n",
      " 7b605931a7f0 Downloading [====================================>              ]  128.2MB/173.9MB\n"
     ]
    },
    {
     "name": "stderr",
     "output_type": "stream",
     "text": [
      " 7b605931a7f0 Downloading [=====================================>             ]  129.8MB/173.9MB\n",
      " 7b605931a7f0 Downloading [=====================================>             ]  130.9MB/173.9MB\n"
     ]
    },
    {
     "name": "stderr",
     "output_type": "stream",
     "text": [
      " 7b605931a7f0 Downloading [======================================>            ]  132.5MB/173.9MB\n",
      " 7b605931a7f0 Downloading [======================================>            ]  134.1MB/173.9MB\n"
     ]
    },
    {
     "name": "stderr",
     "output_type": "stream",
     "text": [
      " 7b605931a7f0 Downloading [=======================================>           ]  135.7MB/173.9MB\n",
      " 7b605931a7f0 Downloading [=======================================>           ]  137.3MB/173.9MB\n"
     ]
    },
    {
     "name": "stderr",
     "output_type": "stream",
     "text": [
      " 7b605931a7f0 Downloading [=======================================>           ]  138.9MB/173.9MB\n",
      " 7b605931a7f0 Downloading [========================================>          ]    140MB/173.9MB\n"
     ]
    },
    {
     "name": "stderr",
     "output_type": "stream",
     "text": [
      " 7b605931a7f0 Downloading [========================================>          ]  141.6MB/173.9MB\n",
      " 7b605931a7f0 Downloading [=========================================>         ]  143.2MB/173.9MB\n"
     ]
    },
    {
     "name": "stderr",
     "output_type": "stream",
     "text": [
      " 7b605931a7f0 Downloading [=========================================>         ]  144.3MB/173.9MB\n",
      " 7b605931a7f0 Downloading [=========================================>         ]  145.9MB/173.9MB\n"
     ]
    },
    {
     "name": "stderr",
     "output_type": "stream",
     "text": [
      " 7b605931a7f0 Downloading [==========================================>        ]    147MB/173.9MB\n",
      " 7b605931a7f0 Downloading [==========================================>        ]  148.6MB/173.9MB\n"
     ]
    },
    {
     "name": "stderr",
     "output_type": "stream",
     "text": [
      " 7b605931a7f0 Downloading [===========================================>       ]  150.3MB/173.9MB\n",
      " 7b605931a7f0 Downloading [===========================================>       ]  151.9MB/173.9MB\n"
     ]
    },
    {
     "name": "stderr",
     "output_type": "stream",
     "text": [
      " 7b605931a7f0 Downloading [===========================================>       ]  152.9MB/173.9MB\n",
      " 7b605931a7f0 Downloading [============================================>      ]  154.6MB/173.9MB\n"
     ]
    },
    {
     "name": "stderr",
     "output_type": "stream",
     "text": [
      " 7b605931a7f0 Downloading [============================================>      ]  155.6MB/173.9MB\n",
      " 7b605931a7f0 Downloading [=============================================>     ]  156.7MB/173.9MB\n"
     ]
    },
    {
     "name": "stderr",
     "output_type": "stream",
     "text": [
      " 7b605931a7f0 Downloading [=============================================>     ]  158.3MB/173.9MB\n",
      " 7b605931a7f0 Downloading [=============================================>     ]  159.4MB/173.9MB\n"
     ]
    },
    {
     "name": "stderr",
     "output_type": "stream",
     "text": [
      " 7b605931a7f0 Downloading [==============================================>    ]    161MB/173.9MB\n",
      " 7b605931a7f0 Downloading [==============================================>    ]  162.6MB/173.9MB\n"
     ]
    },
    {
     "name": "stderr",
     "output_type": "stream",
     "text": [
      " 7b605931a7f0 Downloading [===============================================>   ]  164.2MB/173.9MB\n",
      " 7b605931a7f0 Downloading [===============================================>   ]  165.3MB/173.9MB\n"
     ]
    },
    {
     "name": "stderr",
     "output_type": "stream",
     "text": [
      " 7b605931a7f0 Downloading [===============================================>   ]  166.9MB/173.9MB\n",
      " 7b605931a7f0 Downloading [================================================>  ]  168.5MB/173.9MB\n"
     ]
    },
    {
     "name": "stderr",
     "output_type": "stream",
     "text": [
      " 7b605931a7f0 Downloading [================================================>  ]  170.2MB/173.9MB\n",
      " 7b605931a7f0 Downloading [=================================================> ]  171.8MB/173.9MB\n"
     ]
    },
    {
     "name": "stderr",
     "output_type": "stream",
     "text": [
      " 7b605931a7f0 Downloading [=================================================> ]  172.8MB/173.9MB\n",
      " 7b605931a7f0 Downloading [==================================================>]  173.9MB/173.9MB\n",
      " 7b605931a7f0 Download complete \n",
      " 7b605931a7f0 Extracting [>                                                  ]  557.1kB/173.9MB\n"
     ]
    },
    {
     "name": "stderr",
     "output_type": "stream",
     "text": [
      " 7b605931a7f0 Extracting [====>                                              ]  16.15MB/173.9MB\n",
      " 7b605931a7f0 Extracting [==========>                                        ]  36.21MB/173.9MB\n"
     ]
    },
    {
     "name": "stderr",
     "output_type": "stream",
     "text": [
      " 7b605931a7f0 Extracting [=================>                                 ]   59.6MB/173.9MB\n",
      " 7b605931a7f0 Extracting [=======================>                           ]  81.33MB/173.9MB\n"
     ]
    },
    {
     "name": "stderr",
     "output_type": "stream",
     "text": [
      " 7b605931a7f0 Extracting [=============================>                     ]  104.2MB/173.9MB\n",
      " 7b605931a7f0 Extracting [====================================>              ]  125.9MB/173.9MB\n",
      " 7b605931a7f0 Extracting [==========================================>        ]  148.2MB/173.9MB\n"
     ]
    },
    {
     "name": "stderr",
     "output_type": "stream",
     "text": [
      " 7b605931a7f0 Extracting [================================================>  ]  168.8MB/173.9MB\n",
      " 7b605931a7f0 Extracting [==================================================>]  173.9MB/173.9MB\n",
      " 7b605931a7f0 Pull complete \n",
      " api Pulled \n",
      " Network stable-dracor_default  Creating\n"
     ]
    },
    {
     "name": "stderr",
     "output_type": "stream",
     "text": [
      " Network stable-dracor_default  Created\n",
      " Container stable-dracor-fuseki-1  Creating\n",
      " Container stable-dracor-metrics-1  Creating\n"
     ]
    },
    {
     "name": "stderr",
     "output_type": "stream",
     "text": [
      " Container stable-dracor-metrics-1  Created\n",
      " Container stable-dracor-fuseki-1  Created\n",
      " Container stable-dracor-api-1  Creating\n",
      " Container stable-dracor-api-1  Created\n",
      " Container stable-dracor-frontend-1  Creating\n",
      " frontend The requested image's platform (linux/amd64) does not match the detected host platform (linux/arm64/v8) and no specific platform was requested \n",
      " Container stable-dracor-frontend-1  Created\n",
      " Container stable-dracor-metrics-1  Starting\n",
      " Container stable-dracor-fuseki-1  Starting\n"
     ]
    },
    {
     "name": "stderr",
     "output_type": "stream",
     "text": [
      " Container stable-dracor-metrics-1  Started\n",
      " Container stable-dracor-fuseki-1  Started\n",
      " Container stable-dracor-api-1  Starting\n",
      " Container stable-dracor-api-1  Started\n",
      " Container stable-dracor-frontend-1  Starting\n"
     ]
    },
    {
     "name": "stderr",
     "output_type": "stream",
     "text": [
      " Container stable-dracor-frontend-1  Started\n"
     ]
    },
    {
     "data": {
      "text/plain": [
       "True"
      ]
     },
     "execution_count": 1,
     "metadata": {},
     "output_type": "execute_result"
    }
   ],
   "source": [
    "from stabledracor.client import StableDraCor\n",
    "dracor = StableDraCor()\n",
    "dracor.run()"
   ]
  },
  {
   "cell_type": "markdown",
   "id": "570ee1bc-805d-4cd3-853e-6dc60533ac6c",
   "metadata": {},
   "source": [
    "After the cell above has been executed (it should return `True`) the empty system can be accessed at http://localhost:8088.\n",
    "\n",
    "We then copy the *Tatar Drama Corpus* (TatDraCor) from the live production instance at https://dracor.org to the locally running system in the Docker container: "
   ]
  },
  {
   "cell_type": "code",
   "execution_count": 2,
   "id": "13f9e22c-afd5-41cd-93c9-f1aa09ab7d8d",
   "metadata": {
    "editable": true,
    "slideshow": {
     "slide_type": ""
    },
    "tags": [
     "remove-output"
    ]
   },
   "outputs": [
    {
     "name": "stderr",
     "output_type": "stream",
     "text": [
      "WARNING:root:Created corpus, but metadata 1 fields do not match: Fields plays are different.\n"
     ]
    },
    {
     "data": {
      "text/plain": [
       "True"
      ]
     },
     "execution_count": 2,
     "metadata": {},
     "output_type": "execute_result"
    }
   ],
   "source": [
    "dracor.copy_corpus(source_corpusname=\"tat\")"
   ]
  },
  {
   "cell_type": "markdown",
   "id": "4867cbef-3259-4a52-9d3b-c9571a537cb1",
   "metadata": {
    "editable": true,
    "slideshow": {
     "slide_type": ""
    },
    "tags": []
   },
   "source": [
    "Check http://localhost:8088/tat to view the newly added corpus. Copying a live corpus is a quick way to get something up and running locally. To make it possible to fully track the composition of a corpus and make research with DraCor repeatable, it is recommended to load corpora from GitHub instead. "
   ]
  }
 ],
 "metadata": {
  "kernelspec": {
   "display_name": "Python 3 (ipykernel)",
   "language": "python",
   "name": "python3"
  },
  "language_info": {
   "codemirror_mode": {
    "name": "ipython",
    "version": 3
   },
   "file_extension": ".py",
   "mimetype": "text/x-python",
   "name": "python",
   "nbconvert_exporter": "python",
   "pygments_lexer": "ipython3",
   "version": "3.11.8"
  }
 },
 "nbformat": 4,
 "nbformat_minor": 5
}